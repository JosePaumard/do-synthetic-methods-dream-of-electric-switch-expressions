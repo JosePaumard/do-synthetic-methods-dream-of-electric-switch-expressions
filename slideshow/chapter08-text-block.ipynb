{
  "cells": [{
  "cell_type": "markdown",
  "metadata": {
  "slideshow": {
    "slide_type": "slide"
  }
}
,
  "source": ["# Text Block\n"]
}
,
{
  "cell_type": "markdown",
  "metadata": {
  "slideshow": {
    "slide_type": "slide"
  }
}
,
  "source": ["## Design forces\n", "- add multiline strings in Java (the Kotlin way)\n", "- try to be smart about accidental indentation\n"]
}
,
{
  "cell_type": "markdown",
  "metadata": {
  "slideshow": {
    "slide_type": "slide"
  }
}
,
  "source": ["## Plain Old String\n"]
}
,
{
  "cell_type": "code",
  "execution_count": null,
  "metadata": {},
  "outputs": [],
  "source": ["System.out.println(\n", "   \"  SELECT *\\n\" +\n", "   \"  FROM users\\n\" +\n", "   \"  WHERE login == Bob\"\n", "   );"]
}
,
{
  "cell_type": "markdown",
  "metadata": {
  "slideshow": {
    "slide_type": "slide"
  }
}
,
  "source": ["## Text Block\n", "Use `\"\"\"` to start and end the String\n"]
}
,
{
  "cell_type": "code",
  "execution_count": null,
  "metadata": {},
  "outputs": [],
  "source": ["System.out.println(\"\"\"\n", "     SELECT *\n", "     FROM users\n", "     WHERE login == Bob\n", "   \"\"\"\n", "   );"]
}
,
{
  "cell_type": "markdown",
  "metadata": {
  "slideshow": {
    "slide_type": "slide"
  }
}
,
  "source": ["# Incidental white spaces\n"]
}
,
{
  "cell_type": "markdown",
  "metadata": {
  "slideshow": {
    "slide_type": "slide"
  }
}
,
  "source": ["## Text Block <=> a Block of Text\n", "Acts as a box around the text\n", "```\n", "|--------------------|\n", "|..SELECT *          |\n", "|..FROM users        |\n", "|..WHERE login == Bob|\n", "|--------------------| \n", "``` \n"]
}
,
{
  "cell_type": "markdown",
  "metadata": {
  "slideshow": {
    "slide_type": "slide"
  }
}
,
  "source": ["## Block of Text\n", "The end `\"\"\"` specifies the bottom left corner of the box\n"]
}
,
{
  "cell_type": "code",
  "execution_count": null,
  "metadata": {},
  "outputs": [],
  "source": ["System.out.println(\"\"\"\n", "       SELECT *\n", "       FROM users\n", "       WHERE login == Bob\n", "   \"\"\".replace(' ', '.')\n", "   );"]
}
,
{
  "cell_type": "markdown",
  "metadata": {
  "slideshow": {
    "slide_type": "slide"
  }
}
,
  "source": ["## Block of Text\n", "By default, spaces on the right are removed,\n", "so it's more like\n", "```\n", "|----------|\n", "|  SELECT *|\n", "|  FROM users|\n", "|  WHERE login == Bob|\n", "|--------------------| \n", "``` \n"]
}
,
{
  "cell_type": "markdown",
  "metadata": {
  "slideshow": {
    "slide_type": "slide"
  }
}
,
  "source": ["## Spaces on the right\n", "Use `\\s` to keep the space on the right\n"]
}
,
{
  "cell_type": "code",
  "execution_count": null,
  "metadata": {},
  "outputs": [],
  "source": ["System.out.println(\"\"\"\n", "     SELECT *           \\s\n", "     FROM users         \\s\n", "     WHERE login == Bob \\s\n", "   \"\"\".replace(' ', '.')\n", "   );"]
}
,
{
  "cell_type": "markdown",
  "metadata": {
  "slideshow": {
    "slide_type": "slide"
  }
}
,
  "source": ["# Escaping\n"]
}
,
{
  "cell_type": "markdown",
  "metadata": {
  "slideshow": {
    "slide_type": "slide"
  }
}
,
  "source": ["## Not a raw String !\n", "Escaping works as usual (`\\t`, `\\n`, `\\\"`, etc.)\n"]
}
,
{
  "cell_type": "code",
  "execution_count": null,
  "metadata": {},
  "outputs": [],
  "source": ["System.out.println(\"\"\"\n", "     SELECT *\n", "     FROM users\n", "     WHERE login == \\\"Bob\\\"\n", "   \"\"\"\n", "   );"]
}
,
{
  "cell_type": "markdown",
  "metadata": {},
  "source": ["> Internally , the compiler uses `String.translateEscapes()`\n"]
}
,
{
  "cell_type": "markdown",
  "metadata": {
  "slideshow": {
    "slide_type": "slide"
  }
}
,
  "source": ["## Remove the `\\n`\n", "You can ask to not have the implicit newlines with `\\`\n"]
}
,
{
  "cell_type": "code",
  "execution_count": null,
  "metadata": {},
  "outputs": [],
  "source": ["System.out.println(\"\"\"\n", "   SELECT * \\\n", "   FROM users \\\n", "   WHERE login == Bob \\\n", "   \"\"\"\n", "   );"]
}
,
{
  "cell_type": "markdown",
  "metadata": {
  "slideshow": {
    "slide_type": "slide"
  }
}
,
  "source": ["# Indentation\n"]
}
,
{
  "cell_type": "markdown",
  "metadata": {
  "slideshow": {
    "slide_type": "slide"
  }
}
,
  "source": ["## `indent()`\n", "Allow to specify the number of white spaces\n"]
}
,
{
  "cell_type": "code",
  "execution_count": null,
  "metadata": {},
  "outputs": [],
  "source": ["System.out.println(\"\"\"\n", "   SELECT *\n", "   FROM users\n", "   WHERE login == Bob\n", "   \"\"\"\n", "     .indent(8)\n", "   );"]
}
,
{
  "cell_type": "markdown",
  "metadata": {
  "slideshow": {
    "slide_type": "slide"
  }
}
,
  "source": ["## `stripIndent()`\n", "This is the method used to remove the indentation by the compiler\n"]
}
,
{
  "cell_type": "code",
  "execution_count": null,
  "metadata": {},
  "outputs": [],
  "source": ["System.out.println(\"\"\"\n", "     SELECT *\n", "     FROM users\n", "     WHERE login == Bob\\\n", "   \"\"\"\n", "     .stripIndent()\n", "   );"]
}
,
{
  "cell_type": "markdown",
  "metadata": {},
  "source": ["> Not very useful if you are a developer\n"]
}
,
{
  "cell_type": "markdown",
  "metadata": {
  "slideshow": {
    "slide_type": "slide"
  }
}
,
  "source": ["# String interpolation ?\n"]
}
,
{
  "cell_type": "markdown",
  "metadata": {
  "slideshow": {
    "slide_type": "slide"
  }
}
,
  "source": ["## Formatted\n", "String.formatted() allows interpolation\n", "(same format as `printf`)\n"]
}
,
{
  "cell_type": "code",
  "execution_count": null,
  "metadata": {},
  "outputs": [],
  "source": ["var login = \"Bob\";\n", "System.out.println(\"\"\"\n", "    SELECT *\n", "    FROM users\n", "    WHERE login == %s\n", "  \"\"\"\n", "    .formatted(login)\n", "  );"]
}
,
{
  "cell_type": "markdown",
  "metadata": {
  "slideshow": {
    "slide_type": "slide"
  }
}
,
  "source": ["## Formatted\n"]
}
,
{
  "cell_type": "code",
  "execution_count": null,
  "metadata": {},
  "outputs": [],
  "source": ["var login = \"Bob\";\n", "var password = \"****\";\n", "System.out.println(\"credential %s %s\".formatted(login, password));"]
}
,
{
  "cell_type": "markdown",
  "metadata": {
  "slideshow": {
    "slide_type": "slide"
  }
}
,
  "source": ["## Optimization ?\n", "Currently, `formatted()` is slow ! (as slow as `String.format()`)\n"]
}
,
{
  "cell_type": "markdown",
  "metadata": {},
  "source": ["Should be optimized using the StringConcatFactory like `+`.\n"]
}
],
  "metadata": {
    "celltoolbar": "Slideshow",
    "kernelspec": {
      "display_name": "Java",
      "language": "java",
      "name": "java"
    },
    "language_info": {
      "codemirror_mode": "java",
      "file_extension": ".java",
      "mimetype": "text/x-java-source",
      "name": "Java",
      "pygments_lexer": "java",
      "version": "15"
    },
    "rise": {
      "autolaunch": true
    }
  },
  "nbformat": 4,
  "nbformat_minor": 2
}

