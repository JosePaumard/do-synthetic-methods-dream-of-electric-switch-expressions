{
 "cells": [
  {
   "cell_type": "markdown",
   "metadata": {},
   "source": []
  },
  {
   "cell_type": "markdown",
   "metadata": {
    "slideshow": {
     "slide_type": "slide"
    }
   },
   "source": [
    "# Toward Pattern Matching\n"
   ]
  },
  {
   "cell_type": "markdown",
   "metadata": {
    "slideshow": {
     "slide_type": "slide"
    }
   },
   "source": [
    "## Java Releases\n",
    "- Java 12: March 2019\n",
    "  - switch expression (preview)\n",
    "- Java 13: September 2019\n",
    "  - switch expression (preview 2)\n",
    "- Java 14: __March, 17th 2020__\n",
    "  - switch expression (release)\n",
    "  - record (preview)\n",
    "  - instanceof (preview)\n"
   ]
  },
  {
   "cell_type": "markdown",
   "metadata": {
    "slideshow": {
     "slide_type": "slide"
    }
   },
   "source": [
    "## Java Releases\n",
    "- Java 12: March 2019\n",
    "- Java 13: September 2019\n",
    "- Java 14: March 2020\n",
    "  - switch expression (release)\n",
    "  - record (preview)\n",
    "  - instanceof (preview)\n",
    "- Java 15: __September, 15th 2020__\n",
    "  - record (preview 2)\n",
    "  - instanceof (preview 2)\n",
    "  - selead type (preview)\n"
   ]
  },
  {
   "cell_type": "markdown",
   "metadata": {
    "slideshow": {
     "slide_type": "slide"
    }
   },
   "source": [
    "# Records\n"
   ]
  },
  {
   "cell_type": "markdown",
   "metadata": {
    "slideshow": {
     "slide_type": "slide"
    }
   },
   "source": [
    "## Design forces\n",
    "- we need to see any object fields to do pattern matching on them\n",
    "- get ride of bean model\n"
   ]
  },
  {
   "cell_type": "markdown",
   "metadata": {
    "slideshow": {
     "slide_type": "slide"
    }
   },
   "source": [
    "## A simple record\n",
    "Declaration\n"
   ]
  },
  {
   "cell_type": "code",
   "execution_count": 1,
   "metadata": {},
   "outputs": [],
   "source": [
    "record Point(int x, int y) { }\n"
   ]
  },
  {
   "cell_type": "markdown",
   "metadata": {},
   "source": [
    "Usage\n"
   ]
  },
  {
   "cell_type": "code",
   "execution_count": 2,
   "metadata": {},
   "outputs": [
    {
     "name": "stdout",
     "output_type": "stream",
     "text": [
      "Point[x=12, y=56]\n"
     ]
    }
   ],
   "source": [
    "var point = new Point(12, 56);\n",
    "System.out.println(point);\n"
   ]
  },
  {
   "cell_type": "markdown",
   "metadata": {
    "slideshow": {
     "slide_type": "slide"
    }
   },
   "source": [
    "## Record components\n",
    "Record components are implicitly final\n"
   ]
  },
  {
   "cell_type": "code",
   "execution_count": 3,
   "metadata": {},
   "outputs": [],
   "source": [
    "record Friend(String name) { }\n"
   ]
  },
  {
   "cell_type": "markdown",
   "metadata": {},
   "source": [
    "explicit syntax is not supported\n"
   ]
  },
  {
   "cell_type": "code",
   "execution_count": 4,
   "metadata": {},
   "outputs": [
    {
     "ename": "CompilationException",
     "evalue": "",
     "output_type": "error",
     "traceback": [
      "\u001b[1m\u001b[30m|   \u001b[1m\u001b[30mrecord Friend(\u001b[0m\u001b[1m\u001b[30m\u001b[41m\u001b[0m\u001b[1m\u001b[30mfinal int name) { }\u001b[0m",
      "\u001b[1m\u001b[31mrecord components cannot have modifiers\u001b[0m",
      ""
     ]
    }
   ],
   "source": [
    "record Friend(final int name) { }\n"
   ]
  },
  {
   "cell_type": "markdown",
   "metadata": {
    "slideshow": {
     "slide_type": "slide"
    }
   },
   "source": [
    "## Members of a record\n",
    "inside a record, a record component is transformed to a field\n"
   ]
  },
  {
   "cell_type": "code",
   "execution_count": 5,
   "metadata": {},
   "outputs": [
    {
     "name": "stdout",
     "output_type": "stream",
     "text": [
      "hello !\n",
      "hello again !\n"
     ]
    }
   ],
   "source": [
    "record Delay(long time, TimeUnit unit) {\n",
    "  public void sleep() throws InterruptedException {\n",
    "    unit.sleep(time);\n",
    "  }\n",
    "}\n",
    "System.out.println(\"hello !\");\n",
    "new Delay(2, TimeUnit.SECONDS).sleep();\n",
    "System.out.println(\"hello again !\");\n"
   ]
  },
  {
   "cell_type": "markdown",
   "metadata": {
    "slideshow": {
     "slide_type": "slide"
    }
   },
   "source": [
    "## Record canonical constructor\n",
    "You can define your own constructor\n"
   ]
  },
  {
   "cell_type": "code",
   "execution_count": 6,
   "metadata": {},
   "outputs": [
    {
     "ename": "EvalException",
     "evalue": "employee <= 1",
     "output_type": "error",
     "traceback": [
      "\u001b[1m\u001b[31m---------------------------------------------------------------------------\u001b[0m",
      "\u001b[1m\u001b[31mjava.lang.IllegalArgumentException: employee <= 1\u001b[0m",
      "\u001b[1m\u001b[31m\tat Exchange.<init>(#21:5)\u001b[0m",
      "\u001b[1m\u001b[31m\tat .do_it$Aux(#22:1)\u001b[0m",
      "\u001b[1m\u001b[31m\tat .(#22:1)\u001b[0m"
     ]
    }
   ],
   "source": [
    "record Exchange(String name, int employees) {\n",
    "  public Exchange(String name, int employees) {\n",
    "    this.name = Objects.requireNonNull(name);\n",
    "    if (employees <= 1) {\n",
    "      throw new IllegalArgumentException(\"employee <= 1\");\n",
    "    }\n",
    "    this.employees = employees;\n",
    "  }\n",
    "}\n",
    "var exchange = new Exchange(\"Bitcoin Ponzi\", 1);\n",
    "System.out.println(exchange);\n"
   ]
  },
  {
   "cell_type": "markdown",
   "metadata": {
    "slideshow": {
     "slide_type": "slide"
    }
   },
   "source": [
    "## Record canonical constructor\n",
    "The parameter names has to match the component names\n"
   ]
  },
  {
   "cell_type": "code",
   "execution_count": 7,
   "metadata": {},
   "outputs": [
    {
     "ename": "CompilationException",
     "evalue": "",
     "output_type": "error",
     "traceback": [
      "\u001b[1m\u001b[30m|   \u001b[1m\u001b[30m  \u001b[0m\u001b[1m\u001b[30m\u001b[41mpublic BadExchange(String pname, int pemployees) {\u001b[0m",
      "\u001b[1m\u001b[30m|   \u001b[1m\u001b[30m\u001b[41m    name = pname;\u001b[0m",
      "\u001b[1m\u001b[30m|   \u001b[1m\u001b[30m\u001b[41m    employees = pemployees;\u001b[0m",
      "\u001b[1m\u001b[30m|   \u001b[1m\u001b[30m\u001b[41m  }\u001b[0m",
      "\u001b[1m\u001b[31minvalid canonical constructor in record BadExchange\u001b[0m",
      "\u001b[1m\u001b[31m  (invalid parameter names in canonical constructor)\u001b[0m",
      ""
     ]
    }
   ],
   "source": [
    "record BadExchange(String name, int employees) {\n",
    "  public BadExchange(String pname, int pemployees) {\n",
    "    name = pname;\n",
    "    employees = pemployees;\n",
    "  }\n",
    "}\n"
   ]
  },
  {
   "cell_type": "markdown",
   "metadata": {
    "slideshow": {
     "slide_type": "slide"
    }
   },
   "source": [
    "## Record compact constructor\n",
    "Field assignments is done by the compiler\n"
   ]
  },
  {
   "cell_type": "code",
   "execution_count": 8,
   "metadata": {},
   "outputs": [
    {
     "name": "stdout",
     "output_type": "stream",
     "text": [
      "Exchange[name=Bitcoin Ponzi, employees=2]\n"
     ]
    }
   ],
   "source": [
    "record Exchange(String name, int employees) {\n",
    "  public Exchange {\n",
    "    Objects.requireNonNull(name);\n",
    "    if (employees <= 1) {\n",
    "      throw new IllegalArgumentException(\"employee <= 1\");\n",
    "    }\n",
    "  }\n",
    "}\n",
    "var exchange = new Exchange(\"Bitcoin Ponzi\", 2);\n",
    "System.out.println(exchange);\n"
   ]
  },
  {
   "cell_type": "markdown",
   "metadata": {
    "slideshow": {
     "slide_type": "slide"
    }
   },
   "source": [
    "## Limitation of the canonical constructor\n",
    "The canonical constructor have to be `public`\n"
   ]
  },
  {
   "cell_type": "code",
   "execution_count": 9,
   "metadata": {},
   "outputs": [
    {
     "ename": "CompilationException",
     "evalue": "",
     "output_type": "error",
     "traceback": [
      "\u001b[1m\u001b[30m|   \u001b[1m\u001b[30m  /*public*/ \u001b[0m\u001b[1m\u001b[30m\u001b[41mBadExchange { \u001b[0m",
      "\u001b[1m\u001b[30m|   \u001b[1m\u001b[30m\u001b[41m  }\u001b[0m",
      "\u001b[1m\u001b[31minvalid compact constructor in record BadExchange\u001b[0m",
      "\u001b[1m\u001b[31m  (canonical constructor must be public)\u001b[0m",
      ""
     ]
    }
   ],
   "source": [
    "record BadExchange(String name, int employees) {\n",
    "  /*public*/ BadExchange { \n",
    "  }\n",
    "}\n"
   ]
  },
  {
   "cell_type": "markdown",
   "metadata": {
    "slideshow": {
     "slide_type": "slide"
    }
   },
   "source": [
    "## Limitation of constructors\n",
    "Other constructors must delegate to another constructor\n"
   ]
  },
  {
   "cell_type": "code",
   "execution_count": 10,
   "metadata": {},
   "outputs": [
    {
     "ename": "CompilationException",
     "evalue": "",
     "output_type": "error",
     "traceback": [
      "\u001b[1m\u001b[30m|   \u001b[1m\u001b[30m  \u001b[0m\u001b[1m\u001b[30m\u001b[41mBadExchange(String name) {\u001b[0m",
      "\u001b[1m\u001b[30m|   \u001b[1m\u001b[30m\u001b[41m    this.name = name;\u001b[0m",
      "\u001b[1m\u001b[30m|   \u001b[1m\u001b[30m\u001b[41m    this.employees = 100;\u001b[0m",
      "\u001b[1m\u001b[30m|   \u001b[1m\u001b[30m\u001b[41m  }\u001b[0m",
      "\u001b[1m\u001b[31mconstructor is not canonical, so its first statement must invoke another constructor\u001b[0m",
      ""
     ]
    }
   ],
   "source": [
    "record BadExchange(String name, int employees) {\n",
    "  BadExchange(String name) {\n",
    "    this.name = name;\n",
    "    this.employees = 100;\n",
    "  }\n",
    "}\n"
   ]
  },
  {
   "cell_type": "markdown",
   "metadata": {
    "slideshow": {
     "slide_type": "slide"
    }
   },
   "source": [
    "## Limitation of constructors (2)\n",
    "Other constructors must delegate to another constructor\n"
   ]
  },
  {
   "cell_type": "code",
   "execution_count": 11,
   "metadata": {},
   "outputs": [
    {
     "name": "stdout",
     "output_type": "stream",
     "text": [
      "Exchange[name=Speculative Money, employees=100]\n"
     ]
    }
   ],
   "source": [
    "record Exchange(String name, int employees) {\n",
    "  Exchange(String name) {\n",
    "    this(name, 100);\n",
    "  }\n",
    "}\n",
    "var exchange = new Exchange(\"Speculative Money\");\n",
    "System.out.println(exchange);\n"
   ]
  },
  {
   "cell_type": "markdown",
   "metadata": {
    "slideshow": {
     "slide_type": "slide"
    }
   },
   "source": [
    "## Record instance initializers\n",
    "Instance initializers are not supported \n"
   ]
  },
  {
   "cell_type": "code",
   "execution_count": 12,
   "metadata": {},
   "outputs": [
    {
     "ename": "CompilationException",
     "evalue": "",
     "output_type": "error",
     "traceback": [
      "\u001b[1m\u001b[30m|   \u001b[1m\u001b[30m  \u001b[0m\u001b[1m\u001b[30m\u001b[41m\u001b[0m\u001b[1m\u001b[30m{\u001b[0m",
      "\u001b[1m\u001b[31minstance initializers not allowed in records\u001b[0m",
      ""
     ]
    }
   ],
   "source": [
    "record Fail() {\n",
    "  {\n",
    "    // instance initializers are not allowed \n",
    "  }\n",
    "}\n"
   ]
  },
  {
   "cell_type": "markdown",
   "metadata": {
    "slideshow": {
     "slide_type": "slide"
    }
   },
   "source": [
    "## Record accessors\n",
    "From outside, a record provide an accessor for each component\n"
   ]
  },
  {
   "cell_type": "code",
   "execution_count": 13,
   "metadata": {},
   "outputs": [
    {
     "name": "stdout",
     "output_type": "stream",
     "text": [
      "Lord of the Ring\n",
      "J.R.R Tolkien\n"
     ]
    }
   ],
   "source": [
    "record Book(String title, String author) { }\n",
    "var lotr = new Book(\"Lord of the Ring\", \"J.R.R Tolkien\");\n",
    "System.out.println(lotr.title());\n",
    "System.out.println(lotr.author());\n"
   ]
  },
  {
   "cell_type": "markdown",
   "metadata": {
    "slideshow": {
     "slide_type": "slide"
    }
   },
   "source": [
    "## Record java.lang.Object methods\n",
    "The compiler provides `equals`/`hashCode`/`toString`\n"
   ]
  },
  {
   "cell_type": "code",
   "execution_count": 14,
   "metadata": {},
   "outputs": [
    {
     "name": "stdout",
     "output_type": "stream",
     "text": [
      "Operator[name=+] equals Operator[name=+]\n",
      "true\n",
      "true\n"
     ]
    }
   ],
   "source": [
    "record Operator(String name) { }\n",
    "var add = new Operator(\"+\");\n",
    "var add2 = new Operator(\"+\");\n",
    "System.out.println(add + \" equals \" + add2);\n",
    "System.out.println(add.equals(add2));\n",
    "System.out.println(add.hashCode() == add2.hashCode());\n"
   ]
  },
  {
   "cell_type": "markdown",
   "metadata": {
    "slideshow": {
     "slide_type": "slide"
    }
   },
   "source": [
    "## Record and NaN\n",
    "`equals` is reflective even in Double.NaN\n"
   ]
  },
  {
   "cell_type": "code",
   "execution_count": 15,
   "metadata": {},
   "outputs": [
    {
     "name": "stdout",
     "output_type": "stream",
     "text": [
      "false\n",
      "true\n"
     ]
    }
   ],
   "source": [
    "record FloatingPoint(double value) { }\n",
    "System.out.println(Double.NaN == Double.NaN);\n",
    "var fp = new FloatingPoint(Double.NaN);\n",
    "var fp2 = new FloatingPoint(Double.NaN);\n",
    "System.out.println(fp.equals(fp2));\n"
   ]
  },
  {
   "cell_type": "markdown",
   "metadata": {
    "slideshow": {
     "slide_type": "slide"
    }
   },
   "source": [
    "# Record and Immutability\n"
   ]
  },
  {
   "cell_type": "markdown",
   "metadata": {
    "slideshow": {
     "slide_type": "slide"
    }
   },
   "source": [
    "## Record unmodifiable vs Immutable\n",
    "Records are unmodifiable, not immutable !\n"
   ]
  },
  {
   "cell_type": "code",
   "execution_count": 16,
   "metadata": {},
   "outputs": [
    {
     "name": "stdout",
     "output_type": "stream",
     "text": [
      "Library[books=[Book[title=Lord of the ring]]]\n"
     ]
    }
   ],
   "source": [
    "record Book(String title) { }\n",
    "record Library(List<Book> books) { }\n",
    "var books = new ArrayList<Book>();\n",
    "books.add(new Book(\"Lord of the ring\"));\n",
    "var library = new Library(books);\n",
    "System.out.println(library);\n"
   ]
  },
  {
   "cell_type": "markdown",
   "metadata": {},
   "source": [
    "can still mutate books\n"
   ]
  },
  {
   "cell_type": "code",
   "execution_count": 17,
   "metadata": {},
   "outputs": [
    {
     "name": "stdout",
     "output_type": "stream",
     "text": [
      "Library[books=[]]\n"
     ]
    }
   ],
   "source": [
    "books.remove(new Book(\"Lord of the ring\"));\n",
    "System.out.println(library);\n"
   ]
  },
  {
   "cell_type": "markdown",
   "metadata": {
    "slideshow": {
     "slide_type": "slide"
    }
   },
   "source": [
    "## Defensive copy\n",
    "Is a defensive copy enough ?\n"
   ]
  },
  {
   "cell_type": "code",
   "execution_count": 18,
   "metadata": {},
   "outputs": [
    {
     "name": "stdout",
     "output_type": "stream",
     "text": [
      "Library[books=[Book[title=Lord of the ring]]]\n"
     ]
    }
   ],
   "source": [
    "record Book(String title) { }\n",
    "record Library(List<Book> books) {\n",
    "  public Library {\n",
    "    books = new ArrayList<>(books);\n",
    "  }\n",
    "}\n",
    "var books = new ArrayList<Book>();\n",
    "books.add(new Book(\"Lord of the ring\"));\n",
    "var library = new Library(books);\n",
    "System.out.println(library);\n"
   ]
  },
  {
   "cell_type": "code",
   "execution_count": 19,
   "metadata": {},
   "outputs": [
    {
     "name": "stdout",
     "output_type": "stream",
     "text": [
      "Library[books=[Book[title=Lord of the ring]]]\n"
     ]
    }
   ],
   "source": [
    "books.remove(new Book(\"Lord of the ring\"));\n",
    "System.out.println(library);\n"
   ]
  },
  {
   "cell_type": "markdown",
   "metadata": {
    "slideshow": {
     "slide_type": "slide"
    }
   },
   "source": [
    "## Defensive copy (2)\n",
    "Beware of the accessor !\n"
   ]
  },
  {
   "cell_type": "code",
   "execution_count": 20,
   "metadata": {},
   "outputs": [
    {
     "name": "stdout",
     "output_type": "stream",
     "text": [
      "Library[books=[Book[title=Lord of the ring]]]\n"
     ]
    }
   ],
   "source": [
    "record Book(String title) { }\n",
    "record Library(List<Book> books) {\n",
    "  public Library {\n",
    "    books = new ArrayList<>(books);\n",
    "  }\n",
    "}\n",
    "var books = new ArrayList<Book>();\n",
    "books.add(new Book(\"Lord of the ring\"));\n",
    "var library = new Library(books);\n",
    "System.out.println(library);\n"
   ]
  },
  {
   "cell_type": "code",
   "execution_count": 21,
   "metadata": {},
   "outputs": [
    {
     "name": "stdout",
     "output_type": "stream",
     "text": [
      "Library[books=[]]\n"
     ]
    }
   ],
   "source": [
    "library.books().remove(new Book(\"Lord of the ring\"));\n",
    "System.out.println(library);\n"
   ]
  },
  {
   "cell_type": "markdown",
   "metadata": {
    "slideshow": {
     "slide_type": "slide"
    }
   },
   "source": [
    "## Defensive copy (2)\n",
    "Defensive copies everywhere !\n"
   ]
  },
  {
   "cell_type": "code",
   "execution_count": 22,
   "metadata": {},
   "outputs": [
    {
     "name": "stdout",
     "output_type": "stream",
     "text": [
      "Library[books=[Book[title=Lord of the ring]]]\n"
     ]
    }
   ],
   "source": [
    "record Book(String title) { }\n",
    "record Library(List<Book> books) {\n",
    "  public Library {\n",
    "    books = new ArrayList<>(books);\n",
    "  }\n",
    "  public List<Book> books() {\n",
    "    return Collections.unmodifiableList(books);\n",
    "  }\n",
    "}\n",
    "var books = new ArrayList<Book>();\n",
    "books.add(new Book(\"Lord of the ring\"));\n",
    "var library = new Library(books);\n",
    "System.out.println(library);\n"
   ]
  },
  {
   "cell_type": "code",
   "execution_count": 23,
   "metadata": {},
   "outputs": [
    {
     "ename": "EvalException",
     "evalue": "null",
     "output_type": "error",
     "traceback": [
      "\u001b[1m\u001b[31m---------------------------------------------------------------------------\u001b[0m",
      "\u001b[1m\u001b[31mjava.lang.UnsupportedOperationException: null\u001b[0m",
      "\u001b[1m\u001b[31m\tat java.base/java.util.Collections$UnmodifiableCollection.remove(Collections.java:1065)\u001b[0m",
      "\u001b[1m\u001b[31m\tat .(#59:1)\u001b[0m"
     ]
    }
   ],
   "source": [
    "library.books().remove(new Book(\"Lord of the ring\"));\n",
    "System.out.println(library);\n"
   ]
  },
  {
   "cell_type": "markdown",
   "metadata": {
    "slideshow": {
     "slide_type": "slide"
    }
   },
   "source": [
    "## Unmodifiable List to the rescue\n"
   ]
  },
  {
   "cell_type": "code",
   "execution_count": 24,
   "metadata": {},
   "outputs": [
    {
     "name": "stdout",
     "output_type": "stream",
     "text": [
      "Library[books=[Book[title=Lord of the ring]]]\n"
     ]
    }
   ],
   "source": [
    "record Book(String title) { }\n",
    "record Library(List<Book> books) {\n",
    "  public Library {\n",
    "    books = List.copyOf(books);\n",
    "  }\n",
    "}\n",
    "var books = new ArrayList<Book>();\n",
    "books.add(new Book(\"Lord of the ring\"));\n",
    "var library = new Library(books);\n",
    "System.out.println(library);\n"
   ]
  },
  {
   "cell_type": "code",
   "execution_count": 25,
   "metadata": {},
   "outputs": [
    {
     "ename": "EvalException",
     "evalue": "null",
     "output_type": "error",
     "traceback": [
      "\u001b[1m\u001b[31m---------------------------------------------------------------------------\u001b[0m",
      "\u001b[1m\u001b[31mjava.lang.UnsupportedOperationException: null\u001b[0m",
      "\u001b[1m\u001b[31m\tat java.base/java.util.ImmutableCollections.uoe(ImmutableCollections.java:73)\u001b[0m",
      "\u001b[1m\u001b[31m\tat java.base/java.util.ImmutableCollections$AbstractImmutableCollection.remove(ImmutableCollections.java:80)\u001b[0m",
      "\u001b[1m\u001b[31m\tat .(#62:1)\u001b[0m"
     ]
    }
   ],
   "source": [
    "library.books().remove(new Book(\"Lord of the ring\"));\n",
    "System.out.println(library);\n"
   ]
  },
  {
   "cell_type": "markdown",
   "metadata": {
    "slideshow": {
     "slide_type": "slide"
    }
   },
   "source": [
    "## Unmodifiable record\n",
    "Record are only unmodifiable\n",
    "- requires more code to make it immutable\n",
    "- List.of() / List.copyOf() may help !\n"
   ]
  },
  {
   "cell_type": "markdown",
   "metadata": {
    "slideshow": {
     "slide_type": "slide"
    }
   },
   "source": [
    "## Record and arrays\n"
   ]
  },
  {
   "cell_type": "markdown",
   "metadata": {
    "slideshow": {
     "slide_type": "slide"
    }
   },
   "source": [
    "## Record Reflection API\n"
   ]
  },
  {
   "cell_type": "markdown",
   "metadata": {
    "slideshow": {
     "slide_type": "slide"
    }
   },
   "source": [
    "## Record and Serialization\n"
   ]
  }
 ],
 "metadata": {
  "celltoolbar": "Slideshow",
  "kernelspec": {
   "display_name": "Java",
   "language": "java",
   "name": "java"
  },
  "language_info": {
   "codemirror_mode": "java",
   "file_extension": ".jshell",
   "mimetype": "text/x-java-source",
   "name": "Java",
   "pygments_lexer": "java",
   "version": "14-ea+32-1423"
  }
 },
 "nbformat": 4,
 "nbformat_minor": 2
}
