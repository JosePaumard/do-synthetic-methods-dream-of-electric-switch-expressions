{
 "cells": [
  {
   "cell_type": "markdown",
   "metadata": {
    "slideshow": {
     "slide_type": "slide"
    }
   },
   "source": [
    "# Foreign Memory API\n"
   ]
  },
  {
   "cell_type": "markdown",
   "metadata": {
    "slideshow": {
     "slide_type": "slide"
    }
   },
   "source": [
    "## Different kinds of memories\n",
    "- Java GCed memory\n",
    "- C dynamic memory (malloc)\n",
    "- file mapped memory (mmap)\n",
    "- non volatile memory (NVRAM)\n"
   ]
  },
  {
   "cell_type": "markdown",
   "metadata": {
    "slideshow": {
     "slide_type": "slide"
    }
   },
   "source": [
    "## Current two APIs in Java\n",
    "- java.nio.ByteBuffer\n",
    "- sun.misc.Unsafe*\n"
   ]
  },
  {
   "cell_type": "markdown",
   "metadata": {},
   "source": [
    "> sun.misc.Unsafe is not really supported  \n"
   ]
  },
  {
   "cell_type": "markdown",
   "metadata": {
    "slideshow": {
     "slide_type": "slide"
    }
   },
   "source": [
    "## Example of ByteBuffer\n",
    "```java\n",
    "var nativeOrder = ByteOrder.nativeOrder();\n",
    "var byteBuffer = ByteBuffer.allocateDirect(1024 * 4).order(nativeOrder);\n",
    "try {\n",
    "  for (var i = 0; i < 1024; i++) {\n",
    "    byteBuffer.putInt(i * 4, 42);\n",
    "  }\n",
    "} finally {\n",
    "  UNSAFE.invokeCleaner(byteBuffer);\n",
    "}\n",
    "```\n"
   ]
  },
  {
   "cell_type": "markdown",
   "metadata": {
    "slideshow": {
     "slide_type": "slide"
    }
   },
   "source": [
    "## ByteBuffer\n",
    "- API IO buffer oriented\n",
    "- fast\n",
    "- can not release direct memory explicitly\n",
    "- use int for index (2G limit)\n"
   ]
  },
  {
   "cell_type": "markdown",
   "metadata": {
    "slideshow": {
     "slide_type": "slide"
    }
   },
   "source": [
    "## Example of Unsafe\n",
    "```java\n",
    "long unsafe_addr = UNSAFE.allocateMemory(1024 * 4);\n",
    "try {\n",
    "  for (var i = 0; i < 1024; i++) {\n",
    "    UNSAFE.putInt(unsafe_addr + (i * 4) , 42);\n",
    "  }\n",
    "} finally {\n",
    "  UNSAFE.freeMemory(unsafe_addr);\n",
    "}\n",
    "```\n"
   ]
  },
  {
   "cell_type": "markdown",
   "metadata": {
    "slideshow": {
     "slide_type": "slide"
    }
   },
   "source": [
    "## Unsafe\n",
    "- Really unsafe !\n",
    "  - crash\n",
    "  - buffer overflow\n",
    "- Not that JIT friendly\n",
    "  - aliasing issue\n",
    "  - no loop vectorisation\n"
   ]
  },
  {
   "cell_type": "markdown",
   "metadata": {
    "slideshow": {
     "slide_type": "slide"
    }
   },
   "source": [
    "## Need a third API ?\n",
    "- Unsafe replacement\n",
    "  - 100% safe and fast\n",
    "- More low level than ByteBuffer\n",
    "  - keep ByteBuffer fast but solve the deallocation issue\n",
    "- Panama (new C <-> Java bridge)\n",
    "  - support struct, array of structs, etc \n",
    "  - nice with small data structures\n"
   ]
  },
  {
   "cell_type": "markdown",
   "metadata": {
    "slideshow": {
     "slide_type": "slide"
    }
   },
   "source": [
    "## Foreign Memory API\n"
   ]
  },
  {
   "cell_type": "markdown",
   "metadata": {
    "slideshow": {
     "slide_type": "slide"
    }
   },
   "source": [
    "## Foreign Memory API - Incubator\n",
    "This api is currently in incubator mode\n",
    "so for `java` and `javac` you need to add\n",
    "the module `jdk.incubator.foreign` in the module graph\n",
    "```\n",
    "--add-modules jdk.incubator.foreign\n",
    "```\n"
   ]
  },
  {
   "cell_type": "markdown",
   "metadata": {},
   "source": [
    "then you can import it\n"
   ]
  },
  {
   "cell_type": "code",
   "execution_count": 1,
   "metadata": {},
   "outputs": [],
   "source": [
    "import jdk.incubator.foreign.*;"
   ]
  },
  {
   "cell_type": "markdown",
   "metadata": {
    "slideshow": {
     "slide_type": "slide"
    }
   },
   "source": [
    "## This API is still in flux\n",
    "So it may change depending on the Java version\n"
   ]
  },
  {
   "cell_type": "code",
   "execution_count": 2,
   "metadata": {},
   "outputs": [
    {
     "name": "stdout",
     "output_type": "stream",
     "text": [
      "runtime version 15-ea+13-487\n"
     ]
    }
   ],
   "source": [
    "System.out.println(\"runtime version \" + Runtime.version());"
   ]
  },
  {
   "cell_type": "markdown",
   "metadata": {},
   "source": [
    "> make sure you are at least using Java 15-ea+7\n"
   ]
  },
  {
   "cell_type": "markdown",
   "metadata": {
    "slideshow": {
     "slide_type": "slide"
    }
   },
   "source": [
    "# Memory Segment\n"
   ]
  },
  {
   "cell_type": "markdown",
   "metadata": {
    "slideshow": {
     "slide_type": "slide"
    }
   },
   "source": [
    "## Memory Segment\n",
    "A memory segment is an area of memory that can be created\n",
    "from different kind of memories\n",
    "- `MemorySegment.ofArray(array)`\n",
    "- `MemorySegment.allocateNative(8192)`\n",
    "- `MemorySegment.mapFromPath​(path, bytesSize, mapMode)`\n",
    "- `MemorySegment.ofByteBuffer(byteBuffer)`\n"
   ]
  },
  {
   "cell_type": "markdown",
   "metadata": {
    "slideshow": {
     "slide_type": "slide"
    }
   },
   "source": [
    "## Temporally Bounded\n",
    "The memory management is __explicit__\n",
    "- `allocateNative()` allocate the memory\n",
    "- `close()` release it.\n"
   ]
  },
  {
   "cell_type": "code",
   "execution_count": 3,
   "metadata": {},
   "outputs": [
    {
     "name": "stdout",
     "output_type": "stream",
     "text": [
      "false\n"
     ]
    }
   ],
   "source": [
    "var segment = MemorySegment.allocateNative(8192);\n",
    "segment.close();\n",
    "System.out.println(segment.isAlive());"
   ]
  },
  {
   "cell_type": "markdown",
   "metadata": {
    "slideshow": {
     "slide_type": "slide"
    }
   },
   "source": [
    "## Temporally Bounded (2)\n",
    "An access after a `close()` results in a runtime exception\n"
   ]
  },
  {
   "cell_type": "code",
   "execution_count": 4,
   "metadata": {},
   "outputs": [
    {
     "ename": "EvalException",
     "evalue": "Segment is not alive",
     "output_type": "error",
     "traceback": [
      "\u001b[1m\u001b[31m---------------------------------------------------------------------------\u001b[0m",
      "\u001b[1m\u001b[31mjava.lang.IllegalStateException: Segment is not alive\u001b[0m",
      "\u001b[1m\u001b[31m\tat jdk.incubator.foreign/jdk.internal.foreign.MemoryScope.checkAliveConfined(MemoryScope.java:78)\u001b[0m",
      "\u001b[1m\u001b[31m\tat jdk.incubator.foreign/jdk.internal.foreign.MemorySegmentImpl.checkValidState(MemorySegmentImpl.java:161)\u001b[0m",
      "\u001b[1m\u001b[31m\tat jdk.incubator.foreign/jdk.internal.foreign.MemorySegmentImpl.asByteBuffer(MemorySegmentImpl.java:125)\u001b[0m",
      "\u001b[1m\u001b[31m\tat .(#18:1)\u001b[0m"
     ]
    }
   ],
   "source": [
    "var segment = MemorySegment.allocateNative(8192);\n",
    "segment.close();\n",
    "System.out.println(segment.asByteBuffer());"
   ]
  },
  {
   "cell_type": "markdown",
   "metadata": {
    "slideshow": {
     "slide_type": "slide"
    }
   },
   "source": [
    "## Temporally Bounded (3)\n",
    "A _try-with-resources_ is safer and the syntax cleaner\n"
   ]
  },
  {
   "cell_type": "code",
   "execution_count": 5,
   "metadata": {},
   "outputs": [
    {
     "name": "stdout",
     "output_type": "stream",
     "text": [
      "true\n",
      "MemorySegment{ id=0x7d71b4e5 limit: 8192 }\n"
     ]
    }
   ],
   "source": [
    "try (var segment = MemorySegment.allocateNative(8192)) {\n",
    "  System.out.println(segment.isAlive());\n",
    "  System.out.println(segment);\n",
    "} // the memory is released"
   ]
  },
  {
   "cell_type": "markdown",
   "metadata": {
    "slideshow": {
     "slide_type": "slide"
    }
   },
   "source": [
    "## Spatially Bounded\n",
    "You can only access the memory inside the bounds of the segment\n"
   ]
  },
  {
   "cell_type": "code",
   "execution_count": 6,
   "metadata": {},
   "outputs": [
    {
     "ename": "EvalException",
     "evalue": "null",
     "output_type": "error",
     "traceback": [
      "\u001b[1m\u001b[31m---------------------------------------------------------------------------\u001b[0m",
      "\u001b[1m\u001b[31mjava.lang.IndexOutOfBoundsException: null\u001b[0m",
      "\u001b[1m\u001b[31m\tat java.base/java.nio.Buffer.checkIndex(Buffer.java:731)\u001b[0m",
      "\u001b[1m\u001b[31m\tat java.base/java.nio.DirectByteBuffer.get(DirectByteBuffer.java:278)\u001b[0m",
      "\u001b[1m\u001b[31m\tat .(#20:4)\u001b[0m"
     ]
    }
   ],
   "source": [
    "try (var segment = MemorySegment.allocateNative(8192)) {\n",
    "  var buffer = segment.asByteBuffer();\n",
    "  var indexTooBig = 8192;\n",
    "  System.out.println(buffer.get(indexTooBig));\n",
    "}"
   ]
  },
  {
   "cell_type": "markdown",
   "metadata": {
    "slideshow": {
     "slide_type": "slide"
    }
   },
   "source": [
    "## Thread Bounded\n",
    "Only the thread that has allocated the segment can access\n",
    "to the data of that segment\n"
   ]
  },
  {
   "cell_type": "code",
   "execution_count": 7,
   "metadata": {},
   "outputs": [
    {
     "name": "stderr",
     "output_type": "stream",
     "text": [
      "Exception in thread \"Thread-1\" java.lang.IllegalStateException: Attempt to access segment outside owning thread\n",
      "\tat jdk.incubator.foreign/jdk.internal.foreign.MemorySegmentImpl.checkValidState(MemorySegmentImpl.java:159)\n",
      "\tat jdk.incubator.foreign/jdk.internal.foreign.MemorySegmentImpl.asByteBuffer(MemorySegmentImpl.java:125)\n",
      "\tat REPL.$JShell$21.lambda$do_it$$0($JShell$21.java:17)\n",
      "\tat java.base/java.lang.Thread.run(Thread.java:832)\n"
     ]
    }
   ],
   "source": [
    "try (var segment = MemorySegment.allocateNative(8192)) {\n",
    "  var thread = new Thread(() -> {\n",
    "    var buffer = segment.asByteBuffer();\n",
    "  });\n",
    "  thread.start();\n",
    "  thread.join();\n",
    "}"
   ]
  },
  {
   "cell_type": "markdown",
   "metadata": {
    "slideshow": {
     "slide_type": "slide"
    }
   },
   "source": [
    "## Thread Bounded (2)\n",
    "A thread can ask explicitly to access the segment using `acquire()`.\n"
   ]
  },
  {
   "cell_type": "code",
   "execution_count": null,
   "metadata": {},
   "outputs": [],
   "source": [
    "try (var segment = MemorySegment.allocateNative(8192)) {\n",
    "  var thread = new Thread(() -> {\n",
    "    try(var acquiredSegment = segment.acquire()) {\n",
    "      var buffer = acquiredSegment.asByteBuffer();\n",
    "    }\n",
    "  });\n",
    "  thread.start();\n",
    "  thread.join();\n",
    "}"
   ]
  },
  {
   "cell_type": "markdown",
   "metadata": {},
   "source": [
    "> Sharing segments may lead to concurrency issues\n"
   ]
  },
  {
   "cell_type": "markdown",
   "metadata": {
    "slideshow": {
     "slide_type": "slide"
    }
   },
   "source": [
    "## Thread Bounded (3)\n",
    "An acquired segment must be closed before the segment can be closed.\n"
   ]
  },
  {
   "cell_type": "code",
   "execution_count": 8,
   "metadata": {},
   "outputs": [
    {
     "ename": "EvalException",
     "evalue": "Cannot close a segment that has active acquired views",
     "output_type": "error",
     "traceback": [
      "\u001b[1m\u001b[31m---------------------------------------------------------------------------\u001b[0m",
      "\u001b[1m\u001b[31mjava.lang.IllegalStateException: Cannot close a segment that has active acquired views\u001b[0m",
      "\u001b[1m\u001b[31m\tat jdk.incubator.foreign/jdk.internal.foreign.MemoryScope.close(MemoryScope.java:113)\u001b[0m",
      "\u001b[1m\u001b[31m\tat jdk.incubator.foreign/jdk.internal.foreign.MemorySegmentImpl.close(MemorySegmentImpl.java:120)\u001b[0m",
      "\u001b[1m\u001b[31m\tat .(#22:9)\u001b[0m"
     ]
    }
   ],
   "source": [
    "try (var segment = MemorySegment.allocateNative(8192)) {\n",
    "  var thread = new Thread(() -> {\n",
    "    var acquiredSegment = segment.acquire();\n",
    "    var buffer = acquiredSegment.asByteBuffer();\n",
    "    // no close !\n",
    "  });\n",
    "  thread.start();\n",
    "  thread.join();\n",
    "}"
   ]
  },
  {
   "cell_type": "markdown",
   "metadata": {
    "slideshow": {
     "slide_type": "slide"
    }
   },
   "source": [
    "## Memory Segment - Summary\n",
    "- Thread Bounded\n",
    "- Temporally Bounded\n",
    "- Spatially Bounded\n"
   ]
  },
  {
   "cell_type": "markdown",
   "metadata": {
    "slideshow": {
     "slide_type": "slide"
    }
   },
   "source": [
    "# MemoryAddress and VarHandle\n"
   ]
  },
  {
   "cell_type": "markdown",
   "metadata": {
    "slideshow": {
     "slide_type": "slide"
    }
   },
   "source": [
    "## MemoryAddress\n",
    "An offset inside the segment\n"
   ]
  },
  {
   "cell_type": "code",
   "execution_count": 9,
   "metadata": {},
   "outputs": [
    {
     "name": "stdout",
     "output_type": "stream",
     "text": [
      "MemoryAddress{ region: MemorySegment{ id=0x7ce0cd85 limit: 8192 } offset=0x0 }\n",
      "MemoryAddress{ region: MemorySegment{ id=0x7ce0cd85 limit: 8192 } offset=0x10 }\n"
     ]
    }
   ],
   "source": [
    "try (var segment = MemorySegment.allocateNative(8192)) {\n",
    "  var base = segment.baseAddress();\n",
    "  System.out.println(base);\n",
    "  var newBase = base.addOffset(16);\n",
    "  System.out.println(newBase);\n",
    "}"
   ]
  },
  {
   "cell_type": "markdown",
   "metadata": {
    "slideshow": {
     "slide_type": "slide"
    }
   },
   "source": [
    "## MemoryAddress is value based\n",
    "MemoryAddress is not a classical class\n",
    "- no identity\n",
    "  - synchronized, wait/notify are not supported\n",
    "- acts like a primitive type\n"
   ]
  },
  {
   "cell_type": "markdown",
   "metadata": {},
   "source": [
    "> Not fully implemented yet !\n"
   ]
  },
  {
   "cell_type": "markdown",
   "metadata": {
    "slideshow": {
     "slide_type": "slide"
    }
   },
   "source": [
    "## VarHandle\n",
    "A class representing how of access to a value\n",
    "- primitive, struct, array\n",
    "- byte order (`java.nio.ByteOrder`)\n",
    "- alignment\n",
    "- semantics (plain, volatile, opaque)\n"
   ]
  },
  {
   "cell_type": "markdown",
   "metadata": {
    "slideshow": {
     "slide_type": "slide"
    }
   },
   "source": [
    "## VarHandle (2)\n",
    "A class representing how of access to a value\n"
   ]
  },
  {
   "cell_type": "code",
   "execution_count": 10,
   "metadata": {},
   "outputs": [
    {
     "name": "stdout",
     "output_type": "stream",
     "text": [
      "LITTLE_ENDIAN\n"
     ]
    }
   ],
   "source": [
    "import java.nio.ByteOrder;\n",
    "var nativeOrder = ByteOrder.nativeOrder();\n",
    "System.out.println(nativeOrder);"
   ]
  },
  {
   "cell_type": "code",
   "execution_count": 11,
   "metadata": {},
   "outputs": [
    {
     "name": "stdout",
     "output_type": "stream",
     "text": [
      "VarHandle[varType=int, coord=[interface jdk.internal.access.foreign.MemoryAddressProxy]]\n"
     ]
    }
   ],
   "source": [
    "import java.lang.invoke.VarHandle;\n",
    "VarHandle intHandle = MemoryHandles.varHandle(int.class, nativeOrder);\n",
    "System.out.println(intHandle);"
   ]
  },
  {
   "cell_type": "markdown",
   "metadata": {
    "slideshow": {
     "slide_type": "slide"
    }
   },
   "source": [
    "## Get/set one `int` at address 32  \n"
   ]
  },
  {
   "cell_type": "code",
   "execution_count": 12,
   "metadata": {},
   "outputs": [
    {
     "name": "stdout",
     "output_type": "stream",
     "text": [
      "42\n"
     ]
    }
   ],
   "source": [
    "try (var segment = MemorySegment.allocateNative(8192)) {\n",
    "  var base = segment.baseAddress();\n",
    "  intHandle.set(base.addOffset(32), 42);\n",
    "  System.out.println(intHandle.get(base.addOffset(32)));\n",
    "}"
   ]
  },
  {
   "cell_type": "markdown",
   "metadata": {
    "slideshow": {
     "slide_type": "slide"
    }
   },
   "source": [
    "## Access and alignment\n",
    "You can not read/write a value if the address is not correctly aligned\n"
   ]
  },
  {
   "cell_type": "code",
   "execution_count": 13,
   "metadata": {},
   "outputs": [
    {
     "ename": "EvalException",
     "evalue": "Misaligned access at address: 140481268933715",
     "output_type": "error",
     "traceback": [
      "\u001b[1m\u001b[31m---------------------------------------------------------------------------\u001b[0m",
      "\u001b[1m\u001b[31mjava.lang.IllegalStateException: Misaligned access at address: 140481268933715\u001b[0m",
      "\u001b[1m\u001b[31m\tat java.base/java.lang.invoke.VarHandleMemoryAddressBase.newIllegalStateExceptionForMisalignedAccess(VarHandleMemoryAddressBase.java:54)\u001b[0m",
      "\u001b[1m\u001b[31m\tat java.base/java.lang.invoke.VarHandleMemoryAddressAsLongs.offsetNoVMAlignCheck(VarHandleMemoryAddressAsLongs.java:69)\u001b[0m",
      "\u001b[1m\u001b[31m\tat java.base/java.lang.invoke.VarHandleMemoryAddressAsLongs.set0(VarHandleMemoryAddressAsLongs.java:88)\u001b[0m",
      "\u001b[1m\u001b[31m\tat java.base/java.lang.invoke.VarHandleMemoryAddressAsLongs0/0x0000000800db1440.set(Unknown Source)\u001b[0m",
      "\u001b[1m\u001b[31m\tat java.base/java.lang.invoke.VarHandleGuards.guard_LJ_V(VarHandleGuards.java:177)\u001b[0m",
      "\u001b[1m\u001b[31m\tat .(#32:1)\u001b[0m"
     ]
    }
   ],
   "source": [
    "var longHandle = MemoryHandles.varHandle(long.class, nativeOrder);\n",
    "try(var segment = MemorySegment.allocateNative(8192)) {\n",
    "  longHandle.set(segment.baseAddress().addOffset(3), 0L);\n",
    "}"
   ]
  },
  {
   "cell_type": "markdown",
   "metadata": {
    "slideshow": {
     "slide_type": "slide"
    }
   },
   "source": [
    "## VarHandle Addressing mode\n",
    "- using a direct mode\n",
    "  `handle.get(MemoryAddress)`\n"
   ]
  },
  {
   "cell_type": "code",
   "execution_count": 14,
   "metadata": {},
   "outputs": [
    {
     "name": "stdout",
     "output_type": "stream",
     "text": [
      "VarHandle[varType=int, coord=[interface jdk.internal.access.foreign.MemoryAddressProxy]]\n"
     ]
    }
   ],
   "source": [
    "var intHandle = MemoryHandles.varHandle(int.class, nativeOrder);\n",
    "System.out.println(intHandle);"
   ]
  },
  {
   "cell_type": "markdown",
   "metadata": {},
   "source": [
    "- using an offset (access a member of a struct)\n"
   ]
  },
  {
   "cell_type": "code",
   "execution_count": 15,
   "metadata": {},
   "outputs": [
    {
     "name": "stdout",
     "output_type": "stream",
     "text": [
      "VarHandle[varType=int, coord=[interface jdk.internal.access.foreign.MemoryAddressProxy]]\n"
     ]
    }
   ],
   "source": [
    "var intHandle = MemoryHandles.varHandle(int.class, nativeOrder);\n",
    "var structHandle = MemoryHandles.withOffset(intHandle, 8);\n",
    "System.out.println(structHandle);"
   ]
  },
  {
   "cell_type": "markdown",
   "metadata": {
    "slideshow": {
     "slide_type": "slide"
    }
   },
   "source": [
    "## VarHandle Addressing mode (2)\n",
    "- using an array mode:\n",
    "  `handle.get(MemoryAddress, long)`\n"
   ]
  },
  {
   "cell_type": "code",
   "execution_count": 17,
   "metadata": {},
   "outputs": [
    {
     "name": "stdout",
     "output_type": "stream",
     "text": [
      "VarHandle[varType=int, coord=[interface jdk.internal.access.foreign.MemoryAddressProxy, long]]\n"
     ]
    }
   ],
   "source": [
    "var intHandle = MemoryHandles.varHandle(int.class, nativeOrder);\n",
    "var intArrayHandle = MemoryHandles.withStride(intHandle, 4);\n",
    "System.out.println(intArrayHandle);"
   ]
  },
  {
   "cell_type": "markdown",
   "metadata": {
    "slideshow": {
     "slide_type": "slide"
    }
   },
   "source": [
    "## Get/set an array of `int`s  using an array handle\n"
   ]
  },
  {
   "cell_type": "code",
   "execution_count": 18,
   "metadata": {},
   "outputs": [
    {
     "name": "stdout",
     "output_type": "stream",
     "text": [
      "42\n"
     ]
    }
   ],
   "source": [
    "try (var segment = MemorySegment.allocateNative(8192)) {\n",
    "  var base = segment.baseAddress().addOffset(32);\n",
    "  for (var i = 0 ; i < 128 ; i++) {\n",
    "    intArrayHandle.set(base, i, 42);\n",
    "  }\n",
    "  System.out.println(intArrayHandle.get(base, 64));\n",
    "}"
   ]
  },
  {
   "cell_type": "markdown",
   "metadata": {
    "slideshow": {
     "slide_type": "slide"
    }
   },
   "source": [
    "## Get/set an array of `int`s  using a direct handle\n",
    "Maybe slower because the _stride_ is not hoisted\n",
    "out of the loop\n"
   ]
  },
  {
   "cell_type": "code",
   "execution_count": null,
   "metadata": {},
   "outputs": [],
   "source": [
    "try (var segment = MemorySegment.allocateNative(8192)) {\n",
    "  var base = segment.baseAddress().addOffset(32);\n",
    "  for (var i = 0 ; i < 128 ; i++) {\n",
    "    intHandle.set(base.addOffset(i * 4), 42);\n",
    "  }\n",
    "  System.out.println(intHandle.get(base.addOffset(64 * 4)));\n",
    "}"
   ]
  },
  {
   "cell_type": "markdown",
   "metadata": {
    "slideshow": {
     "slide_type": "slide"
    }
   },
   "source": [
    "## MemoryAddress and VarHandle\n",
    "- MemoryAddress is an offset in the segment\n",
    "- VarHandle specifies the addressing mode\n"
   ]
  },
  {
   "cell_type": "markdown",
   "metadata": {
    "slideshow": {
     "slide_type": "slide"
    }
   },
   "source": [
    "# MemoryLayout\n"
   ]
  },
  {
   "cell_type": "markdown",
   "metadata": {
    "slideshow": {
     "slide_type": "slide"
    }
   },
   "source": [
    "## Example of MemoryLayout\n",
    "Represents a C memory layout\n",
    "```c\n",
    "struct {\n",
    "  int a;\n",
    "  byte b[12];\n",
    "}\n",
    "```\n",
    "- __value__ (number of bits + order)\n",
    "- __group__ (struct or union)\n",
    "- __sequence__ (array, sized or free)\n"
   ]
  },
  {
   "cell_type": "markdown",
   "metadata": {
    "slideshow": {
     "slide_type": "slide"
    }
   },
   "source": [
    "## Example of MemoryLayout (2)\n",
    "```c\n",
    "struct {\n",
    "  int a;\n",
    "  byte b[12];\n",
    "}\n",
    "```\n"
   ]
  },
  {
   "cell_type": "code",
   "execution_count": null,
   "metadata": {},
   "outputs": [],
   "source": [
    "import static jdk.incubator.foreign.MemoryLayout.*;\n",
    "var layout1 = ofStruct(\n",
    "    ofValueBits(32, nativeOrder).withName(\"a\"),\n",
    "    ofSequence(12,\n",
    "        ofValueBits(8, nativeOrder)\n",
    "    ).withName(\"b\")\n",
    ").withBitAlignment(32);\n",
    "System.out.println(layout1);"
   ]
  },
  {
   "cell_type": "markdown",
   "metadata": {
    "slideshow": {
     "slide_type": "slide"
    }
   },
   "source": [
    "## Another example of MemoryLayout\n",
    "```c\n",
    "struct {\n",
    "  double x;\n",
    "  double y;\n",
    "} []\n",
    "```\n"
   ]
  },
  {
   "cell_type": "code",
   "execution_count": null,
   "metadata": {},
   "outputs": [],
   "source": [
    "var layout2 = ofSequence(\n",
    "    ofStruct(\n",
    "        ofValueBits(64, nativeOrder).withName(\"x\"),\n",
    "        ofValueBits(64, nativeOrder).withName(\"y\")\n",
    "    ).withBitAlignment(64)\n",
    ");\n",
    "System.out.println(layout2);"
   ]
  },
  {
   "cell_type": "markdown",
   "metadata": {
    "slideshow": {
     "slide_type": "slide"
    }
   },
   "source": [
    "## Operations on a MemoryLayout\n"
   ]
  },
  {
   "cell_type": "markdown",
   "metadata": {},
   "source": [
    "`withElementCount()` change the dimension of a sequence\n"
   ]
  },
  {
   "cell_type": "code",
   "execution_count": null,
   "metadata": {},
   "outputs": [],
   "source": [
    "System.out.println(layout2);\n",
    "System.out.println(layout2.withElementCount(1024));"
   ]
  },
  {
   "cell_type": "markdown",
   "metadata": {
    "slideshow": {
     "slide_type": "slide"
    }
   },
   "source": [
    "## Operations on a MemoryLayout (2)\n"
   ]
  },
  {
   "cell_type": "markdown",
   "metadata": {},
   "source": [
    "Using a `PathElement`.`groupElement` to locate a field inside a struct and\n",
    "`sequenceElement` to locate an item inside a sequence.\n"
   ]
  },
  {
   "cell_type": "code",
   "execution_count": null,
   "metadata": {},
   "outputs": [],
   "source": [
    "import static jdk.incubator.foreign.MemoryLayout.PathElement.groupElement;\n",
    "import static jdk.incubator.foreign.MemoryLayout.PathElement.sequenceElement;"
   ]
  },
  {
   "cell_type": "markdown",
   "metadata": {},
   "source": [
    "`map()` rewrite a field or an array\n"
   ]
  },
  {
   "cell_type": "code",
   "execution_count": null,
   "metadata": {},
   "outputs": [],
   "source": [
    "System.out.println(layout1);\n",
    "var layout3 = layout1.map(l -> ((SequenceLayout)l).withElementCount(1024), groupElement(\"b\"));\n",
    "System.out.println(layout3);"
   ]
  },
  {
   "cell_type": "markdown",
   "metadata": {
    "slideshow": {
     "slide_type": "slide"
    }
   },
   "source": [
    "# From a MemoryLayout\n"
   ]
  },
  {
   "cell_type": "markdown",
   "metadata": {
    "slideshow": {
     "slide_type": "slide"
    }
   },
   "source": [
    "## VarHandle from a MemoryLayout\n",
    "Create a VarHandle that access to a field of a struct\n"
   ]
  },
  {
   "cell_type": "code",
   "execution_count": null,
   "metadata": {},
   "outputs": [],
   "source": [
    "System.out.println(layout1);\n",
    "var aHandle = layout1.varHandle(int.class, groupElement(\"a\"));\n",
    "System.out.println(aHandle);"
   ]
  },
  {
   "cell_type": "markdown",
   "metadata": {},
   "source": [
    "If the primitive type is not compatible with the size\n"
   ]
  },
  {
   "cell_type": "code",
   "execution_count": null,
   "metadata": {},
   "outputs": [],
   "source": [
    "var aHandle = layout1.varHandle(long.class, groupElement(\"a\"));\n",
    "System.out.println(aHandle);"
   ]
  },
  {
   "cell_type": "markdown",
   "metadata": {
    "slideshow": {
     "slide_type": "slide"
    }
   },
   "source": [
    "## VarHandle from MemoryLayout (2)\n",
    "Using a `PathElement`.`sequenceElement()` to locate a sequence inside a layout.\n",
    "The VarHandle has a supplementary parameter if the array has one free dimension\n"
   ]
  },
  {
   "cell_type": "code",
   "execution_count": null,
   "metadata": {},
   "outputs": [],
   "source": [
    "System.out.println(layout1);\n",
    "var bHandle = layout1.varHandle(byte.class, groupElement(\"b\"), sequenceElement());\n",
    "System.out.println(bHandle);"
   ]
  },
  {
   "cell_type": "code",
   "execution_count": null,
   "metadata": {},
   "outputs": [],
   "source": [
    "System.out.println(layout2);\n",
    "var xHandle = layout2.varHandle(double.class, sequenceElement(), groupElement(\"x\"));\n",
    "System.out.println(xHandle);"
   ]
  },
  {
   "cell_type": "markdown",
   "metadata": {
    "slideshow": {
     "slide_type": "slide"
    }
   },
   "source": [
    "## A MemorySegment from a MemoryLayout\n",
    "You can ask for a segment of the right size from a layout\n"
   ]
  },
  {
   "cell_type": "code",
   "execution_count": null,
   "metadata": {},
   "outputs": [],
   "source": [
    "var aHandle = layout1.varHandle(int.class, groupElement(\"a\"));\n",
    "var bHandle = layout1.varHandle(byte.class, groupElement(\"b\"), sequenceElement());\n",
    "try (var segment = MemorySegment.allocateNative(layout1)) {\n",
    "  var base = segment.baseAddress();\n",
    "  aHandle.set(base, 42);\n",
    "  bHandle.set(base, 7, (byte)42);\n",
    "  System.out.println(aHandle.get(base) + \" \" + bHandle.get(base, 7));\n",
    "}"
   ]
  },
  {
   "cell_type": "markdown",
   "metadata": {
    "slideshow": {
     "slide_type": "slide"
    }
   },
   "source": [
    "# Performance\n"
   ]
  },
  {
   "cell_type": "markdown",
   "metadata": {
    "slideshow": {
     "slide_type": "slide"
    }
   },
   "source": [
    "# Perf: Read 8192 bytes as ints\n",
    "Loop only, constant memory\n"
   ]
  },
  {
   "cell_type": "markdown",
   "metadata": {},
   "source": [
    "with a `intHandle`\n",
    "```java\n",
    "var sum = 0;\n",
    "for (var i = 0; i < 1024; i++) {\n",
    "  sum += (int)INT_HANDLE.get(BASE.addOffset(i * 4));\n",
    "}\n",
    "blackhole.consume(sum);\n",
    "```\n"
   ]
  },
  {
   "cell_type": "markdown",
   "metadata": {
    "slideshow": {
     "slide_type": "slide"
    }
   },
   "source": [
    "# Perf: Read 8192 bytes as ints\n",
    "Loop only, constant memory\n"
   ]
  },
  {
   "cell_type": "markdown",
   "metadata": {},
   "source": [
    "with a `intArrayHandle`\n",
    "```java\n",
    "var sum = 0;\n",
    "for (var i = 0; i < 1024; i++) {\n",
    "  sum += (int)INT_ARRAY_HANDLE.get(BASE, (long) i);\n",
    "}\n",
    "blackhole.consume(sum);\n",
    "```\n"
   ]
  },
  {
   "cell_type": "markdown",
   "metadata": {
    "slideshow": {
     "slide_type": "slide"
    }
   },
   "source": [
    "## Perf: Read 8192 bytes as ints\n",
    "Loop only, constant memory\n"
   ]
  },
  {
   "cell_type": "markdown",
   "metadata": {},
   "source": [
    "| Benchmark             | Score   | Error    | Units |\n",
    "| --------------------- | ------- | -------- | ----- |\n",
    "|bytebuffer             | 245.003 | ±  7.009 | ns/op |\n",
    "|segment_intArrayHandle | 246.747 | ±  7.306 | ns/op |\n",
    "|segment_intHandle      | 627.923 | ±  1.115 | ns/op |\n",
    "|unsafe                 | 240.544 | ±  9.917 | ns/op |\n"
   ]
  },
  {
   "cell_type": "markdown",
   "metadata": {
    "slideshow": {
     "slide_type": "slide"
    }
   },
   "source": [
    "## Perf: Read 8192 bytes as ints (2)\n",
    "Creation + loop\n"
   ]
  },
  {
   "cell_type": "markdown",
   "metadata": {},
   "source": [
    "with a `intArrayHandle`\n",
    "```java\n",
    "try(var segment = MemorySegment.allocateNative(8192)) {\n",
    "  var base = segment.baseAddress();\n",
    "  var sum = 0;\n",
    "  for (var i = 0; i < 1024; i++) {\n",
    "    sum += (int)INT_ARRAY_HANDLE.get(base, (long) i);\n",
    "  }\n",
    "  blackhole.consume(sum);\n",
    "}\n",
    "```\n"
   ]
  },
  {
   "cell_type": "markdown",
   "metadata": {
    "slideshow": {
     "slide_type": "slide"
    }
   },
   "source": [
    "## Perf: Read 8192 bytes as ints (2)\n",
    "Creation + loop\n"
   ]
  },
  {
   "cell_type": "markdown",
   "metadata": {},
   "source": [
    "| Benchmark             | Score   | Error    | Units |\n",
    "| --------------------- | ------- | -------- | ----- |\n",
    "|bytebuffer             | 672.081 | ± 19.294 | ns/op |\n",
    "|segment_intArrayHandle | 620.525 | ± 10.574 | ns/op |\n",
    "|segment_intHandle      | 869.473 | ±  6.158 | ns/op |\n",
    "|unsafe_clean           | 594.088 | ± 23.806 | ns/op |\n",
    "|unsafe_noclean         | 322.504 | ±  0.473 | ns/op |\n"
   ]
  },
  {
   "cell_type": "markdown",
   "metadata": {
    "slideshow": {
     "slide_type": "slide"
    }
   },
   "source": [
    "## Perf: Write 8192 bytes as ints\n",
    "loop only, constant memory\n"
   ]
  },
  {
   "cell_type": "markdown",
   "metadata": {},
   "source": [
    "with a `intArrayHandle`\n",
    "```java\n",
    "for (var i = 0; i < 1024; i++) {\n",
    "  INT_ARRAY_HANDLE.set(BASE, (long) i, 42);\n",
    "}\n",
    "```\n"
   ]
  },
  {
   "cell_type": "markdown",
   "metadata": {
    "slideshow": {
     "slide_type": "slide"
    }
   },
   "source": [
    "## Pref: Write 8192 bytes as ints\n",
    "Loop only, constant memory\n"
   ]
  },
  {
   "cell_type": "markdown",
   "metadata": {},
   "source": [
    "| Benchmark             | Score   | Error    | Units |\n",
    "| --------------------- | ------- | -------- | ----- |\n",
    "|bytebuffer             |  37.467 | ±  0.323 | ns/op |\n",
    "|segment_intArrayHandle |  32.235 | ±  0.276 | ns/op |\n",
    "|segment_intHandle      | 544.011 | ± 17.242 | ns/op |\n",
    "|unsafe                 | 249.486 | ±  7.173 | ns/op |\n"
   ]
  },
  {
   "cell_type": "markdown",
   "metadata": {
    "slideshow": {
     "slide_type": "slide"
    }
   },
   "source": [
    "## Perf: Write 8192 bytes as ints (2)\n",
    "Creation + loop\n"
   ]
  },
  {
   "cell_type": "markdown",
   "metadata": {},
   "source": [
    "```java\n",
    "try(var segment = MemorySegment.allocateNative(8192)) {\n",
    "  var base = segment.baseAddress();\n",
    "  for (var i = 0; i < 1024; i++) {\n",
    "    INT_ARRAY_HANDLE.set(base, (long) i, 42);\n",
    "  }\n",
    "}\n",
    "```\n"
   ]
  },
  {
   "cell_type": "markdown",
   "metadata": {
    "slideshow": {
     "slide_type": "slide"
    }
   },
   "source": [
    "## Write 8192 bytes as ints (2)\n",
    "creation + loop\n"
   ]
  },
  {
   "cell_type": "markdown",
   "metadata": {},
   "source": [
    "| Benchmark             |  Score  | Error    | Units |\n",
    "| --------------------- | ------- | -------- | ----- |\n",
    "|bytebuffer             | 473.377 | ±  2.261 | ns/op |\n",
    "|segment_intArrayHandle | 414.514 | ±  1.010 | ns/op |\n",
    "|segment_intHandle      | 805.126 | ± 21.460 | ns/op |\n",
    "|unsafe_clean           | 598.735 | ± 23.234 | ns/op |\n",
    "|unsafe_noclean         | 328.945 | ±  1.568 | ns/op |\n"
   ]
  },
  {
   "cell_type": "markdown",
   "metadata": {
    "slideshow": {
     "slide_type": "slide"
    }
   },
   "source": [
    "# Missing methods ??\n"
   ]
  },
  {
   "cell_type": "markdown",
   "metadata": {
    "slideshow": {
     "slide_type": "slide"
    }
   },
   "source": [
    "## Provide elementCounts for the sequences after having created the MemoryLayout\n"
   ]
  },
  {
   "cell_type": "code",
   "execution_count": null,
   "metadata": {},
   "outputs": [],
   "source": [
    "MemoryLayout withElementCounts(MemoryLayout layout, Iterator<Integer> counts) {\n",
    "  if (!counts.hasNext()) {\n",
    "    return layout;\n",
    "  }\n",
    "  if (layout instanceof SequenceLayout seq) {\n",
    "    var elementCount = seq.elementCount().orElse(counts.next());\n",
    "    var result = ofSequence(elementCount, withElementCounts(seq.elementLayout(), counts)).withBitAlignment(seq.bitAlignment());\n",
    "    return seq.name().map(result::withName).orElse(result);\n",
    "  }\n",
    "  if (layout instanceof GroupLayout group) {\n",
    "    var result = ofStruct(group.memberLayouts().stream().map(l -> withElementCounts(l, counts)).toArray(MemoryLayout[]::new)).withBitAlignment(group.bitAlignment());\n",
    "    return group.name().map(result::withName).orElse(result);\n",
    "  }\n",
    "  return layout;\n",
    "}\n",
    "MemoryLayout withElementCounts(MemoryLayout layout, int... counts) {\n",
    "  return withElementCounts(layout, Arrays.stream(counts).boxed().iterator());\n",
    "}"
   ]
  },
  {
   "cell_type": "markdown",
   "metadata": {
    "slideshow": {
     "slide_type": "slide"
    }
   },
   "source": [
    "## How to use it ?\n"
   ]
  },
  {
   "cell_type": "code",
   "execution_count": null,
   "metadata": {},
   "outputs": [],
   "source": [
    "var partialArrayLayout = ofSequence(ofSequence(\n",
    "    ofStruct(\n",
    "        ofValueBits(64, nativeOrder).withName(\"x\"),\n",
    "        ofValueBits(64, nativeOrder).withName(\"y\")\n",
    "    ).withBitAlignment(64)\n",
    "));\n",
    "System.out.println(partialArrayLayout);"
   ]
  },
  {
   "cell_type": "code",
   "execution_count": null,
   "metadata": {},
   "outputs": [],
   "source": [
    "var matrix8x8Layout = withElementCounts(partialArrayLayout, 8, 8);\n",
    "System.out.println(matrix8x8Layout);"
   ]
  },
  {
   "cell_type": "markdown",
   "metadata": {
    "slideshow": {
     "slide_type": "slide"
    }
   },
   "source": [
    "## Provide an API entry point to create a MemoryLayout from the String representation instead of using a Constable\n",
    "One of these format is lighter than the other, no ?\n"
   ]
  },
  {
   "cell_type": "code",
   "execution_count": null,
   "metadata": {},
   "outputs": [],
   "source": [
    "System.out.println(partialArrayLayout);\n",
    "System.out.println(partialArrayLayout.describeConstable());"
   ]
  }
 ],
 "metadata": {
  "celltoolbar": "Slideshow",
  "kernelspec": {
   "display_name": "Java",
   "language": "java",
   "name": "java"
  },
  "language_info": {
   "codemirror_mode": "java",
   "file_extension": ".jshell",
   "mimetype": "text/x-java-source",
   "name": "Java",
   "pygments_lexer": "java",
   "version": "15-ea+13-487"
  },
  "rise": {
   "autolaunch": true
  }
 },
 "nbformat": 4,
 "nbformat_minor": 2
}
