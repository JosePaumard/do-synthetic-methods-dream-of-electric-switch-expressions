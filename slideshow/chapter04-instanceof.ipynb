{
  "cells": [{
  "cell_type": "markdown",
  "metadata": {
  "slideshow": {
    "slide_type": "slide"
  }
}
,
  "source": ["# Pattern matching for Instanceof\n"]
}
,
{
  "cell_type": "markdown",
  "metadata": {
  "slideshow": {
    "slide_type": "slide"
  }
}
,
  "source": ["## Design forces\n", "- prepare instanceof for the pattern matching\n", "- remove the useless cast\n"]
}
,
{
  "cell_type": "markdown",
  "metadata": {
  "slideshow": {
    "slide_type": "slide"
  }
}
,
  "source": ["## The old instanceof\n"]
}
,
{
  "cell_type": "code",
  "execution_count": null,
  "metadata": {},
  "outputs": [],
  "source": ["record Author(String name) {\n", "  public boolean equals(Object o) {\n", "    if (!(o instanceof Author)) {\n", "      return false;\n", "    }\n", "    var author = (Author) o;\n", "    return name.equals(author.name);\n", "  }\n", "}"]
}
,
{
  "cell_type": "markdown",
  "metadata": {
  "slideshow": {
    "slide_type": "slide"
  }
}
,
  "source": ["## What wrong with the old instanceof ?\n", "The cast is unnecessary.\n"]
}
,
{
  "cell_type": "code",
  "execution_count": null,
  "metadata": {},
  "outputs": [],
  "source": ["record Author(String name) {\n", "  public boolean equals(Object o) {\n", "    if (!(o instanceof Author)) {\n", "      return false;\n", "    }\n", "    var author = (Author) o;   // <-- that cast\n", "    return name.equals(author.name);\n", "  }\n", "}"]
}
,
{
  "cell_type": "markdown",
  "metadata": {},
  "source": ["> The VM routinely removes it, so it's not present\n", "> in the generated assembly code\n"]
}
,
{
  "cell_type": "markdown",
  "metadata": {
  "slideshow": {
    "slide_type": "slide"
  }
}
,
  "source": ["# Type test Pattern\n"]
}
,
{
  "cell_type": "markdown",
  "metadata": {
  "slideshow": {
    "slide_type": "slide"
  }
}
,
  "source": ["# ![Shanghai Blade Runner Style](images/blade-runner-shanghai.jpg)\n"]
}
,
{
  "cell_type": "markdown",
  "metadata": {
  "slideshow": {
    "slide_type": "slide"
  }
}
,
  "source": ["## Type test pattern \n", "Declare a variable available if the `instanceof` is true\n"]
}
,
{
  "cell_type": "code",
  "execution_count": null,
  "metadata": {},
  "outputs": [],
  "source": ["record Author(String name) {\n", "  public boolean equals(Object o) {\n", "    return o instanceof Author author\n", "      && name.equals(author.name);\n", "  }\n", "}\n", "var author = new Author(\"bob\");\n", "var author2 = new Author(\"bob\");\n", "System.out.println(author.equals(author2));"]
}
,
{
  "cell_type": "markdown",
  "metadata": {
  "slideshow": {
    "slide_type": "slide"
  }
}
,
  "source": ["## Shadowing a local variable\n", "Like with any other local variable declarations, shadowing is not allowed\n"]
}
,
{
  "cell_type": "code",
  "execution_count": null,
  "metadata": {},
  "outputs": [],
  "source": ["record Point(int x, int y) { }\n", "void m(Point p, Object o) {\n", "  if (o instanceof Point p) {\n", "    // p shadow the parameter p\n", "  }\n", "}"]
}
,
{
  "cell_type": "markdown",
  "metadata": {
  "slideshow": {
    "slide_type": "slide"
  }
}
,
  "source": ["## Type pattern reusing the same name\n", "It's ok if each type pattern is in own branch\n"]
}
,
{
  "cell_type": "code",
  "execution_count": null,
  "metadata": {},
  "outputs": [],
  "source": ["Number add(int v1, Number v2) {\n", "  if (v2 instanceof Integer value) {\n", "    return v1 + value;\n", "  } else if (v2 instanceof Double value) {\n", "    return v1 + value;\n", "  } else {\n", "    throw new IllegalArgumentException();\n", "  }\n", "}\n", "System.out.println(add(3, 4));\n", "System.out.println(add(3, 4.0));"]
}
,
{
  "cell_type": "markdown",
  "metadata": {
  "slideshow": {
    "slide_type": "slide"
  }
}
,
  "source": ["# Type test pattern with `||` and `&&`\n"]
}
,
{
  "cell_type": "markdown",
  "metadata": {
  "slideshow": {
    "slide_type": "slide"
  }
}
,
  "source": ["# ![Shenzen Blade Runner Style](images/blade-runner-shenzen.jpg)\n"]
}
,
{
  "cell_type": "markdown",
  "metadata": {
  "slideshow": {
    "slide_type": "slide"
  }
}
,
  "source": ["## Or-ing Type patterns with the same name\n", "This fail because there is not union type in Java\n"]
}
,
{
  "cell_type": "code",
  "execution_count": null,
  "metadata": {},
  "outputs": [],
  "source": ["Number add(int v1, Number v2) {\n", "  if (v2 instanceof Integer value || v2 instanceof Double value) {\n", "    return v1 + value;\n", "  } else {\n", "    throw new IllegalArgumentException();\n", "  }\n", "}"]
}
,
{
  "cell_type": "markdown",
  "metadata": {
  "slideshow": {
    "slide_type": "slide"
  }
}
,
  "source": ["## Or-ing Type patterns\n", "This works but neither `i1` nor `i2` are available !\n"]
}
,
{
  "cell_type": "code",
  "execution_count": null,
  "metadata": {},
  "outputs": [],
  "source": ["void plus(Number v1, Number v2) {\n", "  if (v1 instanceof Integer i1 || v2 instanceof Integer i2) {\n", "     // both i1 and i2 are not in the scope !\n", "  }\n", "}"]
}
,
{
  "cell_type": "markdown",
  "metadata": {
  "slideshow": {
    "slide_type": "slide"
  }
}
,
  "source": ["## And-ing Type patterns\n", "This work, both `i1` and `i2` are in the scope\n"]
}
,
{
  "cell_type": "code",
  "execution_count": null,
  "metadata": {},
  "outputs": [],
  "source": ["int plus(Number v1, Number v2) {\n", "  if (v1 instanceof Integer i1 && v2 instanceof Integer i2) {\n", "    return i1 + i2;\n", "  } else {\n", "    throw new IllegalArgumentException();\n", "  }\n", "}\n", "System.out.println(plus(3, 4));"]
}
,
{
  "cell_type": "markdown",
  "metadata": {
  "slideshow": {
    "slide_type": "slide"
  }
}
,
  "source": ["# Type test pattern with `if`, `if`/`else`\n"]
}
,
{
  "cell_type": "markdown",
  "metadata": {
  "slideshow": {
    "slide_type": "slide"
  }
}
,
  "source": ["# ![China Blade Runner Style](images/blade-runner-china.jpg)\n"]
}
,
{
  "cell_type": "markdown",
  "metadata": {
  "slideshow": {
    "slide_type": "slide"
  }
}
,
  "source": ["## And with an `if`/`else`\n"]
}
,
{
  "cell_type": "code",
  "execution_count": null,
  "metadata": {},
  "outputs": [],
  "source": ["record Author(String name) {\n", "  public boolean equals(Object o) {\n", "    if (!(o instanceof Author author)) {\n", "      return false;\n", "    } else {\n", "      return name.equals(author.name);\n", "    }\n", "  }\n", "}\n", "var author = new Author(\"bob\");\n", "var author2 = new Author(\"bob\");\n", "System.out.println(author.equals(author2));"]
}
,
{
  "cell_type": "markdown",
  "metadata": {
  "slideshow": {
    "slide_type": "slide"
  }
}
,
  "source": ["## And with an `if` and no `else`\n"]
}
,
{
  "cell_type": "code",
  "execution_count": null,
  "metadata": {},
  "outputs": [],
  "source": ["record Author(String name) {\n", "  public boolean equals(Object o) {\n", "    if (!(o instanceof Author author)) {\n", "      return false;\n", "    }\n", "    return name.equals(author.name);\n", "  }\n", "}\n", "var author = new Author(\"bob\");\n", "var author2 = new Author(\"bob\");\n", "System.out.println(author.equals(author2));"]
}
,
{
  "cell_type": "markdown",
  "metadata": {
  "slideshow": {
    "slide_type": "slide"
  }
}
,
  "source": ["# Future\n"]
}
,
{
  "cell_type": "markdown",
  "metadata": {
  "slideshow": {
    "slide_type": "slide"
  }
}
,
  "source": ["# ![Blade Runner 2049 Ad](images/blade-runner-ad.jpg)\n"]
}
,
{
  "cell_type": "markdown",
  "metadata": {
  "slideshow": {
    "slide_type": "slide"
  }
}
,
  "source": ["## Pattern matching + Destructuring\n", "Extract record components automatically \n"]
}
,
{
  "cell_type": "markdown",
  "metadata": {},
  "source": ["```java\n", "record Point(int x, int y) {\n", "  public boolean equals(Object o) {\n", "    return o instanceof Point(int x, int y)\n", "      && this.x == x\n", "      && this.y == y;\n", "  }\n", "}\n", "```\n"]
}
,
{
  "cell_type": "markdown",
  "metadata": {
  "slideshow": {
    "slide_type": "slide"
  }
}
,
  "source": ["## Destructuring + Inference\n", "The type of the record components can be inferred\n"]
}
,
{
  "cell_type": "markdown",
  "metadata": {},
  "source": ["```java\n", "record Point(int x, int y) {\n", "  public boolean equals(Object o) {\n", "    return o instanceof Point(var x, var y)\n", "      && this.x == x\n", "      && this.y == y;\n", "  }\n", "}\n", "```\n"]
}
,
{
  "cell_type": "markdown",
  "metadata": {
  "slideshow": {
    "slide_type": "slide"
  }
}
,
  "source": ["## Use switch !\n", "Use a switch instead of a cascade of `if` ... `else`\n"]
}
,
{
  "cell_type": "markdown",
  "metadata": {},
  "source": ["```java\n", "Number add(int v1, Number v2) {\n", "  return switch(v2) {\n", "    case Integer value -> v1 + value;\n", "    case Double value -> v1 + value;\n", "    default -> new IllegalArgumentException();\n", "  };\n", "}\n", "```\n"]
}
,
{
  "cell_type": "markdown",
  "metadata": {
  "slideshow": {
    "slide_type": "slide"
  }
}
,
  "source": ["# Summary\n", "- add Pattern matching to Java\n", "- `instanceof` with a type test pattern\n", "- introduce a new local variable\n", "- doesn't work with `||`\n", "- works with `&&`, `if` and `if`/`else`\n"]
}
],
  "metadata": {
    "celltoolbar": "Slideshow",
    "kernelspec": {
      "display_name": "Java",
      "language": "java",
      "name": "java"
    },
    "language_info": {
      "codemirror_mode": "java",
      "file_extension": ".java",
      "mimetype": "text/x-java-source",
      "name": "Java",
      "pygments_lexer": "java",
      "version": "15"
    },
    "rise": {
      "autolaunch": true
    }
  },
  "nbformat": 4,
  "nbformat_minor": 2
}

