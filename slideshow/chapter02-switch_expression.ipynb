{
  "cells": [{
  "cell_type": "markdown",
  "metadata": {},
  "source": []
}
,
{
  "cell_type": "markdown",
  "metadata": {
  "slideshow": {
    "slide_type": "slide"
  }
}
,
  "source": ["# Switch Expression\n"]
}
,
{
  "cell_type": "markdown",
  "metadata": {
  "slideshow": {
    "slide_type": "slide"
  }
}
,
  "source": ["## Design forces\n", "- enhance switch to be an expression\n", "- fix C switch warts ?\n"]
}
,
{
  "cell_type": "markdown",
  "metadata": {
  "slideshow": {
    "slide_type": "slide"
  }
}
,
  "source": ["## The C switch statement\n"]
}
,
{
  "cell_type": "code",
  "execution_count": null,
  "metadata": {},
  "outputs": [],
  "source": ["void color(String vehicle) {\n", "  switch(vehicle) {\n", "    case \"car\":\n", "    case \"sedan\":\n", "      var length = vehicle.length();\n", "      System.out.println((length < 4)? \"blue\": \"red\");\n", "      break;\n", "    case \"bus\":\n", "      System.out.println(\"yellow\");\n", "      break;\n", "    default:\n", "      throw new AssertionError();\n", "  }\n", "}\n", "color(\"sedan\");\n"]
}
,
{
  "cell_type": "markdown",
  "metadata": {
  "slideshow": {
    "slide_type": "slide"
  }
}
,
  "source": ["## What wrong with the C switch ?\n", "`break` is easy to forget (fallthrough)\n"]
}
,
{
  "cell_type": "code",
  "execution_count": null,
  "metadata": {},
  "outputs": [],
  "source": ["void color(String vehicle) {\n", "  switch(vehicle) {\n", "    case \"car\":\n", "    case \"sedan\":\n", "      var length = vehicle.length();\n", "      System.out.println((length < 4)? \"blue\": \"red\");\n", "      // oops\n", "    case \"bus\":\n", "      System.out.println(\"yellow\");\n", "      break;\n", "    default:\n", "      throw new AssertionError();\n", "  }\n", "}\n", "color(\"sedan\");\n"]
}
,
{
  "cell_type": "markdown",
  "metadata": {
  "slideshow": {
    "slide_type": "slide"
  }
}
,
  "source": ["## What wrong with the C switch ? (2)\n", "The scope of the local variable is weird\n"]
}
,
{
  "cell_type": "code",
  "execution_count": null,
  "metadata": {},
  "outputs": [],
  "source": ["void color(String vehicle) {\n", "  switch(vehicle) {\n", "    case \"car\":\n", "    case \"sedan\":\n", "      var length = vehicle.length();\n", "      System.out.println((length < 4)? \"blue\": \"red\");\n", "      break;\n", "    case \"bus\":\n", "      var length = 0;  // removing var works !!\n", "      System.out.println(\"yellow\");\n", "      break;\n", "    default:\n", "      throw new AssertionError();\n", "  }\n", "}\n", "color(\"sedan\");\n"]
}
,
{
  "cell_type": "markdown",
  "metadata": {
  "slideshow": {
    "slide_type": "slide"
  }
}
,
  "source": ["## What wrong with the C switch ? (3)\n", "`default` is not required\n"]
}
,
{
  "cell_type": "code",
  "execution_count": null,
  "metadata": {},
  "outputs": [],
  "source": ["void color(String vehicle) {\n", "  switch(vehicle) {\n", "    case \"car\":\n", "    case \"sedan\":\n", "      var length = vehicle.length();\n", "      System.out.println((length < 4)? \"blue\": \"red\");\n", "      break;\n", "    case \"bus\":\n", "      System.out.println(\"yellow\");\n", "      break;\n", "    // default:\n", "    //  throw new AssertionError();\n", "  }\n", "}\n", "color(\"sedan\");\n"]
}
,
{
  "cell_type": "markdown",
  "metadata": {
  "slideshow": {
    "slide_type": "slide"
  }
}
,
  "source": ["# Arrow syntax\n"]
}
,
{
  "cell_type": "markdown",
  "metadata": {
  "slideshow": {
    "slide_type": "slide"
  }
}
,
  "source": ["## Introduce a new syntax\n", "- avoid fallthrough: use curly braces\n", "- weird scope: use curly braces\n"]
}
,
{
  "cell_type": "code",
  "execution_count": null,
  "metadata": {},
  "outputs": [],
  "source": ["void color(String vehicle) {\n", "  switch(vehicle) {\n", "    case \"car\" -> {\n", "      var length = vehicle.length();\n", "      System.out.println((length < 4)? \"blue\": \"red\");\n", "    }\n", "    case \"sedan\" -> {\n", "      var length = vehicle.length();\n", "      System.out.println((length < 4)? \"blue\": \"red\");\n", "    }\n", "    case \"bus\" -> {\n", "      var length = 0;\n", "      System.out.println(\"yellow\");\n", "    }\n", "    default -> {\n", "      throw new AssertionError();  \n", "    }\n", "  }\n", "}\n", "color(\"sedan\");\n"]
}
,
{
  "cell_type": "markdown",
  "metadata": {
  "slideshow": {
    "slide_type": "slide"
  }
}
,
  "source": ["## Comma separated values\n", "Allow to use comma between the values of a `case` to enable sharing\n"]
}
,
{
  "cell_type": "code",
  "execution_count": null,
  "metadata": {},
  "outputs": [],
  "source": ["void color(String vehicle) {\n", "  switch(vehicle) {\n", "    case \"car\", \"sedan\" -> {\n", "      var length = vehicle.length();\n", "      System.out.println((length < 4)? \"blue\": \"red\");\n", "    }\n", "    case \"bus\" -> {\n", "      System.out.println(\"yellow\");\n", "    }\n", "    default -> {\n", "      throw new AssertionError();  \n", "    }\n", "  }\n", "}\n", "color(\"sedan\");\n"]
}
,
{
  "cell_type": "markdown",
  "metadata": {
  "slideshow": {
    "slide_type": "slide"
  }
}
,
  "source": ["## Short syntax if one statement/expression\n", "Same short syntax as for a lambda\n"]
}
,
{
  "cell_type": "code",
  "execution_count": null,
  "metadata": {},
  "outputs": [],
  "source": ["void color(String vehicle) {\n", "  switch(vehicle) {\n", "    case \"car\", \"sedan\" -> {\n", "      var length = vehicle.length();\n", "      System.out.println((length < 4)? \"blue\": \"red\");\n", "    }\n", "    case \"bus\" -> System.out.println(\"yellow\");\n", "    default -> {\n", "      throw new AssertionError();  \n", "    }\n", "  }\n", "}\n", "color(\"sedan\");\n"]
}
,
{
  "cell_type": "markdown",
  "metadata": {},
  "source": ["> `throw` was overlooked !\n"]
}
,
{
  "cell_type": "markdown",
  "metadata": {
  "slideshow": {
    "slide_type": "slide"
  }
}
,
  "source": ["## `default` still not required\n", "For maximum compatibility and easy refactoring\n"]
}
,
{
  "cell_type": "code",
  "execution_count": null,
  "metadata": {},
  "outputs": [],
  "source": ["void color(String vehicle) {\n", "  switch(vehicle) {\n", "    case \"car\", \"sedan\" -> {\n", "      var length = vehicle.length();\n", "      System.out.println((length < 4)? \"blue\": \"red\");\n", "    }\n", "    case \"bus\" -> System.out.println(\"yellow\");\n", "    // default -> {\n", "    //  throw new AssertionError();  \n", "    // }\n", "  }\n", "}\n", "color(\"sedan\");\n"]
}
,
{
  "cell_type": "markdown",
  "metadata": {},
  "source": ["> We may regret this decision !\n"]
}
,
{
  "cell_type": "markdown",
  "metadata": {
  "slideshow": {
    "slide_type": "slide"
  }
}
,
  "source": ["# Switch expression\n"]
}
,
{
  "cell_type": "markdown",
  "metadata": {
  "slideshow": {
    "slide_type": "slide"
  }
}
,
  "source": ["## Allows switch to have a value\n", "\n"]
}
,
{
  "cell_type": "code",
  "execution_count": null,
  "metadata": {},
  "outputs": [],
  "source": ["void color(String vehicle) {\n", "  var color = switch(vehicle) {\n", "    //case \"car\", \"sedan\" -> {\n", "    //  var length = vehicle.length();\n", "    //  System.out.println((length < 4)? \"blue\": \"red\");\n", "    //}\n", "    case \"bus\" -> \"yellow\";\n", "    default -> {\n", "      throw new AssertionError();  \n", "    }\n", "  };\n", "  System.out.println(color);\n", "}\n", "color(\"bus\");\n"]
}
,
{
  "cell_type": "markdown",
  "metadata": {
  "slideshow": {
    "slide_type": "slide"
  }
}
,
  "source": ["## Use `yield` to indicate the value\n", "\n"]
}
,
{
  "cell_type": "code",
  "execution_count": null,
  "metadata": {},
  "outputs": [],
  "source": ["void color(String vehicle) {\n", "  var color = switch(vehicle) {\n", "    case \"car\", \"sedan\" -> {\n", "      var length = vehicle.length();\n", "      yield (length < 4)? \"blue\": \"red\";\n", "    }\n", "    case \"bus\" -> \"yellow\";\n", "    default -> {\n", "      throw new AssertionError();  \n", "    }\n", "  };\n", "  System.out.println(color);\n", "}\n", "color(\"sedan\");\n"]
}
,
{
  "cell_type": "markdown",
  "metadata": {
  "slideshow": {
    "slide_type": "slide"
  }
}
,
  "source": ["## Backward source compatibility\n", "`yield` is a new keyword:\n", "- what about a local variable named `yield` ?\n", "- what about `Thread.yield()` ?\n"]
}
,
{
  "cell_type": "markdown",
  "metadata": {
  "slideshow": {
    "slide_type": "slide"
  }
}
,
  "source": ["## `yield` is a restricted keyword\n", "`yield` is only enable at the beginning of a statement\n"]
}
,
{
  "cell_type": "code",
  "execution_count": null,
  "metadata": {},
  "outputs": [],
  "source": ["void color(String vehicle) {\n", "  Thread.yield();\n", "  var color = switch(vehicle) {\n", "    case \"car\", \"sedan\" -> {\n", "      var length = vehicle.length();\n", "      yield (length < 4)? \"blue\": \"red\";\n", "    }\n", "    case \"bus\" -> \"yellow\";\n", "    default -> {\n", "      var yield = 42;\n", "      throw new AssertionError();  \n", "    }\n", "  };\n", "  System.out.println(color);\n", "}\n", "color(\"sedan\");\n"]
}
,
{
  "cell_type": "markdown",
  "metadata": {
  "slideshow": {
    "slide_type": "slide"
  }
}
,
  "source": ["## `yield` is a restricted keyword (2)\n", "`yield` is only enable at the beginning of a statement\n"]
}
,
{
  "cell_type": "code",
  "execution_count": null,
  "metadata": {},
  "outputs": [],
  "source": ["void yield() { }\n", "void color(String vehicle) {\n", "  yield();\n", "}\n"]
}
,
{
  "cell_type": "code",
  "execution_count": null,
  "metadata": {},
  "outputs": [],
  "source": ["void yield(int value) { }\n", "void color(String vehicle) {\n", "  yield(42);\n", "}\n"]
}
,
{
  "cell_type": "markdown",
  "metadata": {
  "slideshow": {
    "slide_type": "slide"
  }
}
,
  "source": ["# Expression switch and `default`\n"]
}
,
{
  "cell_type": "markdown",
  "metadata": {
  "slideshow": {
    "slide_type": "slide"
  }
}
,
  "source": ["## `default` is required if not exhaustive\n", "The example below doesn't compile !\n"]
}
,
{
  "cell_type": "code",
  "execution_count": null,
  "metadata": {},
  "outputs": [],
  "source": ["void color(String vehicle) {\n", "  var color = switch(vehicle) {\n", "    case \"car\", \"sedan\" -> {\n", "      var length = vehicle.length();\n", "      yield (length < 4)? \"blue\": \"red\";\n", "    }\n", "    case \"bus\" -> \"yellow\";\n", "    // default -> { throw new AssertionError(); }\n", "  };\n", "  System.out.println(color);\n", "}\n", "color(\"sedan\");\n"]
}
,
{
  "cell_type": "markdown",
  "metadata": {
  "slideshow": {
    "slide_type": "slide"
  }
}
,
  "source": ["## `default` not required if exhaustive\n", "switch on enum can be seen as exhaustive or not\n"]
}
,
{
  "cell_type": "code",
  "execution_count": null,
  "metadata": {},
  "outputs": [],
  "source": ["enum Vehicle { CAR, SEDAN, BUS }\n", "void color(Vehicle vehicle) {\n", "  var color = switch(vehicle) {\n", "    case CAR, SEDAN -> {\n", "      var length = vehicle.name().length();\n", "      yield (length < 4)? \"blue\": \"red\";\n", "    }\n", "    case BUS -> \"yellow\";\n", "    // default -> { throw new AssertionError(); }\n", "  };\n", "  System.out.println(color);\n", "}\n", "color(Vehicle.SEDAN);\n"]
}
,
{
  "cell_type": "markdown",
  "metadata": {
  "slideshow": {
    "slide_type": "slide"
  }
}
,
  "source": ["## `default` not required if exhaustive (2)\n", "It doesn't compile if not exhaustive !\n"]
}
,
{
  "cell_type": "code",
  "execution_count": null,
  "metadata": {},
  "outputs": [],
  "source": ["enum Vehicle { CAR, SEDAN, BUS, JET }\n", "void color(Vehicle vehicle) {\n", "  var color = switch(vehicle) {\n", "    case CAR, SEDAN -> {\n", "      var length = vehicle.name().length();\n", "      yield (length < 4)? \"blue\": \"red\";\n", "    }\n", "    case BUS -> \"yellow\";\n", "  };\n", "  System.out.println(color);\n", "}\n"]
}
],
  "metadata": {
    "celltoolbar": "Slideshow",
    "kernelspec": {
      "display_name": "Java",
      "language": "java",
      "name": "java"
    },
    "language_info": {
      "codemirror_mode": "java",
      "file_extension": ".java",
      "mimetype": "text/x-java-source",
      "name": "Java",
      "pygments_lexer": "java",
      "version": "15"
    },
    "rise": {
      "autolaunch": true
    }
  },
  "nbformat": 4,
  "nbformat_minor": 2
}

