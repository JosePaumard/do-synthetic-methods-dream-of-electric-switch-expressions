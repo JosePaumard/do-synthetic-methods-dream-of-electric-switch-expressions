{
  "cells": [{
  "cell_type": "markdown",
  "metadata": {},
  "source": []
}
,
{
  "cell_type": "markdown",
  "metadata": {
  "slideshow": {
    "slide_type": "slide"
  }
}
,
  "source": ["# Records\n"]
}
,
{
  "cell_type": "markdown",
  "metadata": {
  "slideshow": {
    "slide_type": "slide"
  }
}
,
  "source": ["## Design forces\n", "- we need to see any object fields to do pattern matching on them\n", "- get ride of bean model ?\n", "- more opinionated ??\n"]
}
,
{
  "cell_type": "markdown",
  "metadata": {
  "slideshow": {
    "slide_type": "slide"
  }
}
,
  "source": ["## A simple record\n", "Declaration\n"]
}
,
{
  "cell_type": "code",
  "execution_count": null,
  "metadata": {},
  "outputs": [],
  "source": ["record Point(int x, int y) { }"]
}
,
{
  "cell_type": "markdown",
  "metadata": {},
  "source": ["Usage\n"]
}
,
{
  "cell_type": "code",
  "execution_count": null,
  "metadata": {},
  "outputs": [],
  "source": ["var point = new Point(12, 56);\n", "System.out.println(point);"]
}
,
{
  "cell_type": "markdown",
  "metadata": {
  "slideshow": {
    "slide_type": "slide"
  }
}
,
  "source": ["## Record components\n", "A record is a named tuple\n"]
}
,
{
  "cell_type": "code",
  "execution_count": null,
  "metadata": {},
  "outputs": [],
  "source": ["record Detective(String name, String job) { }"]
}
,
{
  "cell_type": "markdown",
  "metadata": {},
  "source": ["Each component can be accessed by an accessor\n"]
}
,
{
  "cell_type": "code",
  "execution_count": null,
  "metadata": {},
  "outputs": [],
  "source": ["var detective = new Detective(\"Rick Deckard\", \"Bounty Hunter\");\n", "System.out.println(detective.name());\n", "System.out.println(detective.job());"]
}
,
{
  "cell_type": "markdown",
  "metadata": {
  "slideshow": {
    "slide_type": "slide"
  }
}
,
  "source": ["## Record accessors are not getters\n", "Accessors do not follow the Bean specification\n"]
}
,
{
  "cell_type": "code",
  "execution_count": null,
  "metadata": {},
  "outputs": [],
  "source": ["record Movie(String title, int releaseDate) { }\n", "var bladeRunner = new Movie(\"Blade Runner\", 1982);\n", "var bladeRunner2 = new Movie(\"Blade Runner 2049\", 2017);\n", "System.out.println(bladeRunner.title());\n", "System.out.println(bladeRunner2.releaseDate());"]
}
,
{
  "cell_type": "markdown",
  "metadata": {},
  "source": ["> More opinionated\n", "> beans are evil because they skip constructor\n"]
}
,
{
  "cell_type": "markdown",
  "metadata": {
  "slideshow": {
    "slide_type": "slide"
  }
}
,
  "source": ["## Record components are not modifiable\n", "Record components are implicitly final\n"]
}
,
{
  "cell_type": "code",
  "execution_count": null,
  "metadata": {},
  "outputs": [],
  "source": ["record Replicant(boolean canDream) { }"]
}
,
{
  "cell_type": "markdown",
  "metadata": {},
  "source": ["explicit syntax is not supported\n"]
}
,
{
  "cell_type": "code",
  "execution_count": null,
  "metadata": {},
  "outputs": [],
  "source": ["record Replicant(final boolean canDream) { }"]
}
,
{
  "cell_type": "markdown",
  "metadata": {
  "slideshow": {
    "slide_type": "slide"
  }
}
,
  "source": ["## Members of a record\n", "inside a record, a record component is generated as a field\n"]
}
,
{
  "cell_type": "code",
  "execution_count": null,
  "metadata": {},
  "outputs": [],
  "source": ["record Life(long time, TimeUnit unit) {\n", "  public void dream() throws InterruptedException {\n", "    unit.sleep(time);\n", "  }\n", "}\n", "System.out.println(\"hello !\");\n", "new Life(2, TimeUnit.SECONDS).dream();\n", "System.out.println(\"hello again !\");"]
}
,
{
  "cell_type": "markdown",
  "metadata": {
  "slideshow": {
    "slide_type": "slide"
  }
}
,
  "source": ["# Record Constructor\n"]
}
,
{
  "cell_type": "markdown",
  "metadata": {
  "slideshow": {
    "slide_type": "slide"
  }
}
,
  "source": ["## Record canonical constructor\n", "You can define your own constructor\n"]
}
,
{
  "cell_type": "code",
  "execution_count": null,
  "metadata": {},
  "outputs": [],
  "source": ["record Exchange(String name, int employees) {\n", "  public Exchange(String name, int employees) {\n", "    this.name = Objects.requireNonNull(name);\n", "    if (employees <= 1) {\n", "      throw new IllegalArgumentException(\"employee <= 1\");\n", "    }\n", "    this.employees = employees;\n", "  }\n", "}\n", "var exchange = new Exchange(\"Bitcoin Ponzi\", 1);\n", "System.out.println(exchange);"]
}
,
{
  "cell_type": "markdown",
  "metadata": {
  "slideshow": {
    "slide_type": "slide"
  }
}
,
  "source": ["## Record canonical constructor\n", "The parameter names has to match the component names\n"]
}
,
{
  "cell_type": "code",
  "execution_count": null,
  "metadata": {},
  "outputs": [],
  "source": ["record BadExchange(String name, int employees) {\n", "  public BadExchange(String pname, int pemployees) {\n", "    name = pname;\n", "    employees = pemployees;\n", "  }\n", "}"]
}
,
{
  "cell_type": "markdown",
  "metadata": {
  "slideshow": {
    "slide_type": "slide"
  }
}
,
  "source": ["## Record compact constructor\n", "Field assignments is done by the compiler\n"]
}
,
{
  "cell_type": "code",
  "execution_count": null,
  "metadata": {},
  "outputs": [],
  "source": ["record Exchange(String name, int employees) {\n", "  public Exchange {\n", "    Objects.requireNonNull(name);\n", "    if (employees <= 1) {\n", "      throw new IllegalArgumentException(\"employee <= 1\");\n", "    }\n", "  }\n", "}\n", "var exchange = new Exchange(\"Bitcoin Ponzi\", 2);\n", "System.out.println(exchange);"]
}
,
{
  "cell_type": "markdown",
  "metadata": {
  "slideshow": {
    "slide_type": "slide"
  }
}
,
  "source": ["## Limitation of the canonical constructor\n", "The canonical constructor have to be `public`\n"]
}
,
{
  "cell_type": "code",
  "execution_count": null,
  "metadata": {},
  "outputs": [],
  "source": ["record BadExchange(String name, int employees) {\n", "  /*public*/ BadExchange { \n", "  }\n", "}"]
}
,
{
  "cell_type": "markdown",
  "metadata": {
  "slideshow": {
    "slide_type": "slide"
  }
}
,
  "source": ["## Limitation of constructors\n", "Other constructors must delegate to another constructor\n"]
}
,
{
  "cell_type": "code",
  "execution_count": null,
  "metadata": {},
  "outputs": [],
  "source": ["record BadExchange(String name, int employees) {\n", "  BadExchange(String name) {\n", "    this.name = name;\n", "    this.employees = 100;\n", "  }\n", "}"]
}
,
{
  "cell_type": "markdown",
  "metadata": {
  "slideshow": {
    "slide_type": "slide"
  }
}
,
  "source": ["## Limitation of constructors (2)\n", "Other constructors must delegate to another constructor\n"]
}
,
{
  "cell_type": "code",
  "execution_count": null,
  "metadata": {},
  "outputs": [],
  "source": ["record Exchange(String name, int employees) {\n", "  Exchange(String name) {\n", "    this(name, 100);\n", "  }\n", "}\n", "var exchange = new Exchange(\"Speculative Money\");\n", "System.out.println(exchange);"]
}
,
{
  "cell_type": "markdown",
  "metadata": {
  "slideshow": {
    "slide_type": "slide"
  }
}
,
  "source": ["## Record instance initializers\n", "Instance initializers are not supported \n"]
}
,
{
  "cell_type": "code",
  "execution_count": null,
  "metadata": {},
  "outputs": [],
  "source": ["record Fail() {\n", "  {\n", "    // instance initializers are not allowed \n", "  }\n", "}"]
}
,
{
  "cell_type": "markdown",
  "metadata": {
  "slideshow": {
    "slide_type": "slide"
  }
}
,
  "source": ["## Record java.lang.Object methods\n", "The compiler provides `equals`/`hashCode`/`toString`\n"]
}
,
{
  "cell_type": "code",
  "execution_count": null,
  "metadata": {},
  "outputs": [],
  "source": ["record Operator(String name) { }\n", "var add = new Operator(\"+\");\n", "var add2 = new Operator(\"+\");\n", "System.out.println(add + \" equals \" + add2);\n", "System.out.println(add.equals(add2));\n", "System.out.println(add.hashCode() == add2.hashCode());"]
}
,
{
  "cell_type": "markdown",
  "metadata": {
  "slideshow": {
    "slide_type": "slide"
  }
}
,
  "source": ["## Record and NaN\n", "`equals` is reflective even with Double.NaN\n"]
}
,
{
  "cell_type": "code",
  "execution_count": null,
  "metadata": {},
  "outputs": [],
  "source": ["record FloatingPoint(double value) { }\n", "System.out.println(Double.NaN == Double.NaN);\n", "var fp = new FloatingPoint(Double.NaN);\n", "var fp2 = new FloatingPoint(Double.NaN);\n", "System.out.println(fp.equals(fp2));"]
}
,
{
  "cell_type": "markdown",
  "metadata": {
  "slideshow": {
    "slide_type": "slide"
  }
}
,
  "source": ["# Record and Inheritance\n"]
}
,
{
  "cell_type": "markdown",
  "metadata": {
  "slideshow": {
    "slide_type": "slide"
  }
}
,
  "source": ["## java.lang.Record\n", "Records implicitly inherits from java.lang.Record\n"]
}
,
{
  "cell_type": "code",
  "execution_count": null,
  "metadata": {},
  "outputs": [],
  "source": ["record Painter(String name, String painting) { }\n", "var painter = new Painter(\"Michelangelo\", \"Sistine Chaptel\");\n", "Record record = painter;\n", "System.out.println(record);"]
}
,
{
  "cell_type": "markdown",
  "metadata": {},
  "source": ["> `record` is a magic keyword !\n"]
}
,
{
  "cell_type": "markdown",
  "metadata": {
  "slideshow": {
    "slide_type": "slide"
  }
}
,
  "source": ["## Inheritance is not supported\n", "Can not inherits a class !\n"]
}
,
{
  "cell_type": "code",
  "execution_count": null,
  "metadata": {},
  "outputs": [],
  "source": ["class Famous { }\n", "record Painter(String name, String painting) extends Famous { }"]
}
,
{
  "cell_type": "markdown",
  "metadata": {},
  "source": ["Can not inherits from another record\n"]
}
,
{
  "cell_type": "code",
  "execution_count": null,
  "metadata": {},
  "outputs": [],
  "source": ["record Famous() { }\n", "record Painter(String name, String painting) extends Famous { }"]
}
,
{
  "cell_type": "markdown",
  "metadata": {
  "slideshow": {
    "slide_type": "slide"
  }
}
,
  "source": ["## Implementing interfaces is supported\n", "Declaration\n"]
}
,
{
  "cell_type": "code",
  "execution_count": null,
  "metadata": {},
  "outputs": [],
  "source": ["interface Famous {\n", "  String name();\n", "}\n", "record Painter(String name, String painting) implements Famous { }"]
}
,
{
  "cell_type": "markdown",
  "metadata": {},
  "source": ["Usage\n"]
}
,
{
  "cell_type": "code",
  "execution_count": null,
  "metadata": {},
  "outputs": [],
  "source": ["Famous famous = new Painter(\"Leonardo Da Vinci\", \"Joconde\");\n", "System.out.println(famous.name());"]
}
,
{
  "cell_type": "markdown",
  "metadata": {
  "slideshow": {
    "slide_type": "slide"
  }
}
,
  "source": ["## Record and inheritance\n", "- records implicitly inherits from java.lang.Record\n", "- records do not support inheritance (no `extends`)\n", "- records implement interfaces\n"]
}
,
{
  "cell_type": "markdown",
  "metadata": {},
  "source": ["> Use subtyping not inheritance !\n"]
}
,
{
  "cell_type": "markdown",
  "metadata": {
  "slideshow": {
    "slide_type": "slide"
  }
}
,
  "source": ["# Record and Immutability\n"]
}
,
{
  "cell_type": "markdown",
  "metadata": {
  "slideshow": {
    "slide_type": "slide"
  }
}
,
  "source": ["## Record unmodifiable vs Immutable\n", "Records are unmodifiable, not immutable !\n"]
}
,
{
  "cell_type": "code",
  "execution_count": null,
  "metadata": {},
  "outputs": [],
  "source": ["record Book(String title) { }\n", "record Library(List<Book> books) { }\n", "var books = new ArrayList<Book>();\n", "books.add(new Book(\"Lord of the ring\"));\n", "var library = new Library(books);\n", "System.out.println(library);"]
}
,
{
  "cell_type": "markdown",
  "metadata": {},
  "source": ["can still mutate books\n"]
}
,
{
  "cell_type": "code",
  "execution_count": null,
  "metadata": {},
  "outputs": [],
  "source": ["books.remove(new Book(\"Lord of the ring\"));\n", "System.out.println(library);"]
}
,
{
  "cell_type": "markdown",
  "metadata": {
  "slideshow": {
    "slide_type": "slide"
  }
}
,
  "source": ["## Defensive copy\n", "Is a defensive copy enough ?\n"]
}
,
{
  "cell_type": "code",
  "execution_count": null,
  "metadata": {},
  "outputs": [],
  "source": ["record Book(String title) { }\n", "record Library(List<Book> books) {\n", "  public Library {\n", "    books = new ArrayList<>(books);\n", "  }\n", "}\n", "var books = new ArrayList<Book>();\n", "books.add(new Book(\"Lord of the ring\"));\n", "var library = new Library(books);\n", "System.out.println(library);"]
}
,
{
  "cell_type": "code",
  "execution_count": null,
  "metadata": {},
  "outputs": [],
  "source": ["books.remove(new Book(\"Lord of the ring\"));\n", "System.out.println(library);"]
}
,
{
  "cell_type": "markdown",
  "metadata": {
  "slideshow": {
    "slide_type": "slide"
  }
}
,
  "source": ["## Defensive copy (2)\n", "Beware of the accessor !\n"]
}
,
{
  "cell_type": "code",
  "execution_count": null,
  "metadata": {},
  "outputs": [],
  "source": ["record Book(String title) { }\n", "record Library(List<Book> books) {\n", "  public Library {\n", "    books = new ArrayList<>(books);\n", "  }\n", "}\n", "var books = new ArrayList<Book>();\n", "books.add(new Book(\"Lord of the ring\"));\n", "var library = new Library(books);\n", "System.out.println(library);"]
}
,
{
  "cell_type": "code",
  "execution_count": null,
  "metadata": {},
  "outputs": [],
  "source": ["library.books().remove(new Book(\"Lord of the ring\"));\n", "System.out.println(library);"]
}
,
{
  "cell_type": "markdown",
  "metadata": {
  "slideshow": {
    "slide_type": "slide"
  }
}
,
  "source": ["## Defensive copy (2)\n", "Defensive copies everywhere !\n"]
}
,
{
  "cell_type": "code",
  "execution_count": null,
  "metadata": {},
  "outputs": [],
  "source": ["record Book(String title) { }\n", "record Library(List<Book> books) {\n", "  public Library {\n", "    books = new ArrayList<>(books);\n", "  }\n", "  public List<Book> books() {\n", "    return Collections.unmodifiableList(books);\n", "  }\n", "}\n", "var books = new ArrayList<Book>();\n", "books.add(new Book(\"Lord of the ring\"));\n", "var library = new Library(books);\n", "System.out.println(library);"]
}
,
{
  "cell_type": "code",
  "execution_count": null,
  "metadata": {},
  "outputs": [],
  "source": ["library.books().remove(new Book(\"Lord of the ring\"));\n", "System.out.println(library);"]
}
,
{
  "cell_type": "markdown",
  "metadata": {
  "slideshow": {
    "slide_type": "slide"
  }
}
,
  "source": ["## Unmodifiable List to the rescue\n"]
}
,
{
  "cell_type": "code",
  "execution_count": null,
  "metadata": {},
  "outputs": [],
  "source": ["record Book(String title) { }\n", "record Library(List<Book> books) {\n", "  public Library {\n", "    books = List.copyOf(books);\n", "  }\n", "}\n", "var books = new ArrayList<Book>();\n", "books.add(new Book(\"Lord of the ring\"));\n", "var library = new Library(books);\n", "System.out.println(library);"]
}
,
{
  "cell_type": "code",
  "execution_count": null,
  "metadata": {},
  "outputs": [],
  "source": ["library.books().remove(new Book(\"Lord of the ring\"));\n", "System.out.println(library);"]
}
,
{
  "cell_type": "markdown",
  "metadata": {
  "slideshow": {
    "slide_type": "slide"
  }
}
,
  "source": ["## Record and arrays\n", "Arrays are always modifiable, so same issue\n"]
}
,
{
  "cell_type": "code",
  "execution_count": null,
  "metadata": {},
  "outputs": [],
  "source": ["record User(String login, char[] password) {\n", "  public User {\n", "    login = Objects.requireNonNull(login);\n", "    password = password.clone();\n", "  }\n", "  public char[] password() { return \"*\".repeat(password.length).toCharArray(); }\n", "  public boolean equals(Object o) {\n", "    return o instanceof User user && login.equals(user.login) && Arrays.equals(password, user.password);\n", "  }\n", "  public int hashCode() { return Objects.hash(login, Arrays.hashCode(password)); }\n", "  public String toString() { return \"User \" + login + \" \" + \"*\".repeat(password.length); }\n", "}\n", "var user1 = new User(\"bob\", \"df15cb4e019ec2eac654fb2e486c56df285c8c7b\".toCharArray());\n", "var user2 = new User(\"bob\", \"df15cb4e019ec2eac654fb2e486c56df285c8c7b\".toCharArray());\n", "System.out.println(user1.equals(user2));\n", "System.out.println(user1.hashCode() == user2.hashCode());\n", "System.out.println(user1);"]
}
,
{
  "cell_type": "markdown",
  "metadata": {
  "slideshow": {
    "slide_type": "slide"
  }
}
,
  "source": ["## Unmodifiable/Immutable record\n", "Records are only unmodifiable\n", "- may require more code to make them immutable\n", "- List.of() / List.copyOf() may help !\n"]
}
,
{
  "cell_type": "markdown",
  "metadata": {
  "slideshow": {
    "slide_type": "slide"
  }
}
,
  "source": ["# Nested and Local Record\n"]
}
,
{
  "cell_type": "markdown",
  "metadata": {
  "slideshow": {
    "slide_type": "slide"
  }
}
,
  "source": ["## Nested record\n", "Records are always static (like enums)\n"]
}
,
{
  "cell_type": "code",
  "execution_count": null,
  "metadata": {},
  "outputs": [],
  "source": ["class Person {\n", "  private final String name;\n", "  public Person(String name) { this.name = name; }\n", "  // a record can not use field of outer class\n", "  record Vip(String vipName) {\n", "    public String toString() {\n", "      return vipName + \" \" + name;\n", "    }\n", "  }\n", "}"]
}
,
{
  "cell_type": "markdown",
  "metadata": {
  "slideshow": {
    "slide_type": "slide"
  }
}
,
  "source": ["## Local record\n", "You can declare a record inside a method\n"]
}
,
{
  "cell_type": "code",
  "execution_count": null,
  "metadata": {},
  "outputs": [],
  "source": ["double average(List<Integer> list) {\n", "  record Stat(int count, int sum) {\n", "    Stat add(int value) {\n", "      return new Stat(count + 1, sum + value);\n", "    }\n", "    Stat merge(Stat stat) {\n", "      return new Stat(count + stat.count, sum + stat.sum);\n", "    }\n", "    double average() {\n", "      return sum / (double)count;\n", "    }\n", "  }\n", "  return list.stream().reduce(new Stat(0, 0), Stat::add, Stat::merge).average();\n", "} \n", "var list = List.of(1, 2, 3, 4, 5);\n", "System.out.println(average(list));"]
}
,
{
  "cell_type": "markdown",
  "metadata": {
  "slideshow": {
    "slide_type": "slide"
  }
}
,
  "source": ["## Local record (2)\n", "A local record can not access to local variables (static access)\n"]
}
,
{
  "cell_type": "code",
  "execution_count": null,
  "metadata": {},
  "outputs": [],
  "source": ["int add(int v1, int v2) {\n", "  record Local() {\n", "    int sum() {\n", "      return v1 + v2;\n", "    }\n", "  }\n", "  return new Local().sum();\n", "} \n", "System.out.println(add(40, 2));"]
}
,
{
  "cell_type": "markdown",
  "metadata": {
  "slideshow": {
    "slide_type": "slide"
  }
}
,
  "source": ["## Local class vs local record\n", "A local class can not declare static members\n", "but a local record can !\n"]
}
,
{
  "cell_type": "code",
  "execution_count": null,
  "metadata": {},
  "outputs": [],
  "source": ["class Enclosing {\n", "  void m() {\n", "    class Local { static int VALUE = 3; }\n", "  }\n", "}"]
}
,
{
  "cell_type": "code",
  "execution_count": null,
  "metadata": {},
  "outputs": [],
  "source": ["class Enclosing {\n", "  void m() {\n", "    record Local() { static int VALUE = 3; }\n", "  }\n", "}"]
}
,
{
  "cell_type": "markdown",
  "metadata": {
  "slideshow": {
    "slide_type": "slide"
  }
}
,
  "source": ["## Local Class rules\n", "Rules for local class/enum/record are a mess\n", "- local class can always access (effectively) local variables\n", "- static local class are not allowed\n", "- local enum are not allowed\n", "- local record are allowed but can not access local variables\n"]
}
,
{
  "cell_type": "markdown",
  "metadata": {},
  "source": ["> ahh, too many crufty rules, need a cleanup !  \n"]
}
,
{
  "cell_type": "markdown",
  "metadata": {
  "slideshow": {
    "slide_type": "slide"
  }
}
,
  "source": ["# Record Reflection API\n"]
}
,
{
  "cell_type": "markdown",
  "metadata": {
  "slideshow": {
    "slide_type": "slide"
  }
}
,
  "source": ["## Is a record ?\n", "At runtine, a record knows it is a Record\n"]
}
,
{
  "cell_type": "code",
  "execution_count": null,
  "metadata": {},
  "outputs": [],
  "source": ["record Character(String name, String isHuman) { }\n", "var deckard = new Character(\"Deckard\", \"Maybe?\");"]
}
,
{
  "cell_type": "markdown",
  "metadata": {},
  "source": ["using `Class.isRecord()`\n"]
}
,
{
  "cell_type": "code",
  "execution_count": null,
  "metadata": {},
  "outputs": [],
  "source": ["System.out.println(deckard.getClass().isRecord());"]
}
,
{
  "cell_type": "markdown",
  "metadata": {
  "slideshow": {
    "slide_type": "slide"
  }
}
,
  "source": ["## Get all record components\n", "A record known reflectively all its components\n"]
}
,
{
  "cell_type": "code",
  "execution_count": null,
  "metadata": {},
  "outputs": [],
  "source": ["record Character(String name, String isHuman) { }\n", "var deckard = new Character(\"Deckard\", \"Maybe?\");"]
}
,
{
  "cell_type": "markdown",
  "metadata": {},
  "source": ["using `Class.getRecordComponents()`\n"]
}
,
{
  "cell_type": "code",
  "execution_count": null,
  "metadata": {},
  "outputs": [],
  "source": ["var components = List.of(Character.class.getRecordComponents());\n", "System.out.println(components);"]
}
,
{
  "cell_type": "markdown",
  "metadata": {
  "slideshow": {
    "slide_type": "slide"
  }
}
,
  "source": ["## Record component accessor\n", "A record component knows its accessor !\n"]
}
,
{
  "cell_type": "code",
  "execution_count": null,
  "metadata": {},
  "outputs": [],
  "source": ["import static java.util.stream.Collectors.joining;\n", "Object invoke(Record record, java.lang.reflect.Method accessor) {\n", "  try {\n", "    return accessor.invoke(record);\n", "  } catch(Exception e) {\n", "    throw new AssertionError(e);  //FIXME\n", "  }\n", "}\n", "String toJSON(Record record) {\n", "  return Arrays.stream(record.getClass().getRecordComponents())\n", "    .map(c -> \"\\\"\" + c.getName() + \"\\\": \\\"\" + invoke(record, c.getAccessor()) + \"\\\"\")\n", "    .collect(joining(\", \", \"{\", \"}\")); \n", "}\n", "System.out.println(toJSON(deckard));"]
}
,
{
  "cell_type": "markdown",
  "metadata": {
  "slideshow": {
    "slide_type": "slide"
  }
}
,
  "source": ["## Record canonical constructor\n"]
}
,
{
  "cell_type": "code",
  "execution_count": null,
  "metadata": {},
  "outputs": [],
  "source": ["import java.lang.reflect.*;\n", "Object call(Constructor constructor, Object... args) {\n", "  try {\n", "    return constructor.newInstance(args);\n", "  } catch(Exception e) {\n", "    throw new AssertionError(e);  //FIXME\n", "  }\n", "}\n", "Object replicate(Record record) throws Exception {\n", "  var components = List.of(record.getClass().getRecordComponents());\n", "  var constructor = record.getClass().getConstructor(components.stream().map(RecordComponent::getType).toArray(Class[]::new));\n", "  return call(constructor, components.stream().map(c -> invoke(record, c.getAccessor())).toArray());\n", "}\n", "System.out.println(replicate(deckard));"]
}
,
{
  "cell_type": "markdown",
  "metadata": {
  "slideshow": {
    "slide_type": "slide"
  }
}
,
  "source": ["## Record Reflection API\n", "A record is fully aware of itself\n", "- get record components (name, type and accessor)\n", "- can convert any list of values to a record and vice-versa \n"]
}
,
{
  "cell_type": "markdown",
  "metadata": {
  "slideshow": {
    "slide_type": "slide"
  }
}
,
  "source": ["# Record and Annotation\n"]
}
,
{
  "cell_type": "markdown",
  "metadata": {
  "slideshow": {
    "slide_type": "slide"
  }
}
,
  "source": ["## Annotations\n", "Record component Annotations are automatically propagated to the members (where applicable)\n"]
}
,
{
  "cell_type": "code",
  "execution_count": null,
  "metadata": {},
  "outputs": [],
  "source": ["record Bed(int pillows, @Deprecated boolean kingSize) { }"]
}
,
{
  "cell_type": "code",
  "execution_count": null,
  "metadata": {},
  "outputs": [],
  "source": ["System.out.println(List.of(Bed.class.getRecordComponents()[1].getAnnotations()));\n", "System.out.println(List.of(Bed.class.getConstructor(int.class, boolean.class).getParameterAnnotations()[1]));\n", "System.out.println(List.of(Bed.class.getMethod(\"kingSize\").getAnnotations()));\n", "System.out.println(List.of(Bed.class.getDeclaredField(\"kingSize\").getAnnotations()));"]
}
,
{
  "cell_type": "markdown",
  "metadata": {
  "slideshow": {
    "slide_type": "slide"
  }
}
,
  "source": ["## New annotation Target element\n", "Record components can be target of annotations\n"]
}
,
{
  "cell_type": "markdown",
  "metadata": {},
  "source": ["```\n", "@Target(ElementType.RECORD_COMPONENT)\n", "@interface Action {\n", "  ...\n", "}\n", "```\n"]
}
,
{
  "cell_type": "markdown",
  "metadata": {},
  "source": ["> Bug ! @Deprecated target should list the element type `RECORD_COMPONENT`\n"]
}
,
{
  "cell_type": "markdown",
  "metadata": {
  "slideshow": {
    "slide_type": "slide"
  }
}
,
  "source": ["# Record and Serialization\n"]
}
,
{
  "cell_type": "markdown",
  "metadata": {
  "slideshow": {
    "slide_type": "slide"
  }
}
,
  "source": ["## Implements `Serializable`\n", "Records use a builtin serialization implementation\n"]
}
,
{
  "cell_type": "code",
  "execution_count": null,
  "metadata": {},
  "outputs": [],
  "source": ["record Replicant(String name, int age) implements Serializable { }"]
}
,
{
  "cell_type": "markdown",
  "metadata": {},
  "source": ["\n"]
}
,
{
  "cell_type": "code",
  "execution_count": null,
  "metadata": {},
  "outputs": [],
  "source": ["var baos = new ByteArrayOutputStream();\n", "try(var oos = new ObjectOutputStream(baos)) {\n", "  oos.writeObject(new Replicant(\"Bryant\", 20));  \n", "}\n", "Object replicated;\n", "try(var bais = new ByteArrayInputStream(baos.toByteArray());\n", "    var ois = new ObjectInputStream(bais)) {\n", "    replicated = ois.readObject();\n", "}\n", "System.out.println(replicated);"]
}
,
{
  "cell_type": "markdown",
  "metadata": {
  "slideshow": {
    "slide_type": "slide"
  }
}
,
  "source": ["## Serialization and record\n", "Deserialization uses the constructors\n", "- validation during deserialization\n", "- harder to create fake data\n"]
}
,
{
  "cell_type": "markdown",
  "metadata": {},
  "source": ["> We need a better deserialization mechanism for classes\n"]
}
],
  "metadata": {
    "celltoolbar": "Slideshow",
    "kernelspec": {
      "display_name": "Java",
      "language": "java",
      "name": "java"
    },
    "language_info": {
      "codemirror_mode": "java",
      "file_extension": ".java",
      "mimetype": "text/x-java-source",
      "name": "Java",
      "pygments_lexer": "java",
      "version": "15"
    },
    "rise": {
      "autolaunch": true
    }
  },
  "nbformat": 4,
  "nbformat_minor": 2
}

