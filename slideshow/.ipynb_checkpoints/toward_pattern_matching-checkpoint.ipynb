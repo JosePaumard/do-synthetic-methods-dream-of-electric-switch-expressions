{
 "cells": [
  {
   "cell_type": "markdown",
   "metadata": {},
   "source": []
  },
  {
   "cell_type": "markdown",
   "metadata": {
    "slideshow": {
     "slide_type": "slide"
    }
   },
   "source": [
    "# Toward Pattern Matching\n"
   ]
  },
  {
   "cell_type": "markdown",
   "metadata": {
    "slideshow": {
     "slide_type": "slide"
    }
   },
   "source": [
    "## Java Releases\n",
    "- Java 12: March 2019\n",
    "  - switch expression (preview)\n",
    "- Java 13: September 2019\n",
    "  - switch expression (preview 2)\n",
    "- Java 14: __March, 17th 2020__\n",
    "  - switch expression (release)\n",
    "  - record (preview)\n",
    "  - instanceof (preview)\n"
   ]
  },
  {
   "cell_type": "markdown",
   "metadata": {
    "slideshow": {
     "slide_type": "slide"
    }
   },
   "source": [
    "## Java Releases\n",
    "- Java 12: March 2019\n",
    "- Java 13: September 2019\n",
    "- Java 14: March 2020\n",
    "  - switch expression (release)\n",
    "  - record (preview)\n",
    "  - instanceof (preview)\n",
    "- Java 15: __September, 15th 2020__\n",
    "  - record (preview 2)\n",
    "  - instanceof (preview 2)\n",
    "  - selead type (preview)\n"
   ]
  },
  {
   "cell_type": "markdown",
   "metadata": {
    "slideshow": {
     "slide_type": "slide"
    }
   },
   "source": [
    "# Records\n"
   ]
  },
  {
   "cell_type": "markdown",
   "metadata": {
    "slideshow": {
     "slide_type": "slide"
    }
   },
   "source": [
    "## Design forces\n",
    "- we need to see any object fields to do pattern matching on them\n",
    "- get ride of bean model ?\n",
    "- more opinionated ??\n"
   ]
  },
  {
   "cell_type": "markdown",
   "metadata": {
    "slideshow": {
     "slide_type": "slide"
    }
   },
   "source": [
    "## A simple record\n",
    "Declaration\n"
   ]
  },
  {
   "cell_type": "code",
   "execution_count": null,
   "metadata": {},
   "outputs": [],
   "source": [
    "record Point(int x, int y) { }\n"
   ]
  },
  {
   "cell_type": "markdown",
   "metadata": {},
   "source": [
    "Usage\n"
   ]
  },
  {
   "cell_type": "code",
   "execution_count": null,
   "metadata": {},
   "outputs": [],
   "source": [
    "var point = new Point(12, 56);\n",
    "System.out.println(point);\n"
   ]
  },
  {
   "cell_type": "markdown",
   "metadata": {
    "slideshow": {
     "slide_type": "slide"
    }
   },
   "source": [
    "## Record components\n",
    "A record is a named tuple\n"
   ]
  },
  {
   "cell_type": "code",
   "execution_count": null,
   "metadata": {},
   "outputs": [],
   "source": [
    "record Detective(String name, String job) { }\n"
   ]
  },
  {
   "cell_type": "markdown",
   "metadata": {},
   "source": [
    "Each component can be accessed by an accessor\n"
   ]
  },
  {
   "cell_type": "code",
   "execution_count": null,
   "metadata": {},
   "outputs": [],
   "source": [
    "var detective = new Detective(\"Rick Deckard\", \"Bounty Hunter\");\n",
    "System.out.println(detective.name());\n",
    "System.out.println(detective.job());\n"
   ]
  },
  {
   "cell_type": "markdown",
   "metadata": {
    "slideshow": {
     "slide_type": "slide"
    }
   },
   "source": [
    "## Record accessors are not getters\n",
    "Accessors do not follow the Bean specification\n"
   ]
  },
  {
   "cell_type": "code",
   "execution_count": null,
   "metadata": {},
   "outputs": [],
   "source": [
    "record Movie(String title, int releaseDate) { }\n",
    "var bladeRunner = new Movie(\"Blade Runner\", 1982);\n",
    "var bladeRunner2 = new Movie(\"Blade Runner 2049\", 2017);\n",
    "System.out.println(bladeRunner.title());\n",
    "System.out.println(bladeRunner2.releaseDate());\n"
   ]
  },
  {
   "cell_type": "markdown",
   "metadata": {
    "slideshow": {
     "slide_type": "slide"
    }
   },
   "source": [
    "## Record components are not modifiable\n",
    "Record components are implicitly final\n"
   ]
  },
  {
   "cell_type": "code",
   "execution_count": null,
   "metadata": {},
   "outputs": [],
   "source": [
    "record Replicant(boolean canDream) { }\n"
   ]
  },
  {
   "cell_type": "markdown",
   "metadata": {},
   "source": [
    "explicit syntax is not supported\n"
   ]
  },
  {
   "cell_type": "code",
   "execution_count": null,
   "metadata": {},
   "outputs": [],
   "source": [
    "record Replicant(final boolean canDream) { }\n"
   ]
  },
  {
   "cell_type": "markdown",
   "metadata": {
    "slideshow": {
     "slide_type": "slide"
    }
   },
   "source": [
    "## Members of a record\n",
    "inside a record, a record component is generated as a field\n"
   ]
  },
  {
   "cell_type": "code",
   "execution_count": null,
   "metadata": {},
   "outputs": [],
   "source": [
    "record Life(long time, TimeUnit unit) {\n",
    "  public void dream() throws InterruptedException {\n",
    "    unit.sleep(time);\n",
    "  }\n",
    "}\n",
    "System.out.println(\"hello !\");\n",
    "new Life(2, TimeUnit.SECONDS).dream();\n",
    "System.out.println(\"hello again !\");\n"
   ]
  },
  {
   "cell_type": "markdown",
   "metadata": {
    "slideshow": {
     "slide_type": "slide"
    }
   },
   "source": [
    "# Record Constructor\n"
   ]
  },
  {
   "cell_type": "markdown",
   "metadata": {
    "slideshow": {
     "slide_type": "slide"
    }
   },
   "source": [
    "## Record canonical constructor\n",
    "You can define your own constructor\n"
   ]
  },
  {
   "cell_type": "code",
   "execution_count": null,
   "metadata": {},
   "outputs": [],
   "source": [
    "record Exchange(String name, int employees) {\n",
    "  public Exchange(String name, int employees) {\n",
    "    this.name = Objects.requireNonNull(name);\n",
    "    if (employees <= 1) {\n",
    "      throw new IllegalArgumentException(\"employee <= 1\");\n",
    "    }\n",
    "    this.employees = employees;\n",
    "  }\n",
    "}\n",
    "var exchange = new Exchange(\"Bitcoin Ponzi\", 1);\n",
    "System.out.println(exchange);\n"
   ]
  },
  {
   "cell_type": "markdown",
   "metadata": {
    "slideshow": {
     "slide_type": "slide"
    }
   },
   "source": [
    "## Record canonical constructor\n",
    "The parameter names has to match the component names\n"
   ]
  },
  {
   "cell_type": "code",
   "execution_count": null,
   "metadata": {},
   "outputs": [],
   "source": [
    "record BadExchange(String name, int employees) {\n",
    "  public BadExchange(String pname, int pemployees) {\n",
    "    name = pname;\n",
    "    employees = pemployees;\n",
    "  }\n",
    "}\n"
   ]
  },
  {
   "cell_type": "markdown",
   "metadata": {
    "slideshow": {
     "slide_type": "slide"
    }
   },
   "source": [
    "## Record compact constructor\n",
    "Field assignments is done by the compiler\n"
   ]
  },
  {
   "cell_type": "code",
   "execution_count": null,
   "metadata": {},
   "outputs": [],
   "source": [
    "record Exchange(String name, int employees) {\n",
    "  public Exchange {\n",
    "    Objects.requireNonNull(name);\n",
    "    if (employees <= 1) {\n",
    "      throw new IllegalArgumentException(\"employee <= 1\");\n",
    "    }\n",
    "  }\n",
    "}\n",
    "var exchange = new Exchange(\"Bitcoin Ponzi\", 2);\n",
    "System.out.println(exchange);\n"
   ]
  },
  {
   "cell_type": "markdown",
   "metadata": {
    "slideshow": {
     "slide_type": "slide"
    }
   },
   "source": [
    "## Limitation of the canonical constructor\n",
    "The canonical constructor have to be `public`\n"
   ]
  },
  {
   "cell_type": "code",
   "execution_count": null,
   "metadata": {},
   "outputs": [],
   "source": [
    "record BadExchange(String name, int employees) {\n",
    "  /*public*/ BadExchange { \n",
    "  }\n",
    "}\n"
   ]
  },
  {
   "cell_type": "markdown",
   "metadata": {
    "slideshow": {
     "slide_type": "slide"
    }
   },
   "source": [
    "## Limitation of constructors\n",
    "Other constructors must delegate to another constructor\n"
   ]
  },
  {
   "cell_type": "code",
   "execution_count": null,
   "metadata": {},
   "outputs": [],
   "source": [
    "record BadExchange(String name, int employees) {\n",
    "  BadExchange(String name) {\n",
    "    this.name = name;\n",
    "    this.employees = 100;\n",
    "  }\n",
    "}\n"
   ]
  },
  {
   "cell_type": "markdown",
   "metadata": {
    "slideshow": {
     "slide_type": "slide"
    }
   },
   "source": [
    "## Limitation of constructors (2)\n",
    "Other constructors must delegate to another constructor\n"
   ]
  },
  {
   "cell_type": "code",
   "execution_count": null,
   "metadata": {},
   "outputs": [],
   "source": [
    "record Exchange(String name, int employees) {\n",
    "  Exchange(String name) {\n",
    "    this(name, 100);\n",
    "  }\n",
    "}\n",
    "var exchange = new Exchange(\"Speculative Money\");\n",
    "System.out.println(exchange);\n"
   ]
  },
  {
   "cell_type": "markdown",
   "metadata": {
    "slideshow": {
     "slide_type": "slide"
    }
   },
   "source": [
    "## Record instance initializers\n",
    "Instance initializers are not supported \n"
   ]
  },
  {
   "cell_type": "code",
   "execution_count": null,
   "metadata": {},
   "outputs": [],
   "source": [
    "record Fail() {\n",
    "  {\n",
    "    // instance initializers are not allowed \n",
    "  }\n",
    "}\n"
   ]
  },
  {
   "cell_type": "markdown",
   "metadata": {
    "slideshow": {
     "slide_type": "slide"
    }
   },
   "source": [
    "## Record java.lang.Object methods\n",
    "The compiler provides `equals`/`hashCode`/`toString`\n"
   ]
  },
  {
   "cell_type": "code",
   "execution_count": null,
   "metadata": {},
   "outputs": [],
   "source": [
    "record Operator(String name) { }\n",
    "var add = new Operator(\"+\");\n",
    "var add2 = new Operator(\"+\");\n",
    "System.out.println(add + \" equals \" + add2);\n",
    "System.out.println(add.equals(add2));\n",
    "System.out.println(add.hashCode() == add2.hashCode());\n"
   ]
  },
  {
   "cell_type": "markdown",
   "metadata": {
    "slideshow": {
     "slide_type": "slide"
    }
   },
   "source": [
    "## Record and NaN\n",
    "`equals` is reflective even with Double.NaN\n"
   ]
  },
  {
   "cell_type": "code",
   "execution_count": null,
   "metadata": {},
   "outputs": [],
   "source": [
    "record FloatingPoint(double value) { }\n",
    "System.out.println(Double.NaN == Double.NaN);\n",
    "var fp = new FloatingPoint(Double.NaN);\n",
    "var fp2 = new FloatingPoint(Double.NaN);\n",
    "System.out.println(fp.equals(fp2));\n"
   ]
  },
  {
   "cell_type": "markdown",
   "metadata": {
    "slideshow": {
     "slide_type": "slide"
    }
   },
   "source": [
    "# Record and Inheritance\n"
   ]
  },
  {
   "cell_type": "markdown",
   "metadata": {
    "slideshow": {
     "slide_type": "slide"
    }
   },
   "source": [
    "## java.lang.Record\n",
    "Records implicitly inherits from java.lang.Record\n"
   ]
  },
  {
   "cell_type": "code",
   "execution_count": null,
   "metadata": {},
   "outputs": [],
   "source": [
    "record Painter(String name, String painting) { }\n",
    "var painter = new Painter(\"Michelangelo\", \"Sistine Chaptel\");\n",
    "Record record = painter;\n",
    "System.out.println(record);\n"
   ]
  },
  {
   "cell_type": "markdown",
   "metadata": {},
   "source": [
    "> `record` is a magic keyword !\n"
   ]
  },
  {
   "cell_type": "markdown",
   "metadata": {
    "slideshow": {
     "slide_type": "slide"
    }
   },
   "source": [
    "## Inheritance is not supported\n",
    "Can not inherits a class !\n"
   ]
  },
  {
   "cell_type": "code",
   "execution_count": null,
   "metadata": {},
   "outputs": [],
   "source": [
    "class Famous { }\n",
    "record Painter(String name, String painting) extends Famous { }\n"
   ]
  },
  {
   "cell_type": "markdown",
   "metadata": {},
   "source": [
    "Can not inherits from another record\n"
   ]
  },
  {
   "cell_type": "code",
   "execution_count": null,
   "metadata": {},
   "outputs": [],
   "source": [
    "record Famous() { }\n",
    "record Painter(String name, String painting) extends Famous { }\n"
   ]
  },
  {
   "cell_type": "markdown",
   "metadata": {
    "slideshow": {
     "slide_type": "slide"
    }
   },
   "source": [
    "## Implementing interfaces is supported\n",
    "Declaration\n"
   ]
  },
  {
   "cell_type": "code",
   "execution_count": null,
   "metadata": {},
   "outputs": [],
   "source": [
    "interface Famous {\n",
    "  String name();\n",
    "}\n",
    "record Painter(String name, String painting) implements Famous { }\n"
   ]
  },
  {
   "cell_type": "markdown",
   "metadata": {},
   "source": [
    "Usage\n"
   ]
  },
  {
   "cell_type": "code",
   "execution_count": null,
   "metadata": {},
   "outputs": [],
   "source": [
    "Famous famous = new Painter(\"Leonardo Da Vinci\", \"Joconde\");\n",
    "System.out.println(famous.name());\n"
   ]
  },
  {
   "cell_type": "markdown",
   "metadata": {
    "slideshow": {
     "slide_type": "slide"
    }
   },
   "source": [
    "## Record and inheritance\n",
    "- records implicitly inherits from java.lang.Record\n",
    "- records do not support inheritance\n",
    "- records implement interfaces\n"
   ]
  },
  {
   "cell_type": "markdown",
   "metadata": {},
   "source": [
    "> Use subtyping not inheritance !\n"
   ]
  },
  {
   "cell_type": "markdown",
   "metadata": {
    "slideshow": {
     "slide_type": "slide"
    }
   },
   "source": [
    "# Record and Immutability\n"
   ]
  },
  {
   "cell_type": "markdown",
   "metadata": {
    "slideshow": {
     "slide_type": "slide"
    }
   },
   "source": [
    "## Record unmodifiable vs Immutable\n",
    "Records are unmodifiable, not immutable !\n"
   ]
  },
  {
   "cell_type": "code",
   "execution_count": null,
   "metadata": {},
   "outputs": [],
   "source": [
    "record Book(String title) { }\n",
    "record Library(List<Book> books) { }\n",
    "var books = new ArrayList<Book>();\n",
    "books.add(new Book(\"Lord of the ring\"));\n",
    "var library = new Library(books);\n",
    "System.out.println(library);\n"
   ]
  },
  {
   "cell_type": "markdown",
   "metadata": {},
   "source": [
    "can still mutate books\n"
   ]
  },
  {
   "cell_type": "code",
   "execution_count": null,
   "metadata": {},
   "outputs": [],
   "source": [
    "books.remove(new Book(\"Lord of the ring\"));\n",
    "System.out.println(library);\n"
   ]
  },
  {
   "cell_type": "markdown",
   "metadata": {
    "slideshow": {
     "slide_type": "slide"
    }
   },
   "source": [
    "## Defensive copy\n",
    "Is a defensive copy enough ?\n"
   ]
  },
  {
   "cell_type": "code",
   "execution_count": null,
   "metadata": {},
   "outputs": [],
   "source": [
    "record Book(String title) { }\n",
    "record Library(List<Book> books) {\n",
    "  public Library {\n",
    "    books = new ArrayList<>(books);\n",
    "  }\n",
    "}\n",
    "var books = new ArrayList<Book>();\n",
    "books.add(new Book(\"Lord of the ring\"));\n",
    "var library = new Library(books);\n",
    "System.out.println(library);\n"
   ]
  },
  {
   "cell_type": "code",
   "execution_count": null,
   "metadata": {},
   "outputs": [],
   "source": [
    "books.remove(new Book(\"Lord of the ring\"));\n",
    "System.out.println(library);\n"
   ]
  },
  {
   "cell_type": "markdown",
   "metadata": {
    "slideshow": {
     "slide_type": "slide"
    }
   },
   "source": [
    "## Defensive copy (2)\n",
    "Beware of the accessor !\n"
   ]
  },
  {
   "cell_type": "code",
   "execution_count": null,
   "metadata": {},
   "outputs": [],
   "source": [
    "record Book(String title) { }\n",
    "record Library(List<Book> books) {\n",
    "  public Library {\n",
    "    books = new ArrayList<>(books);\n",
    "  }\n",
    "}\n",
    "var books = new ArrayList<Book>();\n",
    "books.add(new Book(\"Lord of the ring\"));\n",
    "var library = new Library(books);\n",
    "System.out.println(library);\n"
   ]
  },
  {
   "cell_type": "code",
   "execution_count": null,
   "metadata": {},
   "outputs": [],
   "source": [
    "library.books().remove(new Book(\"Lord of the ring\"));\n",
    "System.out.println(library);\n"
   ]
  },
  {
   "cell_type": "markdown",
   "metadata": {
    "slideshow": {
     "slide_type": "slide"
    }
   },
   "source": [
    "## Defensive copy (2)\n",
    "Defensive copies everywhere !\n"
   ]
  },
  {
   "cell_type": "code",
   "execution_count": null,
   "metadata": {},
   "outputs": [],
   "source": [
    "record Book(String title) { }\n",
    "record Library(List<Book> books) {\n",
    "  public Library {\n",
    "    books = new ArrayList<>(books);\n",
    "  }\n",
    "  public List<Book> books() {\n",
    "    return Collections.unmodifiableList(books);\n",
    "  }\n",
    "}\n",
    "var books = new ArrayList<Book>();\n",
    "books.add(new Book(\"Lord of the ring\"));\n",
    "var library = new Library(books);\n",
    "System.out.println(library);\n"
   ]
  },
  {
   "cell_type": "code",
   "execution_count": null,
   "metadata": {},
   "outputs": [],
   "source": [
    "library.books().remove(new Book(\"Lord of the ring\"));\n",
    "System.out.println(library);\n"
   ]
  },
  {
   "cell_type": "markdown",
   "metadata": {
    "slideshow": {
     "slide_type": "slide"
    }
   },
   "source": [
    "## Unmodifiable List to the rescue\n"
   ]
  },
  {
   "cell_type": "code",
   "execution_count": null,
   "metadata": {},
   "outputs": [],
   "source": [
    "record Book(String title) { }\n",
    "record Library(List<Book> books) {\n",
    "  public Library {\n",
    "    books = List.copyOf(books);\n",
    "  }\n",
    "}\n",
    "var books = new ArrayList<Book>();\n",
    "books.add(new Book(\"Lord of the ring\"));\n",
    "var library = new Library(books);\n",
    "System.out.println(library);\n"
   ]
  },
  {
   "cell_type": "code",
   "execution_count": null,
   "metadata": {},
   "outputs": [],
   "source": [
    "library.books().remove(new Book(\"Lord of the ring\"));\n",
    "System.out.println(library);\n"
   ]
  },
  {
   "cell_type": "markdown",
   "metadata": {
    "slideshow": {
     "slide_type": "slide"
    }
   },
   "source": [
    "## Record and arrays\n",
    "Arrays are always modifiable, so same issue\n"
   ]
  },
  {
   "cell_type": "code",
   "execution_count": null,
   "metadata": {},
   "outputs": [],
   "source": [
    "record User(String login, char[] password) {\n",
    "  public User {\n",
    "    login = Objects.requireNonNull(login);\n",
    "    password = password.clone();\n",
    "  }\n",
    "  public char[] password() { return \"*\".repeat(password.length).toCharArray(); }\n",
    "  public boolean equals(Object o) {\n",
    "    return o instanceof User user && login.equals(user.login) && Arrays.equals(password, user.password);\n",
    "  }\n",
    "  public int hashCode() { return Objects.hash(login, Arrays.hashCode(password)); }\n",
    "  public String toString() { return \"User \" + login + \" \" + \"*\".repeat(password.length); }\n",
    "}\n",
    "var user1 = new User(\"bob\", \"df15cb4e019ec2eac654fb2e486c56df285c8c7b\".toCharArray());\n",
    "var user2 = new User(\"bob\", \"df15cb4e019ec2eac654fb2e486c56df285c8c7b\".toCharArray());\n",
    "System.out.println(user1.equals(user2));\n",
    "System.out.println(user1.hashCode() == user2.hashCode());\n",
    "System.out.println(user1);\n"
   ]
  },
  {
   "cell_type": "markdown",
   "metadata": {
    "slideshow": {
     "slide_type": "slide"
    }
   },
   "source": [
    "## Unmodifiable record\n",
    "Records are only unmodifiable\n",
    "- require more code to make them immutable\n",
    "- List.of() / List.copyOf() may help !\n"
   ]
  },
  {
   "cell_type": "markdown",
   "metadata": {
    "slideshow": {
     "slide_type": "slide"
    }
   },
   "source": [
    "# Nested and Local Record\n"
   ]
  },
  {
   "cell_type": "markdown",
   "metadata": {
    "slideshow": {
     "slide_type": "slide"
    }
   },
   "source": [
    "## Nested record\n",
    "Records are always static (like enums)\n"
   ]
  },
  {
   "cell_type": "code",
   "execution_count": null,
   "metadata": {},
   "outputs": [],
   "source": [
    "class Person {\n",
    "  private final String name;\n",
    "  public Person(String name) { this.name = name; }\n",
    "  // a record can not use field of outer class\n",
    "  record Vip(String vipName) {\n",
    "    public String toString() {\n",
    "      return vipName + \" \" + name;\n",
    "    }\n",
    "  }\n",
    "}\n"
   ]
  },
  {
   "cell_type": "markdown",
   "metadata": {
    "slideshow": {
     "slide_type": "slide"
    }
   },
   "source": [
    "## Local record\n",
    "You can declare a record inside a method\n"
   ]
  },
  {
   "cell_type": "code",
   "execution_count": null,
   "metadata": {},
   "outputs": [],
   "source": [
    "double average(List<Integer> list) {\n",
    "  record Stat(int count, int sum) {\n",
    "    Stat add(int value) {\n",
    "      return new Stat(count + 1, sum + value);\n",
    "    }\n",
    "    Stat merge(Stat stat) {\n",
    "      return new Stat(count + stat.count, sum + stat.sum);\n",
    "    }\n",
    "    double average() {\n",
    "      return sum / (double)count;\n",
    "    }\n",
    "  }\n",
    "  return list.stream().reduce(new Stat(0, 0), Stat::add, Stat::merge).average();\n",
    "} \n",
    "var list = List.of(1, 2, 3, 4, 5);\n",
    "System.out.println(average(list));\n"
   ]
  },
  {
   "cell_type": "markdown",
   "metadata": {
    "slideshow": {
     "slide_type": "slide"
    }
   },
   "source": [
    "## Local record (2)\n",
    "A local record can not access to local variables\n"
   ]
  },
  {
   "cell_type": "code",
   "execution_count": null,
   "metadata": {},
   "outputs": [],
   "source": [
    "int add(int v1, int v2) {\n",
    "  record Local() {\n",
    "    int sum() {\n",
    "      return v1 + v2;\n",
    "    }\n",
    "  }\n",
    "  return new Local().sum();\n",
    "} \n",
    "System.out.println(add(40, 2));\n"
   ]
  },
  {
   "cell_type": "markdown",
   "metadata": {
    "slideshow": {
     "slide_type": "slide"
    }
   },
   "source": [
    "# Record Reflection API\n"
   ]
  },
  {
   "cell_type": "markdown",
   "metadata": {
    "slideshow": {
     "slide_type": "slide"
    }
   },
   "source": [
    "## Is record ?\n",
    "At runtine, a record knows it is a Record\n"
   ]
  },
  {
   "cell_type": "code",
   "execution_count": 2,
   "metadata": {},
   "outputs": [],
   "source": [
    "record Character(String name, String isHuman) { }\n",
    "var deckard = new Character(\"Deckard\", \"Maybe?\");\n"
   ]
  },
  {
   "cell_type": "markdown",
   "metadata": {},
   "source": [
    "using `Class.isRecord()`\n"
   ]
  },
  {
   "cell_type": "code",
   "execution_count": 3,
   "metadata": {},
   "outputs": [
    {
     "name": "stdout",
     "output_type": "stream",
     "text": [
      "true\n"
     ]
    }
   ],
   "source": [
    "System.out.println(deckard.getClass().isRecord());\n"
   ]
  },
  {
   "cell_type": "markdown",
   "metadata": {
    "slideshow": {
     "slide_type": "slide"
    }
   },
   "source": [
    "## Get all record components\n",
    "A record known reflectively all its components\n"
   ]
  },
  {
   "cell_type": "code",
   "execution_count": 4,
   "metadata": {},
   "outputs": [],
   "source": [
    "record Character(String name, String isHuman) { }\n",
    "var deckard = new Character(\"Deckard\", \"Maybe?\");\n"
   ]
  },
  {
   "cell_type": "markdown",
   "metadata": {},
   "source": [
    "using `Class.getRecordComponents()`\n"
   ]
  },
  {
   "cell_type": "code",
   "execution_count": 5,
   "metadata": {},
   "outputs": [
    {
     "name": "stdout",
     "output_type": "stream",
     "text": [
      "[java.lang.String name, java.lang.String isHuman]\n"
     ]
    }
   ],
   "source": [
    "var components = List.of(Character.class.getRecordComponents());\n",
    "System.out.println(components);\n"
   ]
  },
  {
   "cell_type": "markdown",
   "metadata": {
    "slideshow": {
     "slide_type": "slide"
    }
   },
   "source": [
    "## Record component accessor\n",
    "A record component knows its accessor !\n"
   ]
  },
  {
   "cell_type": "code",
   "execution_count": 6,
   "metadata": {},
   "outputs": [
    {
     "ename": "CompilationException",
     "evalue": "",
     "output_type": "error",
     "traceback": [
      "\u001b[1m\u001b[30m|   \u001b[1m\u001b[30m    .map(c -> \"\\\"\" + c.getName() + \"\\\": \\\"\" + \u001b[0m\u001b[1m\u001b[30m\u001b[41minvoke\u001b[0m\u001b[1m\u001b[30m(record, c.getAccessor()) + \"\\\"\")\u001b[0m",
      "\u001b[1m\u001b[31mcannot find symbol\u001b[0m",
      "\u001b[1m\u001b[31m  symbol:   method invoke(java.lang.Record,java.lang.reflect.Method)\u001b[0m",
      "",
      "\u001b[1m\u001b[30m|   \u001b[1m\u001b[30m  return \u001b[0m\u001b[1m\u001b[30m\u001b[41mArrays.stream(record.getClass().getRecordComponents())\u001b[0m",
      "\u001b[1m\u001b[30m|   \u001b[1m\u001b[30m\u001b[41m    .map(c -> \"\\\"\" + c.getName() + \"\\\": \\\"\" + invoke(record, c.getAccessor()) + \"\\\"\")\u001b[0m",
      "\u001b[1m\u001b[30m|   \u001b[1m\u001b[30m\u001b[41m    .collect\u001b[0m\u001b[1m\u001b[30m(joining(\", \", \"{\", \"}\")); \u001b[0m",
      "\u001b[1m\u001b[31mno suitable method found for collect(java.util.stream.Collector<java.lang.CharSequence,capture#1 of ?,java.lang.String>)\u001b[0m",
      "\u001b[1m\u001b[31m    method java.util.stream.Stream.<R>collect(java.util.function.Supplier<R>,java.util.function.BiConsumer<R,? super java.lang.Object>,java.util.function.BiConsumer<R,R>) is not applicable\u001b[0m",
      "\u001b[1m\u001b[31m      (cannot infer type-variable(s) R\u001b[0m",
      "\u001b[1m\u001b[31m        (actual and formal argument lists differ in length))\u001b[0m",
      "\u001b[1m\u001b[31m    method java.util.stream.Stream.<R,A>collect(java.util.stream.Collector<? super java.lang.Object,A,R>) is not applicable\u001b[0m",
      "\u001b[1m\u001b[31m      (cannot infer type-variable(s) R,A\u001b[0m",
      "\u001b[1m\u001b[31m        (argument mismatch; java.util.stream.Collector<java.lang.CharSequence,capture#2 of ?,java.lang.String> cannot be converted to java.util.stream.Collector<? super java.lang.Object,A,R>))\u001b[0m",
      ""
     ]
    }
   ],
   "source": [
    "import static java.util.stream.Collectors.joining;\n",
    "Object invoke(Record record, java.lang.reflect.Method accessor) {\n",
    "  try {\n",
    "    return accessor.invoke(record);\n",
    "  } catch(Exception e) {\n",
    "    throw new AssertionError(e);  //FIXME\n",
    "  }\n",
    "}\n",
    "String toJSON(Record record) {\n",
    "  return Arrays.stream(record.getClass().getRecordComponents())\n",
    "    .map(c -> \"\\\"\" + c.getName() + \"\\\": \\\"\" + invoke(record, c.getAccessor()) + \"\\\"\")\n",
    "    .collect(joining(\", \", \"{\", \"}\")); \n",
    "}\n",
    "System.out.println(toJSON(deckard));\n"
   ]
  },
  {
   "cell_type": "markdown",
   "metadata": {
    "slideshow": {
     "slide_type": "slide"
    }
   },
   "source": [
    "# Record and Serialization\n"
   ]
  }
 ],
 "metadata": {
  "celltoolbar": "Slideshow",
  "kernelspec": {
   "display_name": "Java",
   "language": "java",
   "name": "java"
  },
  "language_info": {
   "codemirror_mode": "java",
   "file_extension": ".jshell",
   "mimetype": "text/x-java-source",
   "name": "Java",
   "pygments_lexer": "java",
   "version": "14-ea+32-1423"
  }
 },
 "nbformat": 4,
 "nbformat_minor": 2
}
