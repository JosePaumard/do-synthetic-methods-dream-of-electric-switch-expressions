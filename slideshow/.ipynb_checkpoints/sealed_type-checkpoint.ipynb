{
 "cells": [
  {
   "cell_type": "markdown",
   "metadata": {},
   "source": []
  },
  {
   "cell_type": "markdown",
   "metadata": {
    "slideshow": {
     "slide_type": "slide"
    }
   },
   "source": [
    "# Toward Pattern Matching\n"
   ]
  },
  {
   "cell_type": "markdown",
   "metadata": {
    "slideshow": {
     "slide_type": "slide"
    }
   },
   "source": [
    "## Java Releases\n",
    "- Java 12: March 2019\n",
    "  - switch expression (preview)\n",
    "- Java 13: September 2019\n",
    "  - switch expression (preview 2)\n",
    "- Java 14: __March, 17th 2020__\n",
    "  - switch expression (release)\n",
    "  - record (preview)\n",
    "  - instanceof (preview)\n"
   ]
  },
  {
   "cell_type": "markdown",
   "metadata": {
    "slideshow": {
     "slide_type": "slide"
    }
   },
   "source": [
    "## Java Releases\n",
    "- Java 12: March 2019\n",
    "- Java 13: September 2019\n",
    "- Java 14: March 2020\n",
    "  - switch expression (release)\n",
    "  - record (preview)\n",
    "  - instanceof (preview)\n",
    "- Java 15: __September, 15th 2020__\n",
    "  - record (preview 2)\n",
    "  - instanceof (preview 2)\n",
    "  - selead type (preview)\n"
   ]
  },
  {
   "cell_type": "markdown",
   "metadata": {
    "slideshow": {
     "slide_type": "slide"
    }
   },
   "source": [
    "# Sealed Types\n"
   ]
  },
  {
   "cell_type": "markdown",
   "metadata": {
    "slideshow": {
     "slide_type": "slide"
    }
   },
   "source": [
    "## Design forces\n",
    "- we need to be exhaustive on types\n"
   ]
  },
  {
   "cell_type": "markdown",
   "metadata": {
    "slideshow": {
     "slide_type": "slide"
    }
   },
   "source": [
    "## Open hierarchy\n",
    "In Java, if an interface is visible\n"
   ]
  },
  {
   "cell_type": "code",
   "execution_count": 1,
   "metadata": {},
   "outputs": [
    {
     "ename": "IllegalArgumentException",
     "evalue": "error: invalid source release: 15",
     "output_type": "error",
     "traceback": [
      "\u001b[1m\u001b[31m---------------------------------------------------------------------------\u001b[0m",
      "\u001b[1m\u001b[31mjava.lang.IllegalArgumentException: error: invalid source release: 15\u001b[0m",
      "\u001b[1m\u001b[31m\tat jdk.compiler/com.sun.tools.javac.main.Arguments.error(Arguments.java:909)\u001b[0m",
      "\u001b[1m\u001b[31m\tat jdk.compiler/com.sun.tools.javac.main.Arguments.doProcessArgs(Arguments.java:383)\u001b[0m",
      "\u001b[1m\u001b[31m\tat jdk.compiler/com.sun.tools.javac.main.Arguments.processArgs(Arguments.java:347)\u001b[0m",
      "\u001b[1m\u001b[31m\tat jdk.compiler/com.sun.tools.javac.main.Arguments.init(Arguments.java:246)\u001b[0m",
      "\u001b[1m\u001b[31m\tat jdk.compiler/com.sun.tools.javac.api.JavacTool.getTask(JavacTool.java:185)\u001b[0m",
      "\u001b[1m\u001b[31m\tat jdk.compiler/com.sun.tools.javac.api.JavacTaskPool.getTask(JavacTaskPool.java:180)\u001b[0m",
      "\u001b[1m\u001b[31m\tat jdk.jshell/jdk.jshell.TaskFactory.runTask(TaskFactory.java:206)\u001b[0m",
      "\u001b[1m\u001b[31m\tat jdk.jshell/jdk.jshell.TaskFactory.parse(TaskFactory.java:140)\u001b[0m",
      "\u001b[1m\u001b[31m\tat jdk.jshell/jdk.jshell.TaskFactory.parse(TaskFactory.java:238)\u001b[0m",
      "\u001b[1m\u001b[31m\tat jdk.jshell/jdk.jshell.Eval.sourceToSnippets(Eval.java:197)\u001b[0m",
      "\u001b[1m\u001b[31m\tat jdk.jshell/jdk.jshell.Eval.eval(Eval.java:133)\u001b[0m",
      "\u001b[1m\u001b[31m\tat jdk.jshell/jdk.jshell.JShell.eval(JShell.java:493)\u001b[0m",
      "\u001b[1m\u001b[31m\tat io.github.spencerpark.ijava.execution.CodeEvaluator.evalSingle(CodeEvaluator.java:76)\u001b[0m",
      "\u001b[1m\u001b[31m\tat io.github.spencerpark.ijava.execution.CodeEvaluator.eval(CodeEvaluator.java:147)\u001b[0m",
      "\u001b[1m\u001b[31m\tat io.github.spencerpark.ijava.execution.CodeEvaluator.init(CodeEvaluator.java:67)\u001b[0m",
      "\u001b[1m\u001b[31m\tat io.github.spencerpark.ijava.execution.CodeEvaluator.eval(CodeEvaluator.java:140)\u001b[0m",
      "\u001b[1m\u001b[31m\tat io.github.spencerpark.ijava.JavaKernel.evalRaw(JavaKernel.java:276)\u001b[0m",
      "\u001b[1m\u001b[31m\tat io.github.spencerpark.ijava.JavaKernel.eval(JavaKernel.java:281)\u001b[0m",
      "\u001b[1m\u001b[31m\tat io.github.spencerpark.jupyter.kernel.BaseKernel.handleExecuteRequest(BaseKernel.java:334)\u001b[0m",
      "\u001b[1m\u001b[31m\tat io.github.spencerpark.jupyter.channels.ShellChannel.lambda$bind$0(ShellChannel.java:64)\u001b[0m",
      "\u001b[1m\u001b[31m\tat io.github.spencerpark.jupyter.channels.Loop.lambda$new$0(Loop.java:21)\u001b[0m",
      "\u001b[1m\u001b[31m\tat io.github.spencerpark.jupyter.channels.Loop.run(Loop.java:78)\u001b[0m"
     ]
    }
   ],
   "source": [
    "interface Vehicle {\n",
    "}\n",
    "record Car(String color) implements Vehicle { }\n"
   ]
  },
  {
   "cell_type": "markdown",
   "metadata": {},
   "source": [
    "anyone can add a new subtype\n"
   ]
  },
  {
   "cell_type": "code",
   "execution_count": null,
   "metadata": {},
   "outputs": [],
   "source": [
    "record Sedan(String color) implements Vehicle { }\n"
   ]
  },
  {
   "cell_type": "markdown",
   "metadata": {
    "slideshow": {
     "slide_type": "slide"
    }
   },
   "source": [
    "## We want to do a switch on type\n",
    "We need to know if the cases are exhaustive\n",
    "```java\n",
    "var color = switch(vehicle) {\n",
    "   case Car(var color),\n",
    "        Sedan(var color) -> {\n",
    "     yield color;\n",
    "   }\n",
    "   case Bus _ -> \"yellow\";\n",
    "};\n",
    "System.out.println(color);\n",
    "```\n",
    "> Tentative syntax !\n"
   ]
  }
 ],
 "metadata": {
  "celltoolbar": "Slideshow",
  "kernelspec": {
   "display_name": "Java",
   "language": "java",
   "name": "java"
  },
  "language_info": {
   "codemirror_mode": "java",
   "file_extension": ".jshell",
   "mimetype": "text/x-java-source",
   "name": "Java",
   "pygments_lexer": "java",
   "version": "14-ea+32-1423"
  }
 },
 "nbformat": 4,
 "nbformat_minor": 2
}
