{
  "cells": [{
  "cell_type": "markdown",
  "metadata": {
  "slideshow": {
    "slide_type": "slide"
  }
}
,
  "source": ["# To the Future and beyond\n"]
}
,
{
  "cell_type": "markdown",
  "metadata": {
  "slideshow": {
    "slide_type": "slide"
  }
}
,
  "source": ["## Missing Features\n", "- switch on types\n", "- sealed types (soon)\n", "- deconstruction\n", "- full pattern matching\n"]
}
,
{
  "cell_type": "markdown",
  "metadata": {},
  "source": ["> Work in progress !\n"]
}
,
{
  "cell_type": "markdown",
  "metadata": {
  "slideshow": {
    "slide_type": "slide"
  }
}
,
  "source": ["# Switch on types\n"]
}
,
{
  "cell_type": "markdown",
  "metadata": {
  "slideshow": {
    "slide_type": "slide"
  }
}
,
  "source": ["## With a hierarchy of types\n", "Let say we have this hierarchy\n"]
}
,
{
  "cell_type": "code",
  "execution_count": null,
  "metadata": {},
  "outputs": [],
  "source": ["interface Vehicle { }\n", "record Car(String owner, String passenger, String color) implements Vehicle { }\n", "record Bus(String owner) implements Vehicle { }"]
}
,
{
  "cell_type": "markdown",
  "metadata": {
  "slideshow": {
    "slide_type": "slide"
  }
}
,
  "source": ["## Switch on a hierarchy of types\n", "Extends switch statement/expression to allow any type\n", "```java\n", "String colorOf(Vehicle vehicle) {\n", "  return switch(vehicle) {\n", "    case Car car -> car.color;\n", "    case Bus bus -> \"yellow\";\n", "    default -> throw new AssertionError(\"unknown ??\");\n", "  };\n", "}\n", "```\n"]
}
,
{
  "cell_type": "markdown",
  "metadata": {
  "slideshow": {
    "slide_type": "slide"
  }
}
,
  "source": ["## Actually, we don't need a hierarchy\n", "Works with anything that extends `Object`\n", "```java\n", "Object json = ...\n", "return switch(json) {\n", "  case JSONArray array -> ...\n", "  case JSONObject object -> ...\n", "  default -> throw new AssertionError(\"unknown ??\");\n", "};\n", "```\n"]
}
,
{
  "cell_type": "markdown",
  "metadata": {
  "slideshow": {
    "slide_type": "slide"
  }
}
,
  "source": ["# Sealed Types\n"]
}
,
{
  "cell_type": "markdown",
  "metadata": {
  "slideshow": {
    "slide_type": "slide"
  }
}
,
  "source": ["# New keyword `sealed`\n", "Add a keyword `sealed` to close a hierarchy\n", "- list all subtypes using the clause `permits`\n", "- enforced by the compiler and the VM\n", "- sub hierarchy is implicitly sealed (or use `non-sealed`)\n"]
}
,
{
  "cell_type": "markdown",
  "metadata": {
  "slideshow": {
    "slide_type": "slide"
  }
}
,
  "source": ["## Closed hierarchy\n", "```java\n", "sealed interface Vehicle \n", "  permits Car, Bus { }\n", "record Car(String owner, String passenger, String color) implements Vehicle { }\n", "record Bus(String owner) implements Vehicle { }\n", "```\n"]
}
,
{
  "cell_type": "markdown",
  "metadata": {
  "slideshow": {
    "slide_type": "slide"
  }
}
,
  "source": ["## Exhaustiveness\n", "The compiler doesn't require the `default` clause anymore.\n", "```java\n", "String colorOf(Vehicle vehicle) {\n", "  return switch(vehicle) {\n", "    case Car car -> car.color;\n", "    case Bus bus -> \"yellow\";\n", "  };  //no default\n", "}\n", "```\n"]
}
,
{
  "cell_type": "markdown",
  "metadata": {
  "slideshow": {
    "slide_type": "slide"
  }
}
,
  "source": ["## Add inference of `permits` clause ?\n", "The clause `permits` is inferred if everything in the same compilation unit\n", "```java\n", "sealed interface Vehicle {} \n", "  // inferrred permits Car, Bus\n", "record Car(String owner, String passenger, String color) implements Vehicle { }\n", "record Bus(String owner) implements Vehicle { }\n", "```\n"]
}
,
{
  "cell_type": "markdown",
  "metadata": {
  "slideshow": {
    "slide_type": "slide"
  }
}
,
  "source": ["## Add a special construct ?\n", "Another solution is to introduce a new syntax for describing closed hierarchy\n", "like in Mls (Caml, Haskell, etc)\n", "```java\n", "union Vehicle {\n", "  Car(String owner, String passenger, String color),\n", "  Bus(String owner)\n", "}\n", "```\n"]
}
,
{
  "cell_type": "markdown",
  "metadata": {},
  "source": ["`union` is generated as a `sealed` interface, members as `record`\n"]
}
,
{
  "cell_type": "markdown",
  "metadata": {
  "slideshow": {
    "slide_type": "slide"
  }
}
,
  "source": ["# Deconstruction\n"]
}
,
{
  "cell_type": "markdown",
  "metadata": {
  "slideshow": {
    "slide_type": "slide"
  }
}
,
  "source": ["## Deconstruction of instanceof\n", "```java\n", "record Point(int x, int y) {\n", "  public boolean equals(Object o) {\n", "    return o instanceof Point p\n", "      && x == p.x && y == p.y;\n", "  }\n", "}\n", "```\n"]
}
,
{
  "cell_type": "markdown",
  "metadata": {},
  "source": ["> add a way to extract `x` and `y` directly when doing the `instanceof`\n"]
}
,
{
  "cell_type": "markdown",
  "metadata": {
  "slideshow": {
    "slide_type": "slide"
  }
}
,
  "source": ["## Deconstruction of instanceof\n", "```java\n", "record Point(int x, int y) {\n", "  public boolean equals(Object o) {\n", "    return o instanceof Point(int x2, int y2)\n", "      && x == x2 && y == y2;\n", "  }\n", "}\n", "```\n"]
}
,
{
  "cell_type": "markdown",
  "metadata": {
  "slideshow": {
    "slide_type": "slide"
  }
}
,
  "source": ["## With type inference\n", "Allow to use `var` instead of declaring the type of the components\n", "```java\n", "record Point(int x, int y) {\n", "  public boolean equals(Object o) {\n", "    return o instanceof Point(var x2, var y2)\n", "      && x == x2 && y == y2;\n", "  }\n", "}\n", "```\n"]
}
,
{
  "cell_type": "markdown",
  "metadata": {
  "slideshow": {
    "slide_type": "slide"
  }
}
,
  "source": ["# Deconstruction of local declaration\n"]
}
,
{
  "cell_type": "markdown",
  "metadata": {
  "slideshow": {
    "slide_type": "slide"
  }
}
,
  "source": ["## Extracting values of a record\n", "```java\n", "record Car(String owner, String passenger, String color) {}\n", "\n", "var car = ...\n", "var owner = car.owner();\n", "var color = car.color();\n", "System.out.println(owner + \" \" + color);\n", "```\n"]
}
,
{
  "cell_type": "markdown",
  "metadata": {
  "slideshow": {
    "slide_type": "slide"
  }
}
,
  "source": ["## Use destructuring\n", "```java\n", "record Car(String owner, String passenger, String color) {}\n", "\n", "var car = ...\n", "Car(String owner, String passenger, String color) = car;\n", "System.out.println(owner + \" \" + color);\n", "```\n"]
}
,
{
  "cell_type": "markdown",
  "metadata": {
  "slideshow": {
    "slide_type": "slide"
  }
}
,
  "source": ["## With inference\n", "Reusing `var` and `_`\n", "```java\n", "record Car(String owner, String passenger, String color) {}\n", "\n", "var car = ...\n", "Car(var owner, _, var color) = car;\n", "System.out.println(owner + \" \" + color);\n", "```\n"]
}
,
{
  "cell_type": "markdown",
  "metadata": {
  "slideshow": {
    "slide_type": "slide"
  }
}
,
  "source": ["## More inference\n", "Removing the name of the type which can be inferred too\n", "```java\n", "record Car(String owner, String passenger, String color) {}\n", "\n", "var car = ...\n", "(var owner, _, var color) = car;\n", "System.out.println(owner + \" \" + color);\n", "```\n"]
}
,
{
  "cell_type": "markdown",
  "metadata": {
  "slideshow": {
    "slide_type": "slide"
  }
}
,
  "source": ["## Inference in for loop\n", "If we see Map.Entry as something implementing the record protocol\n", "i.e. being able to destructure itself\n", "```java\n", "Map<String, Car> mapNameToCar = ...\n", "for((var name, var car) : mapNameToCar.entrySet()) {\n", "  System.out.println(name + \" \" + car);\n", "}\n", "```\n"]
}
,
{
  "cell_type": "markdown",
  "metadata": {
  "slideshow": {
    "slide_type": "slide"
  }
}
,
  "source": ["# Deconstruction in switch\n"]
}
,
{
  "cell_type": "markdown",
  "metadata": {
  "slideshow": {
    "slide_type": "slide"
  }
}
,
  "source": ["## So instead of a switch on types\n", "```java\n", "String ownerOf(Vehicle vehicle) {\n", "  return switch(vehicle) {\n", "    case Car car -> car.owner;\n", "    case Bus bus -> bus.owner;\n", "  };  //no default\n", "}\n", "```\n"]
}
,
{
  "cell_type": "markdown",
  "metadata": {
  "slideshow": {
    "slide_type": "slide"
  }
}
,
  "source": ["## A switch on types + destructuring\n", "Allow to de-construct the content of a record\n", "```java\n", "String ownerOf(Vehicle vehicle) {\n", "  return switch(vehicle) {\n", "    case Car(String owner, String passenger, String color),\n", "         Bus(String owner) -> owner;\n", "  };  //no default\n", "}\n", "```\n"]
}
,
{
  "cell_type": "markdown",
  "metadata": {
  "slideshow": {
    "slide_type": "slide"
  }
}
,
  "source": ["## And with some inference\n", "Use `var` and `_`\n", "```java\n", "String ownerOf(Vehicle vehicle) {\n", "  return switch(vehicle) {\n", "    case Car(var owner, _, _),\n", "         Bus(var owner) -> owner;\n", "  };  //no default\n", "}\n", "```\n"]
}
,
{
  "cell_type": "markdown",
  "metadata": {
  "slideshow": {
    "slide_type": "slide"
  }
}
,
  "source": ["# Full Pattern Matching\n"]
}
,
{
  "cell_type": "markdown",
  "metadata": {
  "slideshow": {
    "slide_type": "slide"
  }
}
,
  "source": ["## Kind of patterns\n", "- __null pattern__ (`null`), match only `null`\n", "- __type test pattern__ (`Foo`) match the type (not `null`)\n", "- __or pattern__ (`pattern1, pattern2`) match either one side or the other \n", "- __extraction pattern__ (`(..., pattern, ...)`) match a component\n", "- __constant pattern__ (`123`) match the constant value\n", "- __any pattern__ (`_`), match anything, even `null`\n"]
}
,
{
  "cell_type": "markdown",
  "metadata": {},
  "source": ["`var` is just inference, no special matching\n"]
}
,
{
  "cell_type": "markdown",
  "metadata": {
  "slideshow": {
    "slide_type": "slide"
  }
}
,
  "source": ["## An example using constants !\n", "```java\n", "boolean vehicleWithBob(Vehicle vehicle) {\n", "  return switch(vehicle) {\n", "    case Car(\"Bob\", _, _),\n", "         Car(_, \"Bob\", _),\n", "         Bus(\"Bob\") -> true;\n", "    case Car _, Bus _ -> false;\n", "  };  // still no default\n", "}\n", "```\n"]
}
],
  "metadata": {
    "celltoolbar": "Slideshow",
    "kernelspec": {
      "display_name": "Java",
      "language": "java",
      "name": "java"
    },
    "language_info": {
      "codemirror_mode": "java",
      "file_extension": ".java",
      "mimetype": "text/x-java-source",
      "name": "Java",
      "pygments_lexer": "java",
      "version": "15"
    },
    "rise": {
      "autolaunch": true
    }
  },
  "nbformat": 4,
  "nbformat_minor": 2
}

