{
 "cells": [
  {
   "cell_type": "markdown",
   "metadata": {},
   "source": []
  },
  {
   "cell_type": "markdown",
   "metadata": {
    "slideshow": {
     "slide_type": "slide"
    }
   },
   "source": [
    "# Foreign Memory API\n"
   ]
  },
  {
   "cell_type": "markdown",
   "metadata": {
    "slideshow": {
     "slide_type": "slide"
    }
   },
   "source": [
    "## Different kinds of memories\n",
    "- Java GCed memory\n",
    "- C dynamic memory (malloc)\n",
    "- file mapped memory (mmap)\n",
    "- non volatile memory (NVRAM)\n"
   ]
  },
  {
   "cell_type": "markdown",
   "metadata": {
    "slideshow": {
     "slide_type": "slide"
    }
   },
   "source": [
    "## Current two APIs in Java\n",
    "- java.nio.ByteBuffer\n",
    "- sun.misc.Unsafe*\n"
   ]
  },
  {
   "cell_type": "markdown",
   "metadata": {},
   "source": [
    "> sun.misc.Unsafe is not really supported  \n"
   ]
  },
  {
   "cell_type": "markdown",
   "metadata": {
    "slideshow": {
     "slide_type": "slide"
    }
   },
   "source": [
    "## Example of ByteBuffer\n",
    "```java\n",
    "var nativeOrder = ByteOrder.nativeOrder();\n",
    "var byteBuffer = ByteBuffer.allocateDirect(1024 * 4).order(nativeOrder);\n",
    "for (var i = 0; i < 1024; i++) {\n",
    "  byteBuffer.putInt(i * 4, 42);\n",
    "}\n",
    "unsafe.invokeCleaner(byteBuffer);\n",
    "```\n"
   ]
  },
  {
   "cell_type": "markdown",
   "metadata": {
    "slideshow": {
     "slide_type": "slide"
    }
   },
   "source": [
    "## ByteBuffer\n",
    "- very IO buffer oriented\n",
    "- fast\n",
    "- releasing direct memory issue\n",
    "- use int for index (2G limit)\n"
   ]
  },
  {
   "cell_type": "markdown",
   "metadata": {
    "slideshow": {
     "slide_type": "slide"
    }
   },
   "source": [
    "## Example of Unsafe\n",
    "```java\n",
    "long unsafe_addr = unsafe.allocateMemory(1024 * 4);\n",
    "for (var i = 0; i < 1024; i++) {\n",
    "  unsafe.putInt(unsafe_addr + (i * 4) , 42);\n",
    "}\n",
    "unsafe.freeMemory(unsafe_addr);\n",
    "```\n"
   ]
  },
  {
   "cell_type": "markdown",
   "metadata": {
    "slideshow": {
     "slide_type": "slide"
    }
   },
   "source": [
    "## Unsafe\n",
    "- 2 modes\n",
    "  - direct / indirect\n",
    "- Really unsafe !\n",
    "  - crash\n",
    "  - buffer overflow\n",
    "- Not that JIT friendly\n",
    "  - aliasing issue\n",
    "  - no loop vectorisation\n"
   ]
  },
  {
   "cell_type": "markdown",
   "metadata": {
    "slideshow": {
     "slide_type": "slide"
    }
   },
   "source": [
    "## Need a third API ?\n",
    "- Unsafe replacement\n",
    "- More low level than ByteBuffer\n",
    "  - keep ByteBuffer fast but solve the deallocation issue\n",
    "- Panama (new C <-> Java bridge)\n",
    "  - model structured data \n",
    "  - nice with small data structure\n",
    "- 100% safe !\n"
   ]
  },
  {
   "cell_type": "markdown",
   "metadata": {
    "slideshow": {
     "slide_type": "slide"
    }
   },
   "source": [
    "## Foreign Memory API\n"
   ]
  },
  {
   "cell_type": "markdown",
   "metadata": {
    "slideshow": {
     "slide_type": "slide"
    }
   },
   "source": [
    "## Foreign Memory API - Incubator\n",
    "This api is currently in incubator mode\n",
    "so for `java` and `javac` you need to add\n",
    "the module `jdk.incubator.foreign` in the module graph\n",
    "```\n",
    "--add-modules jdk.incubator.foreign\n",
    "```\n"
   ]
  },
  {
   "cell_type": "markdown",
   "metadata": {},
   "source": [
    "then you can import it\n"
   ]
  },
  {
   "cell_type": "code",
   "execution_count": null,
   "metadata": {},
   "outputs": [],
   "source": [
    "import jdk.incubator.foreign.*;\n"
   ]
  },
  {
   "cell_type": "markdown",
   "metadata": {
    "slideshow": {
     "slide_type": "slide"
    }
   },
   "source": [
    "## This API is still in flux\n",
    "So it may change depending on the Java version\n"
   ]
  },
  {
   "cell_type": "code",
   "execution_count": null,
   "metadata": {},
   "outputs": [],
   "source": [
    "System.out.println(\"runtime version \" + Runtime.version());\n"
   ]
  },
  {
   "cell_type": "markdown",
   "metadata": {},
   "source": [
    "> make sure you are at least using Java 15\n"
   ]
  },
  {
   "cell_type": "markdown",
   "metadata": {
    "slideshow": {
     "slide_type": "slide"
    }
   },
   "source": [
    "# Memory Segment\n"
   ]
  },
  {
   "cell_type": "markdown",
   "metadata": {
    "slideshow": {
     "slide_type": "slide"
    }
   },
   "source": [
    "## Memory Segment\n",
    "A memory segment is an area of memory that can be created\n",
    "from different kind of memories\n",
    "- `MemorySegment.ofArray(array)`\n",
    "- `MemorySegment.allocateNative(8192)`\n",
    "- `MemorySegment.mapFromPath​(path, bytesSize, mapMode)`\n",
    "- `MemorySegment.ofByteBuffer(byteBuffer)`\n"
   ]
  },
  {
   "cell_type": "markdown",
   "metadata": {
    "slideshow": {
     "slide_type": "slide"
    }
   },
   "source": [
    "## Temporally Bounded\n",
    "The memory management is __explicit__\n",
    "- `allocateNative()` allocate the memory\n",
    "- `close()` release it.\n"
   ]
  },
  {
   "cell_type": "code",
   "execution_count": null,
   "metadata": {},
   "outputs": [],
   "source": [
    "var segment = MemorySegment.allocateNative(8192);\n",
    "segment.close();\n",
    "System.out.println(segment.isAlive());\n"
   ]
  },
  {
   "cell_type": "markdown",
   "metadata": {
    "slideshow": {
     "slide_type": "slide"
    }
   },
   "source": [
    "## Temporally Bounded (2)\n",
    "An access after a `close()` results in a runtime exception\n"
   ]
  },
  {
   "cell_type": "code",
   "execution_count": null,
   "metadata": {},
   "outputs": [],
   "source": [
    "var segment = MemorySegment.allocateNative(8192);\n",
    "segment.close();\n",
    "System.out.println(segment.asByteBuffer());\n"
   ]
  },
  {
   "cell_type": "markdown",
   "metadata": {
    "slideshow": {
     "slide_type": "slide"
    }
   },
   "source": [
    "## Temporally Bounded (3)\n",
    "A _try-with-resources_ make the syntax cleaner\n"
   ]
  },
  {
   "cell_type": "code",
   "execution_count": null,
   "metadata": {},
   "outputs": [],
   "source": [
    "try (var segment = MemorySegment.allocateNative(8192)) {\n",
    "  System.out.println(segment.isAlive());\n",
    "  System.out.println(segment);\n",
    "} // the memory is released\n"
   ]
  },
  {
   "cell_type": "markdown",
   "metadata": {
    "slideshow": {
     "slide_type": "slide"
    }
   },
   "source": [
    "## Spatially Bounded\n",
    "You can not access to outside the bounds of the segment\n"
   ]
  },
  {
   "cell_type": "code",
   "execution_count": null,
   "metadata": {},
   "outputs": [],
   "source": [
    "try (var segment = MemorySegment.allocateNative(8192)) {\n",
    "  var buffer = segment.asByteBuffer();\n",
    "  var indexTooBig = 8192;\n",
    "  System.out.println(buffer.get(indexTooBig));\n",
    "}\n"
   ]
  },
  {
   "cell_type": "markdown",
   "metadata": {
    "slideshow": {
     "slide_type": "slide"
    }
   },
   "source": [
    "## Thread Bounded\n",
    "Only the thread that has allocated the segment can access\n",
    "to the data of that segment\n"
   ]
  },
  {
   "cell_type": "code",
   "execution_count": null,
   "metadata": {},
   "outputs": [],
   "source": [
    "try (var segment = MemorySegment.allocateNative(8192)) {\n",
    "  var thread = new Thread(() -> {\n",
    "    var buffer = segment.asByteBuffer();\n",
    "  });\n",
    "  thread.start();\n",
    "  thread.join();\n",
    "}\n"
   ]
  },
  {
   "cell_type": "markdown",
   "metadata": {
    "slideshow": {
     "slide_type": "slide"
    }
   },
   "source": [
    "## Thread Bounded (2)\n",
    "A thread can ask explicitly using `acquire()` to share the segment\n",
    "An acquired segment must be closed before the segment can be closed.\n"
   ]
  },
  {
   "cell_type": "code",
   "execution_count": null,
   "metadata": {},
   "outputs": [],
   "source": [
    "try (var segment = MemorySegment.allocateNative(8192)) {\n",
    "  var thread = new Thread(() -> {\n",
    "    try(var acquiredSegment = segment.acquire()) {\n",
    "      var buffer = acquiredSegment.asByteBuffer();\n",
    "    }\n",
    "  });\n",
    "  thread.start();\n",
    "  thread.join();\n",
    "}\n"
   ]
  },
  {
   "cell_type": "markdown",
   "metadata": {},
   "source": [
    "> Sharing segments may lead to concurrency issues\n"
   ]
  },
  {
   "cell_type": "markdown",
   "metadata": {
    "slideshow": {
     "slide_type": "slide"
    }
   },
   "source": [
    "## Memory Segment - Summary\n",
    "- Thread Bounded\n",
    "- Temporally Bounded\n",
    "- Spatially Bounded\n"
   ]
  },
  {
   "cell_type": "markdown",
   "metadata": {
    "slideshow": {
     "slide_type": "slide"
    }
   },
   "source": [
    "# MemoryAddress and VarHandle\n"
   ]
  },
  {
   "cell_type": "markdown",
   "metadata": {
    "slideshow": {
     "slide_type": "slide"
    }
   },
   "source": [
    "## MemoryAddress\n",
    "An offset inside the segment\n"
   ]
  },
  {
   "cell_type": "code",
   "execution_count": null,
   "metadata": {},
   "outputs": [],
   "source": [
    "try (var segment = MemorySegment.allocateNative(8192)) {\n",
    "  var base = segment.baseAddress();\n",
    "  System.out.println(base);\n",
    "  var newBase = base.offset(16);\n",
    "  System.out.println(newBase);\n",
    "}\n"
   ]
  },
  {
   "cell_type": "markdown",
   "metadata": {
    "slideshow": {
     "slide_type": "slide"
    }
   },
   "source": [
    "## MemoryAddress is value based\n",
    "MemoryAddress is not a classical class\n",
    "- no identity\n",
    "  - synchronized, wait/notify are not supported\n",
    "- acts like a primitive type\n"
   ]
  },
  {
   "cell_type": "markdown",
   "metadata": {},
   "source": [
    "> Not fully implemented yet !\n"
   ]
  },
  {
   "cell_type": "markdown",
   "metadata": {
    "slideshow": {
     "slide_type": "slide"
    }
   },
   "source": [
    "## VarHandle\n",
    "A class representing how of access to a value\n",
    "- primitive type (and array of them)\n",
    "- byte order (`java.nio.ByteOrder`)\n",
    "- alignment\n",
    "- semantics (plain, volatile, opaque)\n"
   ]
  },
  {
   "cell_type": "code",
   "execution_count": null,
   "metadata": {},
   "outputs": [],
   "source": [
    "import java.nio.ByteOrder;\n",
    "var nativeOrder = ByteOrder.nativeOrder();\n",
    "System.out.println(nativeOrder);\n"
   ]
  },
  {
   "cell_type": "code",
   "execution_count": null,
   "metadata": {},
   "outputs": [],
   "source": [
    "import java.lang.invoke.VarHandle;\n",
    "VarHandle intHandle = MemoryHandles.varHandle(int.class, nativeOrder);\n",
    "System.out.println(intHandle);\n"
   ]
  },
  {
   "cell_type": "markdown",
   "metadata": {
    "slideshow": {
     "slide_type": "slide"
    }
   },
   "source": [
    "## Get/set one `int` at address 32  \n"
   ]
  },
  {
   "cell_type": "code",
   "execution_count": null,
   "metadata": {},
   "outputs": [],
   "source": [
    "try (var segment = MemorySegment.allocateNative(8192)) {\n",
    "  var base = segment.baseAddress();\n",
    "  intHandle.set(base.offset(32), 42);\n",
    "  System.out.println(intHandle.get(base.offset(32)));\n",
    "}\n"
   ]
  },
  {
   "cell_type": "markdown",
   "metadata": {
    "slideshow": {
     "slide_type": "slide"
    }
   },
   "source": [
    "## VarHandle Addressing mode\n",
    "- using a direct mode\n",
    "  `handle.get(MemoryAddress)`\n"
   ]
  },
  {
   "cell_type": "code",
   "execution_count": null,
   "metadata": {},
   "outputs": [],
   "source": [
    "var intHandle = MemoryHandles.varHandle(int.class, nativeOrder);\n",
    "System.out.println(intHandle);\n"
   ]
  },
  {
   "cell_type": "markdown",
   "metadata": {},
   "source": [
    "- using an array mode:\n",
    "  `handle.get(MemoryAddress, long)`\n"
   ]
  },
  {
   "cell_type": "code",
   "execution_count": null,
   "metadata": {},
   "outputs": [],
   "source": [
    "var intHandle = MemoryHandles.varHandle(int.class, nativeOrder);\n",
    "var intArrayHandle = MemoryHandles.withStride(intHandle, 4);\n",
    "System.out.println(intArrayHandle);\n"
   ]
  },
  {
   "cell_type": "markdown",
   "metadata": {
    "slideshow": {
     "slide_type": "slide"
    }
   },
   "source": [
    "## Get/set an array of `int`s  \n"
   ]
  },
  {
   "cell_type": "code",
   "execution_count": null,
   "metadata": {},
   "outputs": [],
   "source": [
    "try (var segment = MemorySegment.allocateNative(8192)) {\n",
    "  var base = segment.baseAddress().offset(32);\n",
    "  for (var i = 0 ; i < 128 ; i++) {\n",
    "    intArrayHandle.set(base, i, 42);\n",
    "  }\n",
    "  System.out.println(intArrayHandle.get(base, 64));\n",
    "}\n"
   ]
  },
  {
   "cell_type": "markdown",
   "metadata": {
    "slideshow": {
     "slide_type": "slide"
    }
   },
   "source": [
    "## Without using a VarHandle with a stride\n",
    "Maybe slower because the _stride_ is not hoisted\n",
    "out of the loop\n"
   ]
  },
  {
   "cell_type": "code",
   "execution_count": null,
   "metadata": {},
   "outputs": [],
   "source": [
    "try (var segment = MemorySegment.allocateNative(8192)) {\n",
    "  var base = segment.baseAddress().offset(32);\n",
    "  for (var i = 0 ; i < 128 ; i++) {\n",
    "    intHandle.set(base.offset(i * 4), 42);\n",
    "  }\n",
    "  System.out.println(intHandle.get(base.offset(64 * 4)));\n",
    "}\n"
   ]
  },
  {
   "cell_type": "markdown",
   "metadata": {
    "slideshow": {
     "slide_type": "slide"
    }
   },
   "source": [
    "## MemoryAddress and VarHandle\n",
    "- MemoryAddress is an offset in the segment\n",
    "- VarHandle specifies the addressing mode\n"
   ]
  },
  {
   "cell_type": "markdown",
   "metadata": {},
   "source": [
    "> VarHandle can also specifies an _offset_ and multiple array _dimensions_\n"
   ]
  },
  {
   "cell_type": "markdown",
   "metadata": {
    "slideshow": {
     "slide_type": "slide"
    }
   },
   "source": [
    "# MemoryLayout\n"
   ]
  },
  {
   "cell_type": "markdown",
   "metadata": {
    "slideshow": {
     "slide_type": "slide"
    }
   },
   "source": [
    "## Example of MemoryLayout\n",
    "Represents a C memory layout\n",
    "```c\n",
    "struct {\n",
    "  int a;\n",
    "  byte b[12];\n",
    "}\n",
    "```\n",
    "- __value__ (number of bits + order)\n",
    "- __group__ (struct or union)\n",
    "- __sequence__ (array, sized or free)\n"
   ]
  },
  {
   "cell_type": "markdown",
   "metadata": {
    "slideshow": {
     "slide_type": "slide"
    }
   },
   "source": [
    "## Example of MemoryLayout (2)\n",
    "```c\n",
    "struct {\n",
    "  int a;\n",
    "  byte b[12];\n",
    "}\n",
    "```\n"
   ]
  },
  {
   "cell_type": "code",
   "execution_count": null,
   "metadata": {},
   "outputs": [],
   "source": [
    "import static jdk.incubator.foreign.MemoryLayout.*;\n",
    "var layout1 = ofStruct(\n",
    "    ofValueBits(32, nativeOrder).withName(\"a\"),\n",
    "    ofSequence(12,\n",
    "        ofValueBits(8, nativeOrder)\n",
    "    ).withName(\"b\")\n",
    ").withBitAlignment(32);\n",
    "System.out.println(layout1);\n"
   ]
  },
  {
   "cell_type": "markdown",
   "metadata": {
    "slideshow": {
     "slide_type": "slide"
    }
   },
   "source": [
    "## Another example of MemoryLayout\n",
    "```c\n",
    "struct {\n",
    "  double x;\n",
    "  double y;\n",
    "} []\n",
    "```\n"
   ]
  },
  {
   "cell_type": "code",
   "execution_count": 29,
   "metadata": {},
   "outputs": [
    {
     "name": "stdout",
     "output_type": "stream",
     "text": [
      "[:[b64(x)b64(y)]]\n"
     ]
    }
   ],
   "source": [
    "var layout2 = ofSequence(\n",
    "    ofStruct(\n",
    "        ofValueBits(64, nativeOrder).withName(\"x\"),\n",
    "        ofValueBits(64, nativeOrder).withName(\"y\")\n",
    "    ).withBitAlignment(64)\n",
    ");\n",
    "System.out.println(layout2);\n"
   ]
  },
  {
   "cell_type": "markdown",
   "metadata": {
    "slideshow": {
     "slide_type": "slide"
    }
   },
   "source": [
    "## VarHandle from a MemoryLayout\n",
    "Using a `PathElement` (`groupElement` or `sequenceElement`) to locate\n",
    "a field or an array inside a layout \n"
   ]
  },
  {
   "cell_type": "code",
   "execution_count": 30,
   "metadata": {},
   "outputs": [
    {
     "name": "stdout",
     "output_type": "stream",
     "text": [
      "VarHandle[varType=int, coord=[interface jdk.internal.access.foreign.MemoryAddressProxy]]\n"
     ]
    }
   ],
   "source": [
    "import static jdk.incubator.foreign.MemoryLayout.PathElement.*;\n",
    "var aHandle = layout1.varHandle(int.class, groupElement(\"a\"));\n",
    "System.out.println(aHandle);\n"
   ]
  },
  {
   "cell_type": "markdown",
   "metadata": {},
   "source": [
    "If the primitive type is not compatible with the size\n"
   ]
  },
  {
   "cell_type": "code",
   "execution_count": 31,
   "metadata": {},
   "outputs": [
    {
     "ename": "EvalException",
     "evalue": "Invalid carrier: long, for layout b32(a)",
     "output_type": "error",
     "traceback": [
      "\u001b[1m\u001b[31m---------------------------------------------------------------------------\u001b[0m",
      "\u001b[1m\u001b[31mjava.lang.IllegalArgumentException: Invalid carrier: long, for layout b32(a)\u001b[0m",
      "\u001b[1m\u001b[31m\tat jdk.incubator.foreign/jdk.internal.foreign.LayoutPath.dereferenceHandle(LayoutPath.java:129)\u001b[0m",
      "\u001b[1m\u001b[31m\tat jdk.incubator.foreign/jdk.incubator.foreign.MemoryLayout.varHandle(MemoryLayout.java:263)\u001b[0m",
      "\u001b[1m\u001b[31m\tat .do_it$Aux(#53:1)\u001b[0m",
      "\u001b[1m\u001b[31m\tat .(#53:1)\u001b[0m"
     ]
    }
   ],
   "source": [
    "var aHandle = layout1.varHandle(long.class, groupElement(\"a\"));\n",
    "System.out.println(aHandle);\n"
   ]
  },
  {
   "cell_type": "markdown",
   "metadata": {
    "slideshow": {
     "slide_type": "slide"
    }
   },
   "source": [
    "## VarHandle from MemoryLayout (2)\n",
    "The VarHandle has a supplementary parameter if the array has a free dimension\n"
   ]
  },
  {
   "cell_type": "code",
   "execution_count": 32,
   "metadata": {},
   "outputs": [
    {
     "name": "stdout",
     "output_type": "stream",
     "text": [
      "[b32(a)[12:b8](b)]\n",
      "VarHandle[varType=byte, coord=[interface jdk.internal.access.foreign.MemoryAddressProxy, long]]\n"
     ]
    }
   ],
   "source": [
    "System.out.println(layout1);\n",
    "var bHandle = layout1.varHandle(byte.class, groupElement(\"b\"), sequenceElement());\n",
    "System.out.println(bHandle);\n"
   ]
  },
  {
   "cell_type": "code",
   "execution_count": 33,
   "metadata": {},
   "outputs": [
    {
     "name": "stdout",
     "output_type": "stream",
     "text": [
      "[:[b64(x)b64(y)]]\n",
      "VarHandle[varType=double, coord=[interface jdk.internal.access.foreign.MemoryAddressProxy, long]]\n"
     ]
    }
   ],
   "source": [
    "System.out.println(layout2);\n",
    "var xHandle = layout2.varHandle(double.class, sequenceElement(), groupElement(\"x\"));\n",
    "System.out.println(xHandle);\n"
   ]
  },
  {
   "cell_type": "markdown",
   "metadata": {
    "slideshow": {
     "slide_type": "slide"
    }
   },
   "source": [
    "## A MemorySegment from a MemoryLayout\n",
    "You can ask for a segment of the right size from a layout\n"
   ]
  },
  {
   "cell_type": "code",
   "execution_count": 35,
   "metadata": {},
   "outputs": [
    {
     "name": "stdout",
     "output_type": "stream",
     "text": [
      "42 42\n"
     ]
    }
   ],
   "source": [
    "var aHandle = layout1.varHandle(int.class, groupElement(\"a\"));\n",
    "var bHandle = layout1.varHandle(byte.class, groupElement(\"b\"), sequenceElement());\n",
    "try (var segment = MemorySegment.allocateNative(layout1)) {\n",
    "  var base = segment.baseAddress();\n",
    "  aHandle.set(base, 42);\n",
    "  bHandle.set(base, 7, (byte)42);\n",
    "  System.out.println(aHandle.get(base) + \" \" + bHandle.get(base, 7));\n",
    "}\n"
   ]
  },
  {
   "cell_type": "markdown",
   "metadata": {
    "slideshow": {
     "slide_type": "slide"
    }
   },
   "source": [
    "# Missing methods ??\n"
   ]
  },
  {
   "cell_type": "markdown",
   "metadata": {
    "slideshow": {
     "slide_type": "slide"
    }
   },
   "source": [
    "## Provide elementCounts for the sequences after having created the MemoryLayout\n"
   ]
  },
  {
   "cell_type": "code",
   "execution_count": 36,
   "metadata": {},
   "outputs": [],
   "source": [
    "MemoryLayout withElementCounts(MemoryLayout layout, Iterator<Integer> counts) {\n",
    "  if (!counts.hasNext()) {\n",
    "    return layout;\n",
    "  }\n",
    "  if (layout instanceof SequenceLayout seq) {\n",
    "    var elementCount = seq.elementCount().orElse(counts.next());\n",
    "    var result = ofSequence(elementCount, withElementCounts(seq.elementLayout(), counts)).withBitAlignment(seq.bitAlignment());\n",
    "    return seq.name().map(result::withName).orElse(result);\n",
    "  }\n",
    "  if (layout instanceof GroupLayout group) {\n",
    "    if (group.isUnion()) { throw new UnsupportedOperationException(); }\n",
    "    var result = ofStruct(group.memberLayouts().stream().map(l -> withElementCounts(l, counts)).toArray(MemoryLayout[]::new)).withBitAlignment(group.bitAlignment());\n",
    "    return group.name().map(result::withName).orElse(result);\n",
    "  }\n",
    "  return layout;\n",
    "}\n",
    "MemoryLayout withElementCounts(MemoryLayout layout, int... counts) {\n",
    "  return withElementCounts(layout, Arrays.stream(counts).boxed().iterator());\n",
    "}\n"
   ]
  },
  {
   "cell_type": "markdown",
   "metadata": {
    "slideshow": {
     "slide_type": "slide"
    }
   },
   "source": [
    "## How to use it ?\n"
   ]
  },
  {
   "cell_type": "code",
   "execution_count": 37,
   "metadata": {},
   "outputs": [
    {
     "name": "stdout",
     "output_type": "stream",
     "text": [
      "[:[:[b64(x)b64(y)]]]\n"
     ]
    }
   ],
   "source": [
    "var partialArrayLayout = ofSequence(ofSequence(\n",
    "    ofStruct(\n",
    "        ofValueBits(64, nativeOrder).withName(\"x\"),\n",
    "        ofValueBits(64, nativeOrder).withName(\"y\")\n",
    "    ).withBitAlignment(64)\n",
    "));\n",
    "System.out.println(partialArrayLayout);\n"
   ]
  },
  {
   "cell_type": "code",
   "execution_count": 38,
   "metadata": {},
   "outputs": [
    {
     "name": "stdout",
     "output_type": "stream",
     "text": [
      "[8:[8:[b64(x)b64(y)]]]\n"
     ]
    }
   ],
   "source": [
    "var matrix8x8Layout = withElementCounts(partialArrayLayout, 8, 8);\n",
    "System.out.println(matrix8x8Layout);\n"
   ]
  },
  {
   "cell_type": "markdown",
   "metadata": {
    "slideshow": {
     "slide_type": "slide"
    }
   },
   "source": [
    "## Provide an API entry point to create a MemoryLayout from the String representation instead of using a Constable\n",
    "One of these format is lighter than the other, no ?\n"
   ]
  },
  {
   "cell_type": "code",
   "execution_count": 39,
   "metadata": {},
   "outputs": [
    {
     "name": "stdout",
     "output_type": "stream",
     "text": [
      "[:[:[b64(x)b64(y)]]]\n",
      "Optional[DynamicConstantDesc[ConstantBootstraps::invoke(value/MethodHandleDesc[INTERFACE_STATIC/MemoryLayout::ofSequence(MemoryLayout)SequenceLayout],DynamicConstantDesc[ConstantBootstraps::invoke(value/MethodHandleDesc[INTERFACE_STATIC/MemoryLayout::ofSequence(MemoryLayout)SequenceLayout],DynamicConstantDesc[ConstantBootstraps::invoke(struct/MethodHandleDesc[INTERFACE_STATIC/MemoryLayout::ofStruct(MemoryLayout[])GroupLayout],DynamicConstantDesc[ConstantBootstraps::invoke(value/MethodHandleDesc[INTERFACE_STATIC/MemoryLayout::ofValueBits(long,ByteOrder)ValueLayout],64,DynamicConstantDesc[ConstantBootstraps::getStaticFinal(LITTLE_ENDIAN/ClassDesc[ByteOrder])ByteOrder])ValueLayout],DynamicConstantDesc[ConstantBootstraps::invoke(value/MethodHandleDesc[INTERFACE_STATIC/MemoryLayout::ofValueBits(long,ByteOrder)ValueLayout],64,DynamicConstantDesc[ConstantBootstraps::getStaticFinal(LITTLE_ENDIAN/ClassDesc[ByteOrder])ByteOrder])ValueLayout])GroupLayout])SequenceLayout])SequenceLayout]]\n"
     ]
    }
   ],
   "source": [
    "System.out.println(partialArrayLayout);\n",
    "System.out.println(partialArrayLayout.describeConstable());\n"
   ]
  }
 ],
 "metadata": {
  "celltoolbar": "Slideshow",
  "kernelspec": {
   "display_name": "Java",
   "language": "java",
   "name": "java"
  },
  "language_info": {
   "codemirror_mode": "java",
   "file_extension": ".jshell",
   "mimetype": "text/x-java-source",
   "name": "Java",
   "pygments_lexer": "java",
   "version": "15-ea+6-123"
  },
  "rise": {
   "autolaunch": true
  }
 },
 "nbformat": 4,
 "nbformat_minor": 2
}
