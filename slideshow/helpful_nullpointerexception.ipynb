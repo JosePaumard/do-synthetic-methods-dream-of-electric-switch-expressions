{
  "cells": [{
  "cell_type": "markdown",
  "metadata": {},
  "source": []
}
,
{
  "cell_type": "markdown",
  "metadata": {
  "slideshow": {
    "slide_type": "slide"
  }
}
,
  "source": ["# Helpful NullPointerException\n"]
}
,
{
  "cell_type": "markdown",
  "metadata": {
  "slideshow": {
    "slide_type": "slide"
  }
}
,
  "source": ["# Provide more context in the message of a NPE\n"]
}
,
{
  "cell_type": "markdown",
  "metadata": {
  "slideshow": {
    "slide_type": "slide"
  }
}
,
  "source": ["## Design forces\n", "SAP JVM meaningfull error message for NPE since 2006\n"]
}
,
{
  "cell_type": "markdown",
  "metadata": {},
  "source": ["It really helps\n", "  - beginners\n", "  - to find an error when only runtime logs are available \n"]
}
,
{
  "cell_type": "markdown",
  "metadata": {
  "slideshow": {
    "slide_type": "slide"
  }
}
,
  "source": ["## Example\n"]
}
,
{
  "cell_type": "code",
  "execution_count": null,
  "metadata": {},
  "outputs": [],
  "source": ["void printFirst(List<String> list) {\n", "  System.out.println(list.get(0).length());\n", "}\n"]
}
,
{
  "cell_type": "markdown",
  "metadata": {},
  "source": ["When you have several `.` on the same line, it's not obvious\n", "where the code throws a NullPointerException.\n"]
}
,
{
  "cell_type": "markdown",
  "metadata": {
  "slideshow": {
    "slide_type": "slide"
  }
}
,
  "source": ["## Meaningful NPE error message\n"]
}
,
{
  "cell_type": "code",
  "execution_count": null,
  "metadata": {},
  "outputs": [],
  "source": ["void printFirst(List<String> list) {\n", "  System.out.println(list.get(0).length());\n", "}\n", "printFirst(List.of(null));\n"]
}
,
{
  "cell_type": "markdown",
  "metadata": {
  "slideshow": {
    "slide_type": "slide"
  }
}
,
  "source": ["## Java 14 / Java 15\n", "For Java 14, this feature is under the flag\n", "```\n", "-XX:+ShowCodeDetailsInExceptionMessages\n", "```\n", "to avoid performance regression.\n"]
}
,
{
  "cell_type": "markdown",
  "metadata": {},
  "source": ["Should be enabled by default in Java 15.\n"]
}
,
{
  "cell_type": "markdown",
  "metadata": {},
  "source": ["> Note: It's enable for this notebook !\n"]
}
,
{
  "cell_type": "markdown",
  "metadata": {
  "slideshow": {
    "slide_type": "slide"
  }
}
,
  "source": ["# Some Examples\n"]
}
,
{
  "cell_type": "markdown",
  "metadata": {
  "slideshow": {
    "slide_type": "slide"
  }
}
,
  "source": ["## Objects method call\n"]
}
,
{
  "cell_type": "code",
  "execution_count": null,
  "metadata": {},
  "outputs": [],
  "source": ["record Person(String name) {\n", "  int nameLength() {\n", "    return name.length();\n", "  }\n", "}\n", "Person nobody = null;\n", "System.out.println(nobody.nameLength());\n"]
}
,
{
  "cell_type": "markdown",
  "metadata": {
  "slideshow": {
    "slide_type": "slide"
  }
}
,
  "source": ["## Objects field access\n"]
}
,
{
  "cell_type": "code",
  "execution_count": null,
  "metadata": {},
  "outputs": [],
  "source": ["record Person(String name) {\n", "  int nameLength() {\n", "    return name.length();\n", "  }\n", "}\n", "Person nobody = new Person(null);\n", "System.out.println(nobody.nameLength());\n"]
}
,
{
  "cell_type": "markdown",
  "metadata": {
  "slideshow": {
    "slide_type": "slide"
  }
}
,
  "source": ["## Switch on String or Enum\n"]
}
,
{
  "cell_type": "code",
  "execution_count": null,
  "metadata": {},
  "outputs": [],
  "source": ["String s = null;\n", "switch(s) {\n", "  case \"hello\":\n", "}\n"]
}
,
{
  "cell_type": "code",
  "execution_count": null,
  "metadata": {},
  "outputs": [],
  "source": ["enum Hero { JEDI, SITH }\n", "Hero zero = null;\n", "switch(zero) { }\n"]
}
,
{
  "cell_type": "markdown",
  "metadata": {
  "slideshow": {
    "slide_type": "slide"
  }
}
,
  "source": ["## Other control flow\n", "`synchronized`\n"]
}
,
{
  "cell_type": "code",
  "execution_count": null,
  "metadata": {},
  "outputs": [],
  "source": ["Object o = null;\n", "synchronized(o) { }\n"]
}
,
{
  "cell_type": "markdown",
  "metadata": {},
  "source": ["`throw`\n"]
}
,
{
  "cell_type": "code",
  "execution_count": null,
  "metadata": {},
  "outputs": [],
  "source": ["throw null;\n"]
}
,
{
  "cell_type": "markdown",
  "metadata": {
  "slideshow": {
    "slide_type": "slide"
  }
}
,
  "source": ["## Array\n", "Array length\n"]
}
,
{
  "cell_type": "code",
  "execution_count": null,
  "metadata": {},
  "outputs": [],
  "source": ["Object[] array = null;\n", "array.length\n"]
}
,
{
  "cell_type": "markdown",
  "metadata": {},
  "source": ["Array access\n"]
}
,
{
  "cell_type": "code",
  "execution_count": null,
  "metadata": {},
  "outputs": [],
  "source": [" // array[0]\n", "array[0] = 3;\n"]
}
,
{
  "cell_type": "markdown",
  "metadata": {
  "slideshow": {
    "slide_type": "slide"
  }
}
,
  "source": ["## Wrapper type\n", "unboxing\n"]
}
,
{
  "cell_type": "code",
  "execution_count": null,
  "metadata": {},
  "outputs": [],
  "source": ["Integer integer = null;\n", "int i = integer;\n"]
}
,
{
  "cell_type": "markdown",
  "metadata": {
  "slideshow": {
    "slide_type": "slide"
  }
}
,
  "source": ["# Improvements for the next releases\n"]
}
,
{
  "cell_type": "markdown",
  "metadata": {
  "slideshow": {
    "slide_type": "slide"
  }
}
,
  "source": ["## `Objects.requireNonNull()`\n"]
}
,
{
  "cell_type": "code",
  "execution_count": null,
  "metadata": {},
  "outputs": [],
  "source": ["record Person(String name) {\n", "  public Person {\n", "    Objects.requireNonNull(name);\n", "  }\n", "}\n", "new Person(null);\n"]
}
,
{
  "cell_type": "markdown",
  "metadata": {},
  "source": ["VM uses of the context inside `requireNonNull` and\n", "not context where the `requireNonNull` is called.\n"]
}
,
{
  "cell_type": "markdown",
  "metadata": {
  "slideshow": {
    "slide_type": "slide"
  }
}
,
  "source": ["## Implicit `requireNonNull()`\n", "The compiler also insert a couple of `requireNonNull()`\n"]
}
,
{
  "cell_type": "code",
  "execution_count": null,
  "metadata": {},
  "outputs": [],
  "source": ["String s = null;\n", "switch(s) { }\n"]
}
,
{
  "cell_type": "code",
  "execution_count": null,
  "metadata": {},
  "outputs": [],
  "source": ["PrintStream out = null;\n", "Runnable r = out::println;\n"]
}
,
{
  "cell_type": "markdown",
  "metadata": {
  "slideshow": {
    "slide_type": "slide"
  }
}
,
  "source": ["## Implicit `requireNonNull()`\n", "The compiler inserts a `requireNonNull()` if the outer class is null\n"]
}
,
{
  "cell_type": "code",
  "execution_count": null,
  "metadata": {},
  "outputs": [],
  "source": ["class A {\n", "  class B {\n", "  }\n", "}\n", "A a = null;\n", "a.new B();\n"]
}
,
{
  "cell_type": "markdown",
  "metadata": {
  "slideshow": {
    "slide_type": "slide"
  }
}
,
  "source": ["## `Objects.requireNonNull()`\n"]
}
,
{
  "cell_type": "markdown",
  "metadata": {},
  "source": ["All those cases need a little more love :)\n"]
}
],
  "metadata": {
    "celltoolbar": "Slideshow",
    "kernelspec": {
      "display_name": "Java",
      "language": "java",
      "name": "java"
    },
    "language_info": {
      "codemirror_mode": "java",
      "file_extension": ".java",
      "mimetype": "text/x-java-source",
      "name": "Java",
      "pygments_lexer": "java",
      "version": "15"
    },
    "rise": {
      "autolaunch": true
    }
  },
  "nbformat": 4,
  "nbformat_minor": 2
}

