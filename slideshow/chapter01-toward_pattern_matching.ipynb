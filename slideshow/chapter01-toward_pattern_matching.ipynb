{
  "cells": [{
  "cell_type": "markdown",
  "metadata": {},
  "source": []
}
,
{
  "cell_type": "markdown",
  "metadata": {
  "slideshow": {
    "slide_type": "slide"
  }
}
,
  "source": ["# Toward Pattern Matching\n"]
}
,
{
  "cell_type": "markdown",
  "metadata": {
  "slideshow": {
    "slide_type": "slide"
  }
}
,
  "source": ["## Java Releases\n", "- Java 12: March 2019\n", "  - switch expression (preview)\n", "- Java 13: September 2019\n", "  - switch expression (preview 2)\n", "- Java 14: __March, 17th 2020__\n", "  - switch expression (release)\n", "  - record (preview)\n", "  - instanceof (preview)\n"]
}
,
{
  "cell_type": "markdown",
  "metadata": {
  "slideshow": {
    "slide_type": "slide"
  }
}
,
  "source": ["## Java Releases\n", "- Java 12: March 2019\n", "- Java 13: September 2019\n", "- Java 14: March 2020\n", "  - switch expression (release)\n", "  - record (preview)\n", "  - instanceof (preview)\n", "- Java 15: __September, 15th 2020__\n", "  - record (preview 2)\n", "  - instanceof (preview 2)\n", "  - selead type (preview)\n"]
}
,
{
  "cell_type": "markdown",
  "metadata": {
  "slideshow": {
    "slide_type": "slide"
  }
}
,
  "source": ["## Features\n", "Java\n", "- [Switch Expression](chapter02-switch_expression.ipynb)\n", "- [Record](chapter03-record.ipynb)\n", "- [Instanceof](chapter04-instanceof.ipynb)\n", "- [Sealed Types](chapter05-sealed_types.ipynb)\n"]
}
,
{
  "cell_type": "markdown",
  "metadata": {},
  "source": ["VM and API\n", "- [Helpful NPE](chapter06-helpful_nullpointerexception.ipynb)\n", "- [Foreign Mamory API](chapter07-foreign_memory_api.ipynb)\n"]
}
],
  "metadata": {
    "celltoolbar": "Slideshow",
    "kernelspec": {
      "display_name": "Java",
      "language": "java",
      "name": "java"
    },
    "language_info": {
      "codemirror_mode": "java",
      "file_extension": ".java",
      "mimetype": "text/x-java-source",
      "name": "Java",
      "pygments_lexer": "java",
      "version": "15"
    },
    "rise": {
      "autolaunch": true
    }
  },
  "nbformat": 4,
  "nbformat_minor": 2
}

