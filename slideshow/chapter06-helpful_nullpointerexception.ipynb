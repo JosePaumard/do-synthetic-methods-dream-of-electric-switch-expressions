{
 "cells": [
  {
   "cell_type": "markdown",
   "metadata": {},
   "source": []
  },
  {
   "cell_type": "markdown",
   "metadata": {
    "slideshow": {
     "slide_type": "slide"
    }
   },
   "source": [
    "# Helpful NullPointerException\n"
   ]
  },
  {
   "cell_type": "markdown",
   "metadata": {
    "slideshow": {
     "slide_type": "slide"
    }
   },
   "source": [
    "# Provide more context in the message of a NPE\n"
   ]
  },
  {
   "cell_type": "markdown",
   "metadata": {
    "slideshow": {
     "slide_type": "slide"
    }
   },
   "source": [
    "## Design forces\n",
    "SAP JVM meaningfull error message for NPE since 2006\n"
   ]
  },
  {
   "cell_type": "markdown",
   "metadata": {},
   "source": [
    "It really helps\n",
    "  - beginners\n",
    "  - to find an error when only runtime logs are available \n"
   ]
  },
  {
   "cell_type": "markdown",
   "metadata": {
    "slideshow": {
     "slide_type": "slide"
    }
   },
   "source": [
    "## Example\n"
   ]
  },
  {
   "cell_type": "code",
   "execution_count": 15,
   "metadata": {},
   "outputs": [],
   "source": [
    "void printFirst(List<String> list) {\n",
    "  System.out.println(list.get(0).length());\n",
    "}"
   ]
  },
  {
   "cell_type": "markdown",
   "metadata": {},
   "source": [
    "When you have several `.` on the same line, it's not obvious\n",
    "where the code throws a NullPointerException.\n"
   ]
  },
  {
   "cell_type": "markdown",
   "metadata": {
    "slideshow": {
     "slide_type": "slide"
    }
   },
   "source": [
    "## Meaningful NPE error message\n"
   ]
  },
  {
   "cell_type": "code",
   "execution_count": 14,
   "metadata": {},
   "outputs": [
    {
     "ename": "EvalException",
     "evalue": "Cannot read the array length because \"elements\" is null",
     "output_type": "error",
     "traceback": [
      "\u001b[1m\u001b[31m---------------------------------------------------------------------------\u001b[0m",
      "\u001b[1m\u001b[31mjava.lang.NullPointerException: Cannot read the array length because \"elements\" is null\u001b[0m",
      "\u001b[1m\u001b[31m\tat java.base/java.util.List.of(List.java:1033)\u001b[0m",
      "\u001b[1m\u001b[31m\tat .(#37:1)\u001b[0m"
     ]
    }
   ],
   "source": [
    "void printFirst(List<String> list) {\n",
    "  System.out.println(list.get(0).length());\n",
    "}\n",
    "printFirst(List.of(null));"
   ]
  },
  {
   "cell_type": "markdown",
   "metadata": {
    "slideshow": {
     "slide_type": "slide"
    }
   },
   "source": [
    "## Java 14 / Java 15\n",
    "For Java 14, this feature is under the flag\n",
    "```\n",
    "-XX:+ShowCodeDetailsInExceptionMessages\n",
    "```\n",
    "to avoid performance regression.\n"
   ]
  },
  {
   "cell_type": "markdown",
   "metadata": {},
   "source": [
    "Should be enabled by default in Java 15.\n"
   ]
  },
  {
   "cell_type": "markdown",
   "metadata": {},
   "source": [
    "> Note: It's enable for this notebook !\n"
   ]
  },
  {
   "cell_type": "markdown",
   "metadata": {
    "slideshow": {
     "slide_type": "slide"
    }
   },
   "source": [
    "# Some Examples\n"
   ]
  },
  {
   "cell_type": "markdown",
   "metadata": {
    "slideshow": {
     "slide_type": "slide"
    }
   },
   "source": [
    "## Objects method call\n"
   ]
  },
  {
   "cell_type": "code",
   "execution_count": 13,
   "metadata": {},
   "outputs": [
    {
     "ename": "EvalException",
     "evalue": "Cannot invoke \"REPL.$JShell$19B$Person.nameLength()\" because \"REPL.$JShell$33B.nobody\" is null",
     "output_type": "error",
     "traceback": [
      "\u001b[1m\u001b[31m---------------------------------------------------------------------------\u001b[0m",
      "\u001b[1m\u001b[31mjava.lang.NullPointerException: Cannot invoke \"REPL.$JShell$19B$Person.nameLength()\" because \"REPL.$JShell$33B.nobody\" is null\u001b[0m",
      "\u001b[1m\u001b[31m\tat .(#35:1)\u001b[0m"
     ]
    }
   ],
   "source": [
    "record Person(String name) {\n",
    "  int nameLength() {\n",
    "    return name.length();\n",
    "  }\n",
    "}\n",
    "Person nobody = null;\n",
    "System.out.println(nobody.nameLength());"
   ]
  },
  {
   "cell_type": "markdown",
   "metadata": {
    "slideshow": {
     "slide_type": "slide"
    }
   },
   "source": [
    "## Objects field access\n"
   ]
  },
  {
   "cell_type": "code",
   "execution_count": 12,
   "metadata": {},
   "outputs": [
    {
     "ename": "EvalException",
     "evalue": "Cannot invoke \"String.length()\" because \"this.name\" is null",
     "output_type": "error",
     "traceback": [
      "\u001b[1m\u001b[31m---------------------------------------------------------------------------\u001b[0m",
      "\u001b[1m\u001b[31mjava.lang.NullPointerException: Cannot invoke \"String.length()\" because \"this.name\" is null\u001b[0m",
      "\u001b[1m\u001b[31m\tat Person.nameLength(#19:3)\u001b[0m",
      "\u001b[1m\u001b[31m\tat .(#34:1)\u001b[0m"
     ]
    }
   ],
   "source": [
    "record Person(String name) {\n",
    "  int nameLength() {\n",
    "    return name.length();\n",
    "  }\n",
    "}\n",
    "Person nobody = new Person(null);\n",
    "System.out.println(nobody.nameLength());"
   ]
  },
  {
   "cell_type": "markdown",
   "metadata": {
    "slideshow": {
     "slide_type": "slide"
    }
   },
   "source": [
    "## Switch on String or Enum\n"
   ]
  },
  {
   "cell_type": "code",
   "execution_count": 11,
   "metadata": {},
   "outputs": [
    {
     "ename": "EvalException",
     "evalue": "Cannot invoke \"String.hashCode()\" because \"<local0>\" is null",
     "output_type": "error",
     "traceback": [
      "\u001b[1m\u001b[31m---------------------------------------------------------------------------\u001b[0m",
      "\u001b[1m\u001b[31mjava.lang.NullPointerException: Cannot invoke \"String.hashCode()\" because \"<local0>\" is null\u001b[0m",
      "\u001b[1m\u001b[31m\tat .(#32:1)\u001b[0m"
     ]
    }
   ],
   "source": [
    "String s = null;\n",
    "switch(s) {\n",
    "  case \"hello\":\n",
    "}"
   ]
  },
  {
   "cell_type": "code",
   "execution_count": 10,
   "metadata": {},
   "outputs": [
    {
     "ename": "EvalException",
     "evalue": "Cannot invoke \"REPL.$JShell$29$Hero.ordinal()\" because \"REPL.$JShell$30.zero\" is null",
     "output_type": "error",
     "traceback": [
      "\u001b[1m\u001b[31m---------------------------------------------------------------------------\u001b[0m",
      "\u001b[1m\u001b[31mjava.lang.NullPointerException: Cannot invoke \"REPL.$JShell$29$Hero.ordinal()\" because \"REPL.$JShell$30.zero\" is null\u001b[0m",
      "\u001b[1m\u001b[31m\tat .(#31:1)\u001b[0m"
     ]
    }
   ],
   "source": [
    "enum Hero { JEDI, SITH }\n",
    "Hero zero = null;\n",
    "switch(zero) { }"
   ]
  },
  {
   "cell_type": "markdown",
   "metadata": {
    "slideshow": {
     "slide_type": "slide"
    }
   },
   "source": [
    "## Other control flow\n",
    "`synchronized`\n"
   ]
  },
  {
   "cell_type": "code",
   "execution_count": 8,
   "metadata": {},
   "outputs": [
    {
     "ename": "EvalException",
     "evalue": "Cannot enter synchronized block because \"REPL.$JShell$26.o\" is null",
     "output_type": "error",
     "traceback": [
      "\u001b[1m\u001b[31m---------------------------------------------------------------------------\u001b[0m",
      "\u001b[1m\u001b[31mjava.lang.NullPointerException: Cannot enter synchronized block because \"REPL.$JShell$26.o\" is null\u001b[0m",
      "\u001b[1m\u001b[31m\tat .(#27:1)\u001b[0m"
     ]
    }
   ],
   "source": [
    "Object o = null;\n",
    "synchronized(o) { }"
   ]
  },
  {
   "cell_type": "markdown",
   "metadata": {},
   "source": [
    "`throw`\n"
   ]
  },
  {
   "cell_type": "code",
   "execution_count": 9,
   "metadata": {},
   "outputs": [
    {
     "ename": "EvalException",
     "evalue": "Cannot throw exception because \"null\" is null",
     "output_type": "error",
     "traceback": [
      "\u001b[1m\u001b[31m---------------------------------------------------------------------------\u001b[0m",
      "\u001b[1m\u001b[31mjava.lang.NullPointerException: Cannot throw exception because \"null\" is null\u001b[0m",
      "\u001b[1m\u001b[31m\tat .(#28:1)\u001b[0m"
     ]
    }
   ],
   "source": [
    "throw null;"
   ]
  },
  {
   "cell_type": "markdown",
   "metadata": {
    "slideshow": {
     "slide_type": "slide"
    }
   },
   "source": [
    "## Array\n",
    "Array length\n"
   ]
  },
  {
   "cell_type": "code",
   "execution_count": 6,
   "metadata": {},
   "outputs": [
    {
     "ename": "EvalException",
     "evalue": "Cannot read the array length because \"REPL.$JShell$23.array\" is null",
     "output_type": "error",
     "traceback": [
      "\u001b[1m\u001b[31m---------------------------------------------------------------------------\u001b[0m",
      "\u001b[1m\u001b[31mjava.lang.NullPointerException: Cannot read the array length because \"REPL.$JShell$23.array\" is null\u001b[0m",
      "\u001b[1m\u001b[31m\tat .(#24:1)\u001b[0m"
     ]
    }
   ],
   "source": [
    "Object[] array = null;\n",
    "array.length"
   ]
  },
  {
   "cell_type": "markdown",
   "metadata": {},
   "source": [
    "Array access\n"
   ]
  },
  {
   "cell_type": "code",
   "execution_count": 7,
   "metadata": {},
   "outputs": [
    {
     "ename": "EvalException",
     "evalue": "Cannot store to object array because \"REPL.$JShell$23.array\" is null",
     "output_type": "error",
     "traceback": [
      "\u001b[1m\u001b[31m---------------------------------------------------------------------------\u001b[0m",
      "\u001b[1m\u001b[31mjava.lang.NullPointerException: Cannot store to object array because \"REPL.$JShell$23.array\" is null\u001b[0m",
      "\u001b[1m\u001b[31m\tat .(#25:2)\u001b[0m"
     ]
    }
   ],
   "source": [
    " // array[0]\n",
    "array[0] = 3;"
   ]
  },
  {
   "cell_type": "markdown",
   "metadata": {
    "slideshow": {
     "slide_type": "slide"
    }
   },
   "source": [
    "## Wrapper type\n",
    "unboxing\n"
   ]
  },
  {
   "cell_type": "code",
   "execution_count": 5,
   "metadata": {},
   "outputs": [
    {
     "ename": "EvalException",
     "evalue": "Cannot invoke \"java.lang.Integer.intValue()\" because \"REPL.$JShell$21.integer\" is null",
     "output_type": "error",
     "traceback": [
      "\u001b[1m\u001b[31m---------------------------------------------------------------------------\u001b[0m",
      "\u001b[1m\u001b[31mjava.lang.NullPointerException: Cannot invoke \"java.lang.Integer.intValue()\" because \"REPL.$JShell$21.integer\" is null\u001b[0m",
      "\u001b[1m\u001b[31m\tat .(#22:1)\u001b[0m"
     ]
    }
   ],
   "source": [
    "Integer integer = null;\n",
    "int i = integer;"
   ]
  },
  {
   "cell_type": "markdown",
   "metadata": {
    "slideshow": {
     "slide_type": "slide"
    }
   },
   "source": [
    "# Improvements for the next releases\n"
   ]
  },
  {
   "cell_type": "markdown",
   "metadata": {
    "slideshow": {
     "slide_type": "slide"
    }
   },
   "source": [
    "## `Objects.requireNonNull()`\n"
   ]
  },
  {
   "cell_type": "code",
   "execution_count": 4,
   "metadata": {},
   "outputs": [
    {
     "ename": "EvalException",
     "evalue": "null",
     "output_type": "error",
     "traceback": [
      "\u001b[1m\u001b[31m---------------------------------------------------------------------------\u001b[0m",
      "\u001b[1m\u001b[31mjava.lang.NullPointerException: null\u001b[0m",
      "\u001b[1m\u001b[31m\tat java.base/java.util.Objects.requireNonNull(Objects.java:222)\u001b[0m",
      "\u001b[1m\u001b[31m\tat Person.<init>(#19:3)\u001b[0m",
      "\u001b[1m\u001b[31m\tat .(#20:1)\u001b[0m"
     ]
    }
   ],
   "source": [
    "record Person(String name) {\n",
    "  public Person {\n",
    "    Objects.requireNonNull(name);\n",
    "  }\n",
    "}\n",
    "new Person(null);"
   ]
  },
  {
   "cell_type": "markdown",
   "metadata": {},
   "source": [
    "VM uses of the context inside `requireNonNull` and\n",
    "not context where the `requireNonNull` is called.\n"
   ]
  },
  {
   "cell_type": "markdown",
   "metadata": {
    "slideshow": {
     "slide_type": "slide"
    }
   },
   "source": [
    "## Implicit `requireNonNull()`\n",
    "The compiler also insert a couple of `requireNonNull()`\n"
   ]
  },
  {
   "cell_type": "code",
   "execution_count": 2,
   "metadata": {},
   "outputs": [
    {
     "ename": "EvalException",
     "evalue": "null",
     "output_type": "error",
     "traceback": [
      "\u001b[1m\u001b[31m---------------------------------------------------------------------------\u001b[0m",
      "\u001b[1m\u001b[31mjava.lang.NullPointerException: null\u001b[0m",
      "\u001b[1m\u001b[31m\tat java.base/java.util.Objects.requireNonNull(Objects.java:222)\u001b[0m",
      "\u001b[1m\u001b[31m\tat .(#16:1)\u001b[0m"
     ]
    }
   ],
   "source": [
    "String s = null;\n",
    "switch(s) { }"
   ]
  },
  {
   "cell_type": "code",
   "execution_count": 3,
   "metadata": {},
   "outputs": [
    {
     "ename": "EvalException",
     "evalue": "null",
     "output_type": "error",
     "traceback": [
      "\u001b[1m\u001b[31m---------------------------------------------------------------------------\u001b[0m",
      "\u001b[1m\u001b[31mjava.lang.NullPointerException: null\u001b[0m",
      "\u001b[1m\u001b[31m\tat java.base/java.util.Objects.requireNonNull(Objects.java:222)\u001b[0m",
      "\u001b[1m\u001b[31m\tat .(#18:1)\u001b[0m"
     ]
    }
   ],
   "source": [
    "PrintStream out = null;\n",
    "Runnable r = out::println;"
   ]
  },
  {
   "cell_type": "markdown",
   "metadata": {
    "slideshow": {
     "slide_type": "slide"
    }
   },
   "source": [
    "## Implicit `requireNonNull()`\n",
    "The compiler inserts a `requireNonNull()` if the outer class is null\n"
   ]
  },
  {
   "cell_type": "code",
   "execution_count": 1,
   "metadata": {},
   "outputs": [
    {
     "ename": "EvalException",
     "evalue": "null",
     "output_type": "error",
     "traceback": [
      "\u001b[1m\u001b[31m---------------------------------------------------------------------------\u001b[0m",
      "\u001b[1m\u001b[31mjava.lang.NullPointerException: null\u001b[0m",
      "\u001b[1m\u001b[31m\tat java.base/java.util.Objects.requireNonNull(Objects.java:222)\u001b[0m",
      "\u001b[1m\u001b[31m\tat .(#14:1)\u001b[0m"
     ]
    }
   ],
   "source": [
    "class A {\n",
    "  class B {\n",
    "  }\n",
    "}\n",
    "A a = null;\n",
    "a.new B();"
   ]
  },
  {
   "cell_type": "markdown",
   "metadata": {
    "slideshow": {
     "slide_type": "slide"
    }
   },
   "source": [
    "# All those cases need a little more love :)\n"
   ]
  }
 ],
 "metadata": {
  "celltoolbar": "Slideshow",
  "kernelspec": {
   "display_name": "Java",
   "language": "java",
   "name": "java"
  },
  "language_info": {
   "codemirror_mode": "java",
   "file_extension": ".jshell",
   "mimetype": "text/x-java-source",
   "name": "Java",
   "pygments_lexer": "java",
   "version": "15-ea+6-123"
  },
  "rise": {
   "autolaunch": true
  }
 },
 "nbformat": 4,
 "nbformat_minor": 2
}
